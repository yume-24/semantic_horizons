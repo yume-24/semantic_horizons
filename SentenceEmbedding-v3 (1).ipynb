{
 "cells": [
  {
   "cell_type": "code",
   "id": "491e34d8-ffec-4066-bd8d-440ab399c091",
   "metadata": {
    "ExecuteTime": {
     "end_time": "2025-06-18T03:35:50.625911Z",
     "start_time": "2025-06-18T03:34:44.626723Z"
    }
   },
   "source": [
    "!pip install sentence-transformers matplotlib scikit-learn\n",
    "!pip install spacy gensim nltk pyLDAvis\n",
    "!pip install \"numpy<2.0\" --upgrade --force-reinstall\n",
    "!pip uninstall -y nltk\n",
    "!pip install nltk --upgrade --no-cache-dir\n"
   ],
   "outputs": [
    {
     "name": "stdout",
     "output_type": "stream",
     "text": [
      "Requirement already satisfied: sentence-transformers in ./.venv/lib/python3.9/site-packages (4.1.0)\r\n",
      "Requirement already satisfied: matplotlib in ./.venv/lib/python3.9/site-packages (3.9.4)\r\n",
      "Requirement already satisfied: scikit-learn in ./.venv/lib/python3.9/site-packages (1.6.1)\r\n",
      "Requirement already satisfied: transformers<5.0.0,>=4.41.0 in ./.venv/lib/python3.9/site-packages (from sentence-transformers) (4.52.4)\r\n",
      "Requirement already satisfied: tqdm in ./.venv/lib/python3.9/site-packages (from sentence-transformers) (4.67.1)\r\n",
      "Requirement already satisfied: torch>=1.11.0 in ./.venv/lib/python3.9/site-packages (from sentence-transformers) (2.7.1)\r\n",
      "Requirement already satisfied: scipy in ./.venv/lib/python3.9/site-packages (from sentence-transformers) (1.13.1)\r\n",
      "Requirement already satisfied: huggingface-hub>=0.20.0 in ./.venv/lib/python3.9/site-packages (from sentence-transformers) (0.33.0)\r\n",
      "Requirement already satisfied: Pillow in ./.venv/lib/python3.9/site-packages (from sentence-transformers) (11.2.1)\r\n",
      "Requirement already satisfied: typing_extensions>=4.5.0 in ./.venv/lib/python3.9/site-packages (from sentence-transformers) (4.14.0)\r\n",
      "Requirement already satisfied: filelock in ./.venv/lib/python3.9/site-packages (from transformers<5.0.0,>=4.41.0->sentence-transformers) (3.18.0)\r\n",
      "Requirement already satisfied: numpy>=1.17 in ./.venv/lib/python3.9/site-packages (from transformers<5.0.0,>=4.41.0->sentence-transformers) (2.0.2)\r\n",
      "Requirement already satisfied: packaging>=20.0 in ./.venv/lib/python3.9/site-packages (from transformers<5.0.0,>=4.41.0->sentence-transformers) (25.0)\r\n",
      "Requirement already satisfied: pyyaml>=5.1 in ./.venv/lib/python3.9/site-packages (from transformers<5.0.0,>=4.41.0->sentence-transformers) (6.0.2)\r\n",
      "Requirement already satisfied: regex!=2019.12.17 in ./.venv/lib/python3.9/site-packages (from transformers<5.0.0,>=4.41.0->sentence-transformers) (2024.11.6)\r\n",
      "Requirement already satisfied: requests in ./.venv/lib/python3.9/site-packages (from transformers<5.0.0,>=4.41.0->sentence-transformers) (2.32.4)\r\n",
      "Requirement already satisfied: tokenizers<0.22,>=0.21 in ./.venv/lib/python3.9/site-packages (from transformers<5.0.0,>=4.41.0->sentence-transformers) (0.21.1)\r\n",
      "Requirement already satisfied: safetensors>=0.4.3 in ./.venv/lib/python3.9/site-packages (from transformers<5.0.0,>=4.41.0->sentence-transformers) (0.5.3)\r\n",
      "Requirement already satisfied: fsspec>=2023.5.0 in ./.venv/lib/python3.9/site-packages (from huggingface-hub>=0.20.0->sentence-transformers) (2025.5.1)\r\n",
      "Requirement already satisfied: hf-xet<2.0.0,>=1.1.2 in ./.venv/lib/python3.9/site-packages (from huggingface-hub>=0.20.0->sentence-transformers) (1.1.4)\r\n",
      "Requirement already satisfied: contourpy>=1.0.1 in ./.venv/lib/python3.9/site-packages (from matplotlib) (1.3.0)\r\n",
      "Requirement already satisfied: cycler>=0.10 in ./.venv/lib/python3.9/site-packages (from matplotlib) (0.12.1)\r\n",
      "Requirement already satisfied: fonttools>=4.22.0 in ./.venv/lib/python3.9/site-packages (from matplotlib) (4.58.4)\r\n",
      "Requirement already satisfied: kiwisolver>=1.3.1 in ./.venv/lib/python3.9/site-packages (from matplotlib) (1.4.7)\r\n",
      "Requirement already satisfied: pyparsing>=2.3.1 in ./.venv/lib/python3.9/site-packages (from matplotlib) (3.2.3)\r\n",
      "Requirement already satisfied: python-dateutil>=2.7 in ./.venv/lib/python3.9/site-packages (from matplotlib) (2.9.0.post0)\r\n",
      "Requirement already satisfied: importlib-resources>=3.2.0 in ./.venv/lib/python3.9/site-packages (from matplotlib) (6.5.2)\r\n",
      "Requirement already satisfied: joblib>=1.2.0 in ./.venv/lib/python3.9/site-packages (from scikit-learn) (1.5.1)\r\n",
      "Requirement already satisfied: threadpoolctl>=3.1.0 in ./.venv/lib/python3.9/site-packages (from scikit-learn) (3.6.0)\r\n",
      "Requirement already satisfied: zipp>=3.1.0 in ./.venv/lib/python3.9/site-packages (from importlib-resources>=3.2.0->matplotlib) (3.23.0)\r\n",
      "Requirement already satisfied: six>=1.5 in ./.venv/lib/python3.9/site-packages (from python-dateutil>=2.7->matplotlib) (1.17.0)\r\n",
      "Requirement already satisfied: sympy>=1.13.3 in ./.venv/lib/python3.9/site-packages (from torch>=1.11.0->sentence-transformers) (1.14.0)\r\n",
      "Requirement already satisfied: networkx in ./.venv/lib/python3.9/site-packages (from torch>=1.11.0->sentence-transformers) (3.2.1)\r\n",
      "Requirement already satisfied: jinja2 in ./.venv/lib/python3.9/site-packages (from torch>=1.11.0->sentence-transformers) (3.1.6)\r\n",
      "Requirement already satisfied: mpmath<1.4,>=1.1.0 in ./.venv/lib/python3.9/site-packages (from sympy>=1.13.3->torch>=1.11.0->sentence-transformers) (1.3.0)\r\n",
      "Requirement already satisfied: MarkupSafe>=2.0 in ./.venv/lib/python3.9/site-packages (from jinja2->torch>=1.11.0->sentence-transformers) (3.0.2)\r\n",
      "Requirement already satisfied: charset_normalizer<4,>=2 in ./.venv/lib/python3.9/site-packages (from requests->transformers<5.0.0,>=4.41.0->sentence-transformers) (3.4.2)\r\n",
      "Requirement already satisfied: idna<4,>=2.5 in ./.venv/lib/python3.9/site-packages (from requests->transformers<5.0.0,>=4.41.0->sentence-transformers) (3.10)\r\n",
      "Requirement already satisfied: urllib3<3,>=1.21.1 in ./.venv/lib/python3.9/site-packages (from requests->transformers<5.0.0,>=4.41.0->sentence-transformers) (2.4.0)\r\n",
      "Requirement already satisfied: certifi>=2017.4.17 in ./.venv/lib/python3.9/site-packages (from requests->transformers<5.0.0,>=4.41.0->sentence-transformers) (2025.6.15)\r\n",
      "Collecting spacy\r\n",
      "  Downloading spacy-3.8.7-cp39-cp39-macosx_11_0_arm64.whl.metadata (27 kB)\r\n",
      "Collecting gensim\r\n",
      "  Downloading gensim-4.3.3-cp39-cp39-macosx_11_0_arm64.whl.metadata (8.3 kB)\r\n",
      "Collecting nltk\r\n",
      "  Downloading nltk-3.9.1-py3-none-any.whl.metadata (2.9 kB)\r\n",
      "Collecting pyLDAvis\r\n",
      "  Downloading pyLDAvis-3.4.1-py3-none-any.whl.metadata (4.2 kB)\r\n",
      "Collecting spacy-legacy<3.1.0,>=3.0.11 (from spacy)\r\n",
      "  Downloading spacy_legacy-3.0.12-py2.py3-none-any.whl.metadata (2.8 kB)\r\n",
      "Collecting spacy-loggers<2.0.0,>=1.0.0 (from spacy)\r\n",
      "  Downloading spacy_loggers-1.0.5-py3-none-any.whl.metadata (23 kB)\r\n",
      "Collecting murmurhash<1.1.0,>=0.28.0 (from spacy)\r\n",
      "  Downloading murmurhash-1.0.13-cp39-cp39-macosx_11_0_arm64.whl.metadata (2.2 kB)\r\n",
      "Collecting cymem<2.1.0,>=2.0.2 (from spacy)\r\n",
      "  Downloading cymem-2.0.11-cp39-cp39-macosx_11_0_arm64.whl.metadata (8.5 kB)\r\n",
      "Collecting preshed<3.1.0,>=3.0.2 (from spacy)\r\n",
      "  Downloading preshed-3.0.10-cp39-cp39-macosx_11_0_arm64.whl.metadata (2.4 kB)\r\n",
      "Collecting thinc<8.4.0,>=8.3.4 (from spacy)\r\n",
      "  Downloading thinc-8.3.6-cp39-cp39-macosx_11_0_arm64.whl.metadata (15 kB)\r\n",
      "Collecting wasabi<1.2.0,>=0.9.1 (from spacy)\r\n",
      "  Downloading wasabi-1.1.3-py3-none-any.whl.metadata (28 kB)\r\n",
      "Collecting srsly<3.0.0,>=2.4.3 (from spacy)\r\n",
      "  Downloading srsly-2.5.1-cp39-cp39-macosx_11_0_arm64.whl.metadata (19 kB)\r\n",
      "Collecting catalogue<2.1.0,>=2.0.6 (from spacy)\r\n",
      "  Downloading catalogue-2.0.10-py3-none-any.whl.metadata (14 kB)\r\n",
      "Collecting weasel<0.5.0,>=0.1.0 (from spacy)\r\n",
      "  Downloading weasel-0.4.1-py3-none-any.whl.metadata (4.6 kB)\r\n",
      "Collecting typer<1.0.0,>=0.3.0 (from spacy)\r\n",
      "  Downloading typer-0.16.0-py3-none-any.whl.metadata (15 kB)\r\n",
      "Requirement already satisfied: tqdm<5.0.0,>=4.38.0 in ./.venv/lib/python3.9/site-packages (from spacy) (4.67.1)\r\n",
      "Requirement already satisfied: numpy>=1.19.0 in ./.venv/lib/python3.9/site-packages (from spacy) (2.0.2)\r\n",
      "Requirement already satisfied: requests<3.0.0,>=2.13.0 in ./.venv/lib/python3.9/site-packages (from spacy) (2.32.4)\r\n",
      "Collecting pydantic!=1.8,!=1.8.1,<3.0.0,>=1.7.4 (from spacy)\r\n",
      "  Downloading pydantic-2.11.7-py3-none-any.whl.metadata (67 kB)\r\n",
      "Requirement already satisfied: jinja2 in ./.venv/lib/python3.9/site-packages (from spacy) (3.1.6)\r\n",
      "Requirement already satisfied: setuptools in ./.venv/lib/python3.9/site-packages (from spacy) (68.2.0)\r\n",
      "Requirement already satisfied: packaging>=20.0 in ./.venv/lib/python3.9/site-packages (from spacy) (25.0)\r\n",
      "Collecting langcodes<4.0.0,>=3.2.0 (from spacy)\r\n",
      "  Downloading langcodes-3.5.0-py3-none-any.whl.metadata (29 kB)\r\n",
      "Collecting language-data>=1.2 (from langcodes<4.0.0,>=3.2.0->spacy)\r\n",
      "  Downloading language_data-1.3.0-py3-none-any.whl.metadata (4.3 kB)\r\n",
      "Collecting annotated-types>=0.6.0 (from pydantic!=1.8,!=1.8.1,<3.0.0,>=1.7.4->spacy)\r\n",
      "  Downloading annotated_types-0.7.0-py3-none-any.whl.metadata (15 kB)\r\n",
      "Collecting pydantic-core==2.33.2 (from pydantic!=1.8,!=1.8.1,<3.0.0,>=1.7.4->spacy)\r\n",
      "  Downloading pydantic_core-2.33.2-cp39-cp39-macosx_11_0_arm64.whl.metadata (6.8 kB)\r\n",
      "Requirement already satisfied: typing-extensions>=4.12.2 in ./.venv/lib/python3.9/site-packages (from pydantic!=1.8,!=1.8.1,<3.0.0,>=1.7.4->spacy) (4.14.0)\r\n",
      "Collecting typing-inspection>=0.4.0 (from pydantic!=1.8,!=1.8.1,<3.0.0,>=1.7.4->spacy)\r\n",
      "  Downloading typing_inspection-0.4.1-py3-none-any.whl.metadata (2.6 kB)\r\n",
      "Requirement already satisfied: charset_normalizer<4,>=2 in ./.venv/lib/python3.9/site-packages (from requests<3.0.0,>=2.13.0->spacy) (3.4.2)\r\n",
      "Requirement already satisfied: idna<4,>=2.5 in ./.venv/lib/python3.9/site-packages (from requests<3.0.0,>=2.13.0->spacy) (3.10)\r\n",
      "Requirement already satisfied: urllib3<3,>=1.21.1 in ./.venv/lib/python3.9/site-packages (from requests<3.0.0,>=2.13.0->spacy) (2.4.0)\r\n",
      "Requirement already satisfied: certifi>=2017.4.17 in ./.venv/lib/python3.9/site-packages (from requests<3.0.0,>=2.13.0->spacy) (2025.6.15)\r\n",
      "Collecting blis<1.4.0,>=1.3.0 (from thinc<8.4.0,>=8.3.4->spacy)\r\n",
      "  Downloading blis-1.3.0.tar.gz (2.5 MB)\r\n",
      "\u001B[2K     \u001B[90m━━━━━━━━━━━━━━━━━━━━━━━━━━━━━━━━━━━━━━━━\u001B[0m \u001B[32m2.5/2.5 MB\u001B[0m \u001B[31m9.7 MB/s\u001B[0m eta \u001B[36m0:00:00\u001B[0mta \u001B[36m0:00:01\u001B[0m\r\n",
      "\u001B[?25h  Installing build dependencies ... \u001B[?25ldone\r\n",
      "\u001B[?25h  Getting requirements to build wheel ... \u001B[?25ldone\r\n",
      "\u001B[?25h  Preparing metadata (pyproject.toml) ... \u001B[?25ldone\r\n",
      "\u001B[?25hCollecting confection<1.0.0,>=0.0.1 (from thinc<8.4.0,>=8.3.4->spacy)\r\n",
      "  Downloading confection-0.1.5-py3-none-any.whl.metadata (19 kB)\r\n",
      "Collecting click>=8.0.0 (from typer<1.0.0,>=0.3.0->spacy)\r\n",
      "  Downloading click-8.1.8-py3-none-any.whl.metadata (2.3 kB)\r\n",
      "Collecting shellingham>=1.3.0 (from typer<1.0.0,>=0.3.0->spacy)\r\n",
      "  Downloading shellingham-1.5.4-py2.py3-none-any.whl.metadata (3.5 kB)\r\n",
      "Collecting rich>=10.11.0 (from typer<1.0.0,>=0.3.0->spacy)\r\n",
      "  Downloading rich-14.0.0-py3-none-any.whl.metadata (18 kB)\r\n",
      "Collecting cloudpathlib<1.0.0,>=0.7.0 (from weasel<0.5.0,>=0.1.0->spacy)\r\n",
      "  Downloading cloudpathlib-0.21.1-py3-none-any.whl.metadata (14 kB)\r\n",
      "Collecting smart-open<8.0.0,>=5.2.1 (from weasel<0.5.0,>=0.1.0->spacy)\r\n",
      "  Downloading smart_open-7.1.0-py3-none-any.whl.metadata (24 kB)\r\n",
      "Collecting wrapt (from smart-open<8.0.0,>=5.2.1->weasel<0.5.0,>=0.1.0->spacy)\r\n",
      "  Downloading wrapt-1.17.2-cp39-cp39-macosx_11_0_arm64.whl.metadata (6.4 kB)\r\n",
      "INFO: pip is looking at multiple versions of gensim to determine which version is compatible with other requirements. This could take a while.\r\n",
      "Collecting gensim\r\n",
      "  Downloading gensim-4.3.2-cp39-cp39-macosx_11_0_arm64.whl.metadata (8.5 kB)\r\n",
      "Requirement already satisfied: scipy>=1.7.0 in ./.venv/lib/python3.9/site-packages (from gensim) (1.13.1)\r\n",
      "Requirement already satisfied: joblib in ./.venv/lib/python3.9/site-packages (from nltk) (1.5.1)\r\n",
      "Requirement already satisfied: regex>=2021.8.3 in ./.venv/lib/python3.9/site-packages (from nltk) (2024.11.6)\r\n",
      "Requirement already satisfied: pandas>=2.0.0 in ./.venv/lib/python3.9/site-packages (from pyLDAvis) (2.3.0)\r\n",
      "Collecting numexpr (from pyLDAvis)\r\n",
      "  Downloading numexpr-2.10.2-cp39-cp39-macosx_11_0_arm64.whl.metadata (8.1 kB)\r\n",
      "Collecting funcy (from pyLDAvis)\r\n",
      "  Downloading funcy-2.0-py2.py3-none-any.whl.metadata (5.9 kB)\r\n",
      "Requirement already satisfied: scikit-learn>=1.0.0 in ./.venv/lib/python3.9/site-packages (from pyLDAvis) (1.6.1)\r\n",
      "Collecting marisa-trie>=1.1.0 (from language-data>=1.2->langcodes<4.0.0,>=3.2.0->spacy)\r\n",
      "  Downloading marisa_trie-1.2.1-cp39-cp39-macosx_11_0_arm64.whl.metadata (9.0 kB)\r\n",
      "Requirement already satisfied: python-dateutil>=2.8.2 in ./.venv/lib/python3.9/site-packages (from pandas>=2.0.0->pyLDAvis) (2.9.0.post0)\r\n",
      "Requirement already satisfied: pytz>=2020.1 in ./.venv/lib/python3.9/site-packages (from pandas>=2.0.0->pyLDAvis) (2025.2)\r\n",
      "Requirement already satisfied: tzdata>=2022.7 in ./.venv/lib/python3.9/site-packages (from pandas>=2.0.0->pyLDAvis) (2025.2)\r\n",
      "Requirement already satisfied: six>=1.5 in ./.venv/lib/python3.9/site-packages (from python-dateutil>=2.8.2->pandas>=2.0.0->pyLDAvis) (1.17.0)\r\n",
      "Collecting markdown-it-py>=2.2.0 (from rich>=10.11.0->typer<1.0.0,>=0.3.0->spacy)\r\n",
      "  Downloading markdown_it_py-3.0.0-py3-none-any.whl.metadata (6.9 kB)\r\n",
      "Requirement already satisfied: pygments<3.0.0,>=2.13.0 in ./.venv/lib/python3.9/site-packages (from rich>=10.11.0->typer<1.0.0,>=0.3.0->spacy) (2.19.1)\r\n",
      "Collecting mdurl~=0.1 (from markdown-it-py>=2.2.0->rich>=10.11.0->typer<1.0.0,>=0.3.0->spacy)\r\n",
      "  Downloading mdurl-0.1.2-py3-none-any.whl.metadata (1.6 kB)\r\n",
      "Requirement already satisfied: threadpoolctl>=3.1.0 in ./.venv/lib/python3.9/site-packages (from scikit-learn>=1.0.0->pyLDAvis) (3.6.0)\r\n",
      "Requirement already satisfied: MarkupSafe>=2.0 in ./.venv/lib/python3.9/site-packages (from jinja2->spacy) (3.0.2)\r\n",
      "Downloading spacy-3.8.7-cp39-cp39-macosx_11_0_arm64.whl (6.3 MB)\r\n",
      "\u001B[2K   \u001B[90m━━━━━━━━━━━━━━━━━━━━━━━━━━━━━━━━━━━━━━━━\u001B[0m \u001B[32m6.3/6.3 MB\u001B[0m \u001B[31m26.3 MB/s\u001B[0m eta \u001B[36m0:00:00\u001B[0ma \u001B[36m0:00:01\u001B[0m\r\n",
      "\u001B[?25hDownloading catalogue-2.0.10-py3-none-any.whl (17 kB)\r\n",
      "Downloading cymem-2.0.11-cp39-cp39-macosx_11_0_arm64.whl (42 kB)\r\n",
      "Downloading langcodes-3.5.0-py3-none-any.whl (182 kB)\r\n",
      "Downloading murmurhash-1.0.13-cp39-cp39-macosx_11_0_arm64.whl (26 kB)\r\n",
      "Downloading preshed-3.0.10-cp39-cp39-macosx_11_0_arm64.whl (129 kB)\r\n",
      "Downloading pydantic-2.11.7-py3-none-any.whl (444 kB)\r\n",
      "Downloading pydantic_core-2.33.2-cp39-cp39-macosx_11_0_arm64.whl (1.9 MB)\r\n",
      "\u001B[2K   \u001B[90m━━━━━━━━━━━━━━━━━━━━━━━━━━━━━━━━━━━━━━━━\u001B[0m \u001B[32m1.9/1.9 MB\u001B[0m \u001B[31m46.4 MB/s\u001B[0m eta \u001B[36m0:00:00\u001B[0m\r\n",
      "\u001B[?25hDownloading spacy_legacy-3.0.12-py2.py3-none-any.whl (29 kB)\r\n",
      "Downloading spacy_loggers-1.0.5-py3-none-any.whl (22 kB)\r\n",
      "Downloading srsly-2.5.1-cp39-cp39-macosx_11_0_arm64.whl (635 kB)\r\n",
      "\u001B[2K   \u001B[90m━━━━━━━━━━━━━━━━━━━━━━━━━━━━━━━━━━━━━━━━\u001B[0m \u001B[32m635.7/635.7 kB\u001B[0m \u001B[31m35.3 MB/s\u001B[0m eta \u001B[36m0:00:00\u001B[0m\r\n",
      "\u001B[?25hDownloading thinc-8.3.6-cp39-cp39-macosx_11_0_arm64.whl (848 kB)\r\n",
      "\u001B[2K   \u001B[90m━━━━━━━━━━━━━━━━━━━━━━━━━━━━━━━━━━━━━━━━\u001B[0m \u001B[32m848.5/848.5 kB\u001B[0m \u001B[31m33.7 MB/s\u001B[0m eta \u001B[36m0:00:00\u001B[0m\r\n",
      "\u001B[?25hDownloading confection-0.1.5-py3-none-any.whl (35 kB)\r\n",
      "Downloading typer-0.16.0-py3-none-any.whl (46 kB)\r\n",
      "Downloading wasabi-1.1.3-py3-none-any.whl (27 kB)\r\n",
      "Downloading weasel-0.4.1-py3-none-any.whl (50 kB)\r\n",
      "Downloading cloudpathlib-0.21.1-py3-none-any.whl (52 kB)\r\n",
      "Downloading smart_open-7.1.0-py3-none-any.whl (61 kB)\r\n",
      "Downloading gensim-4.3.2-cp39-cp39-macosx_11_0_arm64.whl (24.0 MB)\r\n",
      "\u001B[2K   \u001B[90m━━━━━━━━━━━━━━━━━━━━━━━━━━━━━━━━━━━━━━━━\u001B[0m \u001B[32m24.0/24.0 MB\u001B[0m \u001B[31m12.7 MB/s\u001B[0m eta \u001B[36m0:00:00\u001B[0ma \u001B[36m0:00:01\u001B[0m\r\n",
      "\u001B[?25hDownloading nltk-3.9.1-py3-none-any.whl (1.5 MB)\r\n",
      "\u001B[2K   \u001B[90m━━━━━━━━━━━━━━━━━━━━━━━━━━━━━━━━━━━━━━━━\u001B[0m \u001B[32m1.5/1.5 MB\u001B[0m \u001B[31m50.5 MB/s\u001B[0m eta \u001B[36m0:00:00\u001B[0m\r\n",
      "\u001B[?25hDownloading pyLDAvis-3.4.1-py3-none-any.whl (2.6 MB)\r\n",
      "\u001B[2K   \u001B[90m━━━━━━━━━━━━━━━━━━━━━━━━━━━━━━━━━━━━━━━━\u001B[0m \u001B[32m2.6/2.6 MB\u001B[0m \u001B[31m58.7 MB/s\u001B[0m eta \u001B[36m0:00:00\u001B[0m\r\n",
      "\u001B[?25hDownloading annotated_types-0.7.0-py3-none-any.whl (13 kB)\r\n",
      "Downloading click-8.1.8-py3-none-any.whl (98 kB)\r\n",
      "Downloading language_data-1.3.0-py3-none-any.whl (5.4 MB)\r\n",
      "\u001B[2K   \u001B[90m━━━━━━━━━━━━━━━━━━━━━━━━━━━━━━━━━━━━━━━━\u001B[0m \u001B[32m5.4/5.4 MB\u001B[0m \u001B[31m60.6 MB/s\u001B[0m eta \u001B[36m0:00:00\u001B[0m\r\n",
      "\u001B[?25hDownloading marisa_trie-1.2.1-cp39-cp39-macosx_11_0_arm64.whl (175 kB)\r\n",
      "Downloading rich-14.0.0-py3-none-any.whl (243 kB)\r\n",
      "Downloading markdown_it_py-3.0.0-py3-none-any.whl (87 kB)\r\n",
      "Downloading mdurl-0.1.2-py3-none-any.whl (10.0 kB)\r\n",
      "Downloading shellingham-1.5.4-py2.py3-none-any.whl (9.8 kB)\r\n",
      "Downloading typing_inspection-0.4.1-py3-none-any.whl (14 kB)\r\n",
      "Downloading funcy-2.0-py2.py3-none-any.whl (30 kB)\r\n",
      "Downloading numexpr-2.10.2-cp39-cp39-macosx_11_0_arm64.whl (134 kB)\r\n",
      "Downloading wrapt-1.17.2-cp39-cp39-macosx_11_0_arm64.whl (38 kB)\r\n",
      "Building wheels for collected packages: blis\r\n",
      "  Building wheel for blis (pyproject.toml) ... \u001B[?25ldone\r\n",
      "\u001B[?25h  Created wheel for blis: filename=blis-1.3.0-cp39-cp39-macosx_10_9_universal2.whl size=1480604 sha256=ae2378e07fadbef36a60ef90d36455289e296e50a9d69637c338f3fd27c3ba57\r\n",
      "  Stored in directory: /Users/yume/Library/Caches/pip/wheels/2b/75/f4/e540f5b1ef1d2610200886c45092f5be21cfe8309ccc48c577\r\n",
      "Successfully built blis\r\n",
      "Installing collected packages: funcy, cymem, wrapt, wasabi, typing-inspection, spacy-loggers, spacy-legacy, shellingham, pydantic-core, numexpr, murmurhash, mdurl, marisa-trie, cloudpathlib, click, catalogue, blis, annotated-types, srsly, smart-open, pydantic, preshed, nltk, markdown-it-py, language-data, rich, langcodes, gensim, confection, typer, thinc, pyLDAvis, weasel, spacy\r\n",
      "\u001B[2K   \u001B[90m━━━━━━━━━━━━━━━━━━━━━━━━━━━━━━━━━━━━━━━━\u001B[0m \u001B[32m34/34\u001B[0m [spacy]m33/34\u001B[0m [spacy]is]data]]\r\n",
      "\u001B[1A\u001B[2KSuccessfully installed annotated-types-0.7.0 blis-1.3.0 catalogue-2.0.10 click-8.1.8 cloudpathlib-0.21.1 confection-0.1.5 cymem-2.0.11 funcy-2.0 gensim-4.3.2 langcodes-3.5.0 language-data-1.3.0 marisa-trie-1.2.1 markdown-it-py-3.0.0 mdurl-0.1.2 murmurhash-1.0.13 nltk-3.9.1 numexpr-2.10.2 preshed-3.0.10 pyLDAvis-3.4.1 pydantic-2.11.7 pydantic-core-2.33.2 rich-14.0.0 shellingham-1.5.4 smart-open-7.1.0 spacy-3.8.7 spacy-legacy-3.0.12 spacy-loggers-1.0.5 srsly-2.5.1 thinc-8.3.6 typer-0.16.0 typing-inspection-0.4.1 wasabi-1.1.3 weasel-0.4.1 wrapt-1.17.2\r\n",
      "Collecting numpy<2.0\r\n",
      "  Downloading numpy-1.26.4-cp39-cp39-macosx_11_0_arm64.whl.metadata (61 kB)\r\n",
      "Downloading numpy-1.26.4-cp39-cp39-macosx_11_0_arm64.whl (14.0 MB)\r\n",
      "\u001B[2K   \u001B[90m━━━━━━━━━━━━━━━━━━━━━━━━━━━━━━━━━━━━━━━━\u001B[0m \u001B[32m14.0/14.0 MB\u001B[0m \u001B[31m32.4 MB/s\u001B[0m eta \u001B[36m0:00:00\u001B[0ma \u001B[36m0:00:01\u001B[0m\r\n",
      "\u001B[?25hInstalling collected packages: numpy\r\n",
      "  Attempting uninstall: numpy\r\n",
      "    Found existing installation: numpy 2.0.2\r\n",
      "    Uninstalling numpy-2.0.2:\r\n",
      "      Successfully uninstalled numpy-2.0.2\r\n",
      "\u001B[31mERROR: pip's dependency resolver does not currently take into account all the packages that are installed. This behaviour is the source of the following dependency conflicts.\r\n",
      "thinc 8.3.6 requires numpy<3.0.0,>=2.0.0, but you have numpy 1.26.4 which is incompatible.\u001B[0m\u001B[31m\r\n",
      "\u001B[0mSuccessfully installed numpy-1.26.4\r\n",
      "Found existing installation: nltk 3.9.1\r\n",
      "Uninstalling nltk-3.9.1:\r\n",
      "  Successfully uninstalled nltk-3.9.1\r\n",
      "Collecting nltk\r\n",
      "  Downloading nltk-3.9.1-py3-none-any.whl.metadata (2.9 kB)\r\n",
      "Requirement already satisfied: click in ./.venv/lib/python3.9/site-packages (from nltk) (8.1.8)\r\n",
      "Requirement already satisfied: joblib in ./.venv/lib/python3.9/site-packages (from nltk) (1.5.1)\r\n",
      "Requirement already satisfied: regex>=2021.8.3 in ./.venv/lib/python3.9/site-packages (from nltk) (2024.11.6)\r\n",
      "Requirement already satisfied: tqdm in ./.venv/lib/python3.9/site-packages (from nltk) (4.67.1)\r\n",
      "Downloading nltk-3.9.1-py3-none-any.whl (1.5 MB)\r\n",
      "\u001B[2K   \u001B[90m━━━━━━━━━━━━━━━━━━━━━━━━━━━━━━━━━━━━━━━━\u001B[0m \u001B[32m1.5/1.5 MB\u001B[0m \u001B[31m26.2 MB/s\u001B[0m eta \u001B[36m0:00:00\u001B[0m\r\n",
      "\u001B[?25hInstalling collected packages: nltk\r\n",
      "Successfully installed nltk-3.9.1\r\n"
     ]
    }
   ],
   "execution_count": 1
  },
  {
   "cell_type": "code",
   "id": "53450614-8acd-4ffc-8e98-9818e11f7c06",
   "metadata": {
    "editable": true,
    "slideshow": {
     "slide_type": ""
    },
    "tags": [],
    "ExecuteTime": {
     "end_time": "2025-06-18T03:36:27.958906Z",
     "start_time": "2025-06-18T03:36:24.208501Z"
    }
   },
   "source": [
    "from sentence_transformers import SentenceTransformer\n",
    "import matplotlib.pyplot as plt\n",
    "from sklearn.decomposition import PCA\n",
    "from sklearn.manifold import TSNE\n",
    "from sklearn.metrics.pairwise import cosine_similarity\n",
    "from scipy.spatial import ConvexHull\n",
    "import numpy as np\n",
    "import pandas as pd\n",
    "import nltk\n",
    "nltk.download('punkt')\n",
    "nltk.download('punkt_tab')\n",
    "from nltk.tokenize import word_tokenize \n",
    "from nltk.tokenize import sent_tokenize\n",
    "from nltk.corpus import stopwords\n",
    "import string"
   ],
   "outputs": [
    {
     "name": "stderr",
     "output_type": "stream",
     "text": [
      "/Users/yume/PycharmProjects/semantic_horizons/.venv/lib/python3.9/site-packages/urllib3/__init__.py:35: NotOpenSSLWarning: urllib3 v2 only supports OpenSSL 1.1.1+, currently the 'ssl' module is compiled with 'LibreSSL 2.8.3'. See: https://github.com/urllib3/urllib3/issues/3020\n",
      "  warnings.warn(\n",
      "/Users/yume/PycharmProjects/semantic_horizons/.venv/lib/python3.9/site-packages/tqdm/auto.py:21: TqdmWarning: IProgress not found. Please update jupyter and ipywidgets. See https://ipywidgets.readthedocs.io/en/stable/user_install.html\n",
      "  from .autonotebook import tqdm as notebook_tqdm\n",
      "[nltk_data] Downloading package punkt to /Users/yume/nltk_data...\n",
      "[nltk_data]   Package punkt is already up-to-date!\n",
      "[nltk_data] Downloading package punkt_tab to /Users/yume/nltk_data...\n",
      "[nltk_data]   Package punkt_tab is already up-to-date!\n"
     ]
    }
   ],
   "execution_count": 2
  },
  {
   "cell_type": "code",
   "id": "56578a4c-4471-4bb3-befd-0ba6b4e95891",
   "metadata": {
    "ExecuteTime": {
     "end_time": "2025-06-18T03:36:39.720646Z",
     "start_time": "2025-06-18T03:36:30.948959Z"
    }
   },
   "source": [
    "# Load a sentence embedding model\n",
    "model = SentenceTransformer('all-MiniLM-L6-v2')  # small but high-quality model"
   ],
   "outputs": [],
   "execution_count": 3
  },
  {
   "cell_type": "markdown",
   "id": "af228c55-5929-489a-87b8-d56b4d621cdc",
   "metadata": {},
   "source": [
    "## acutual polished pipeline "
   ]
  },
  {
   "cell_type": "code",
   "id": "015fb3cc-09c4-4213-8a33-cb3c064aa12a",
   "metadata": {
    "ExecuteTime": {
     "end_time": "2025-06-18T03:36:43.805943Z",
     "start_time": "2025-06-18T03:36:43.802489Z"
    }
   },
   "source": [
    "try:\n",
    "    from umap import UMAP\n",
    "    has_umap = True\n",
    "except ImportError:\n",
    "    has_umap = False"
   ],
   "outputs": [],
   "execution_count": 4
  },
  {
   "cell_type": "code",
   "execution_count": 6,
   "id": "12a1a800-865a-49dc-a250-b14091dc2a80",
   "metadata": {},
   "outputs": [],
   "source": [
    "import seaborn as sns\n",
    "import plotly.graph_objects as go\n",
    "#takes in filepath, creates embeddings based on specified model \n",
    "def embed_sentences_from_txt(file_path, model=None):\n",
    "    if model is None:\n",
    "        model = SentenceTransformer('all-MiniLM-L6-v2')\n",
    "    with open(file_path, 'r', encoding='utf-8') as f:\n",
    "        text = f.read()\n",
    "    sentences = [s.strip() for s in sent_tokenize(text) if len(s.strip().split()) > 1]\n",
    "    embeddings = model.encode(sentences)\n",
    "    return sentences, embeddings\n",
    "\n",
    "\n",
    "def plot_2d_scatter(embeddings, labels, method=\"PCA\", title=\"\"):\n",
    "    if method == \"PCA\":\n",
    "        reducer = PCA(n_components=2)\n",
    "    elif method == \"TSNE\":\n",
    "        reducer = TSNE(n_components=2, perplexity=10, random_state=42)\n",
    "    else:\n",
    "        raise ValueError(\"Unsupported method\")\n",
    "\n",
    "    reduced = reducer.fit_transform(embeddings)\n",
    "\n",
    "    fig = go.Figure()\n",
    "\n",
    "    for group, color in zip(['Novice', 'Expert'], ['Blues', 'Reds']):\n",
    "        idxs = [i for i, l in enumerate(labels) if l == group]\n",
    "        x = reduced[idxs, 0]\n",
    "        y = reduced[idxs, 1]\n",
    "        fig.add_trace(go.Scatter(\n",
    "            x=x,\n",
    "            y=y,\n",
    "            mode='markers+lines',\n",
    "            line=dict(width=1, color='lightgrey'),\n",
    "            marker=dict(\n",
    "                size=8,\n",
    "                color=np.linspace(0.3, 1.0, len(x)),\n",
    "                colorscale=color,\n",
    "                showscale=False\n",
    "            ),\n",
    "            name=group,\n",
    "            hovertext=[f\"{group} - Step {i}\" for i in range(len(x))],\n",
    "            hoverinfo=\"text\"\n",
    "        ))\n",
    "\n",
    "    fig.update_layout(\n",
    "        title=title,\n",
    "        xaxis_title=f\"{method} Dimension 1\",\n",
    "        yaxis_title=f\"{method} Dimension 2\",\n",
    "        width=1000,\n",
    "        height=700\n",
    "    )\n",
    "    fig.show()\n",
    "\n",
    "def plot_cosine_heatmap(embeddings, sentences):\n",
    "    sim_matrix = cosine_similarity(embeddings)\n",
    "    plt.figure(figsize=(10, 8))\n",
    "    sns.heatmap(sim_matrix, cmap=\"viridis\")\n",
    "    plt.title(\"Cosine Similarity Heatmap\")\n",
    "    plt.xlabel(\"Sentence Index\")\n",
    "    plt.ylabel(\"Sentence Index\")\n",
    "    plt.show()\n",
    "\n",
    "\n",
    "#a is novice, b is expert\n",
    "def compute_stats(emb_a, emb_b):\n",
    "    centroid_a = np.mean(emb_a, axis=0)\n",
    "    centroid_b = np.mean(emb_b, axis=0)\n",
    "    dist_euclidean = np.linalg.norm(centroid_a - centroid_b)\n",
    "    dist_cosine = 1 - cosine_similarity([centroid_a], [centroid_b])[0][0]\n",
    "\n",
    "    stats = {\n",
    "        \"Centroid Distance (Euclidean)\": dist_euclidean,\n",
    "        \"Centroid Distance (Cosine)\": dist_cosine\n",
    "    }\n",
    "\n",
    "    # Average pairwise cosine similarity\n",
    "    def avg_pairwise_cosine(emb):\n",
    "        if len(emb) < 2:\n",
    "            return \"Insufficient data\"\n",
    "        sim_matrix = cosine_similarity(emb)\n",
    "        n = len(emb)\n",
    "        upper_triangle = sim_matrix[np.triu_indices(n, k=1)]\n",
    "        return np.mean(upper_triangle)\n",
    "\n",
    "    stats[\"Avg Cosine Similarity (Novice)\"] = avg_pairwise_cosine(emb_a)\n",
    "    stats[\"Avg Cosine Similarity (Expert)\"] = avg_pairwise_cosine(emb_b)\n",
    "\n",
    "    # Average distance to centroid\n",
    "    stats[\"Avg Dist to Centroid (Novice)\"] = np.mean([np.linalg.norm(vec - centroid_a) for vec in emb_a])\n",
    "    stats[\"Avg Dist to Centroid (Expert)\"] = np.mean([np.linalg.norm(vec - centroid_b) for vec in emb_b])\n",
    "\n",
    "    # Convex hull area in 2D PCA space\n",
    "    try:\n",
    "        if len(emb_a) >= 3:\n",
    "            hull_a = ConvexHull(PCA(n_components=2).fit_transform(emb_a))\n",
    "            stats[\"Convex Hull Area (Novice)\"] = hull_a.volume\n",
    "        else:\n",
    "            stats[\"Convex Hull Area (Novice)\"] = \"Insufficient data\"\n",
    "\n",
    "        if len(emb_b) >= 3:\n",
    "            hull_b = ConvexHull(PCA(n_components=2).fit_transform(emb_b))\n",
    "            stats[\"Convex Hull Area (Expert)\"] = hull_b.volume\n",
    "        else:\n",
    "            stats[\"Convex Hull Area (Expert)\"] = \"Insufficient data\"\n",
    "    except:\n",
    "        stats[\"Convex Hull Error\"] = \"Unable to compute\"\n",
    "\n",
    "    return stats\n",
    "\n",
    "\n",
    "\n",
    "import numbers\n",
    "\n",
    "def sanitize_stats(stats_dict):\n",
    "    cleaned_stats = {}\n",
    "    for k, v in stats_dict.items():\n",
    "        # Handle arrays or 0-D tensors\n",
    "        if isinstance(v, (np.ndarray, list)) and np.array(v).size == 1:\n",
    "            v = np.array(v).item()\n",
    "        # Replace anything that's not a scalar (like arrays) with string fallback\n",
    "        if isinstance(v, numbers.Number):\n",
    "            if np.isnan(v) or np.isinf(v):\n",
    "                cleaned_stats[k] = np.nan\n",
    "            else:\n",
    "                cleaned_stats[k] = v\n",
    "        else:\n",
    "            try:\n",
    "                cleaned_stats[k] = float(v)\n",
    "            except:\n",
    "                cleaned_stats[k] = np.nan\n",
    "    return cleaned_stats\n",
    "\n",
    "\n",
    "import numpy as np\n",
    "import pandas as pd\n",
    "from sklearn.decomposition import PCA\n",
    "from sklearn.metrics.pairwise import cosine_similarity\n",
    "from sklearn.neighbors import KernelDensity\n",
    "from scipy.spatial import ConvexHull, distance_matrix\n",
    "from scipy.stats import entropy\n",
    "from sklearn.mixture import GaussianMixture\n",
    "\n",
    "\n",
    "# a is novice b is expert\n",
    "def compute_extended_stats(emb_a, emb_b):\n",
    "    stats = {}\n",
    "\n",
    "    # Combine and prepare\n",
    "    all_embeddings = np.vstack([emb_a, emb_b])\n",
    "    labels = ['Novice'] * len(emb_a) + ['Expert'] * len(emb_b)\n",
    "\n",
    "    # Centroids and distances\n",
    "    centroid_a = np.mean(emb_a, axis=0)\n",
    "    centroid_b = np.mean(emb_b, axis=0)\n",
    "    stats[\"Centroid Distance (Euclidean)\"] = np.linalg.norm(centroid_a - centroid_b)\n",
    "    stats[\"Centroid Distance (Cosine)\"] = 1 - cosine_similarity([centroid_a], [centroid_b])[0][0]\n",
    "\n",
    "    # Average pairwise cosine similarity\n",
    "    def avg_pairwise_cosine(emb):\n",
    "        if len(emb) < 2:\n",
    "            return np.nan\n",
    "        sim_matrix = cosine_similarity(emb)\n",
    "        return np.mean(sim_matrix[np.triu_indices(len(emb), k=1)])\n",
    "\n",
    "    stats[\"Avg Cosine Similarity (Novice)\"] = avg_pairwise_cosine(emb_a)\n",
    "    stats[\"Avg Cosine Similarity (Expert)\"] = avg_pairwise_cosine(emb_b)\n",
    "\n",
    "    # Avg distance to centroid\n",
    "    stats[\"Avg Dist to Centroid (Novice)\"] = np.mean(np.linalg.norm(emb_a - centroid_a, axis=1))\n",
    "    stats[\"Avg Dist to Centroid (Expert)\"] = np.mean(np.linalg.norm(emb_b - centroid_b, axis=1))\n",
    "\n",
    "    # PCA Explained Variance\n",
    "    pca_full = PCA()\n",
    "    pca_full.fit(all_embeddings)\n",
    "    stats[\"PCA Explained Variance Ratio (1st)\"] = pca_full.explained_variance_ratio_[0]\n",
    "    stats[\"PCA Components > 95% Variance\"] = np.argmax(np.cumsum(pca_full.explained_variance_ratio_) >= 0.95) + 1\n",
    "\n",
    "    # Convex Hull in PCA 2D\n",
    "    try:\n",
    "        pca_2d = PCA(n_components=2)\n",
    "        emb_a_2d = pca_2d.fit_transform(emb_a)\n",
    "        emb_b_2d = pca_2d.fit_transform(emb_b)\n",
    "        stats[\"Convex Hull Area (Novice)\"] = ConvexHull(emb_a_2d).volume if len(emb_a) >= 3 else np.nan\n",
    "        stats[\"Convex Hull Area (Expert)\"] = ConvexHull(emb_b_2d).volume if len(emb_b) >= 3 else np.nan\n",
    "    except:\n",
    "        stats[\"Convex Hull Area (Novice)\"] = np.nan\n",
    "        stats[\"Convex Hull Area (Expert)\"] = np.nan\n",
    "\n",
    "    # Pairwise intra-cluster distances\n",
    "    def intra_cluster_dists(emb):\n",
    "        dists = distance_matrix(emb, emb)\n",
    "        triu_vals = dists[np.triu_indices(len(emb), k=1)]\n",
    "        return np.mean(triu_vals), np.std(triu_vals)\n",
    "\n",
    "    intra_nov_mean, intra_nov_std = intra_cluster_dists(emb_a)\n",
    "    intra_exp_mean, intra_exp_std = intra_cluster_dists(emb_b)\n",
    "\n",
    "    stats[\"Intra-cluster Distance Mean (Novice)\"] = intra_nov_mean\n",
    "    stats[\"Intra-cluster Distance Std (Novice)\"] = intra_nov_std\n",
    "    stats[\"Intra-cluster Distance Mean (Expert)\"] = intra_exp_mean\n",
    "    stats[\"Intra-cluster Distance Std (Expert)\"] = intra_exp_std\n",
    "\n",
    "    # Inter-cluster distance\n",
    "    inter_dists = distance_matrix(emb_a, emb_b)\n",
    "    stats[\"Inter-cluster Distance Mean\"] = np.mean(inter_dists)\n",
    "\n",
    "    # KL Divergence using Gaussian Mixture Approximation\n",
    "    try:\n",
    "        gmm_nov = GaussianMixture(n_components=1, covariance_type='full').fit(emb_a)\n",
    "        gmm_exp = GaussianMixture(n_components=1, covariance_type='full').fit(emb_b)\n",
    "        sample_nov = gmm_nov.sample(1000)[0]\n",
    "        log_p = gmm_nov.score_samples(sample_nov)\n",
    "        log_q = gmm_exp.score_samples(sample_nov)\n",
    "        log_p = np.clip(log_p, -700, 700)\n",
    "        log_q = np.clip(log_q, -700, 700)\n",
    "        p = np.exp(log_p)\n",
    "        q = np.exp(log_q)\n",
    "        p /= np.sum(p)\n",
    "        q /= np.sum(q)\n",
    "        stats[\"KL Divergence (Novice || Expert)\"] = entropy(p, q)\n",
    "\n",
    "\n",
    "        \n",
    "    except:\n",
    "        stats[\"KL Divergence (Novice || Expert)\"] = np.nan\n",
    "\n",
    "    # Spectral Entropy of distance matrix\n",
    "    try:\n",
    "        dist_mat = distance_matrix(all_embeddings, all_embeddings)\n",
    "        eigvals = np.linalg.eigvalsh(dist_mat)\n",
    "        norm_eigvals = np.abs(eigvals / np.sum(np.abs(eigvals)))\n",
    "        stats[\"Spectral Entropy\"] = entropy(norm_eigvals)\n",
    "    except:\n",
    "        stats[\"Spectral Entropy\"] = np.nan\n",
    "\n",
    "    # Density Estimate via KDE\n",
    "    for group_name, emb in zip(['Novice', 'Expert'], [emb_a, emb_b]):\n",
    "        try:\n",
    "            kde = KernelDensity(kernel='gaussian').fit(emb)\n",
    "            log_density = kde.score_samples(emb)\n",
    "            stats[f\"KDE Mean Log Density ({group_name})\"] = np.mean(log_density)\n",
    "        except:\n",
    "            stats[f\"KDE Mean Log Density ({group_name})\"] = np.nan\n",
    "\n",
    "    \n",
    "\n",
    "    return sanitize_stats(stats)\n",
    "\n",
    "\n",
    "\n",
    "\n",
    "\n",
    "def analyze_text_embedding(novice_path, expert_path, topic):\n",
    "    sentences_nov, emb_nov = embed_sentences_from_txt(novice_path)\n",
    "    sentences_exp, emb_exp = embed_sentences_from_txt(expert_path)\n",
    "\n",
    "    all_embeddings = np.vstack([emb_nov, emb_exp])\n",
    "    all_sentences = sentences_nov + sentences_exp\n",
    "    labels = ['Novice'] * len(emb_nov) + ['Expert'] * len(emb_exp)\n",
    "\n",
    "    # Plots\n",
    "    plot_2d_scatter(all_embeddings, labels, method=\"PCA\", title=f\"PCA: Expert vs Novice - {topic}\")\n",
    "    plot_2d_scatter(all_embeddings, labels, method=\"TSNE\", title=f\"t-SNE: Expert vs Novice - {topic}\")\n",
    "    plot_cosine_heatmap(all_embeddings, all_sentences)\n",
    "\n",
    "    # Stats\n",
    "    stats = compute_stats(emb_nov, emb_exp)\n",
    "    print(\"\\n--- Statistical Summary ---\")\n",
    "    for k, v in stats.items():\n",
    "        print(f\"{k}: {v}\")"
   ]
  },
  {
   "cell_type": "code",
   "execution_count": 9,
   "id": "3b86c370-279c-4f79-b77f-d055fe8a8fde",
   "metadata": {
    "scrolled": true
   },
   "outputs": [
    {
     "data": {
      "application/vnd.plotly.v1+json": {
       "config": {
        "plotlyServerURL": "https://plot.ly"
       },
       "data": [
        {
         "hoverinfo": "text",
         "hovertext": [
          "Novice - Step 0",
          "Novice - Step 1",
          "Novice - Step 2",
          "Novice - Step 3",
          "Novice - Step 4",
          "Novice - Step 5",
          "Novice - Step 6",
          "Novice - Step 7",
          "Novice - Step 8",
          "Novice - Step 9",
          "Novice - Step 10",
          "Novice - Step 11",
          "Novice - Step 12",
          "Novice - Step 13",
          "Novice - Step 14",
          "Novice - Step 15",
          "Novice - Step 16",
          "Novice - Step 17",
          "Novice - Step 18",
          "Novice - Step 19",
          "Novice - Step 20",
          "Novice - Step 21",
          "Novice - Step 22",
          "Novice - Step 23",
          "Novice - Step 24",
          "Novice - Step 25",
          "Novice - Step 26",
          "Novice - Step 27",
          "Novice - Step 28",
          "Novice - Step 29",
          "Novice - Step 30",
          "Novice - Step 31",
          "Novice - Step 32",
          "Novice - Step 33",
          "Novice - Step 34",
          "Novice - Step 35",
          "Novice - Step 36",
          "Novice - Step 37",
          "Novice - Step 38",
          "Novice - Step 39",
          "Novice - Step 40",
          "Novice - Step 41",
          "Novice - Step 42",
          "Novice - Step 43",
          "Novice - Step 44",
          "Novice - Step 45",
          "Novice - Step 46",
          "Novice - Step 47",
          "Novice - Step 48",
          "Novice - Step 49",
          "Novice - Step 50",
          "Novice - Step 51"
         ],
         "line": {
          "color": "lightgrey",
          "width": 1
         },
         "marker": {
          "color": [
           0.3,
           0.3137254901960784,
           0.32745098039215687,
           0.3411764705882353,
           0.3549019607843137,
           0.3686274509803922,
           0.38235294117647056,
           0.396078431372549,
           0.40980392156862744,
           0.4235294117647059,
           0.4372549019607843,
           0.4509803921568627,
           0.4647058823529412,
           0.4784313725490196,
           0.492156862745098,
           0.5058823529411764,
           0.5196078431372548,
           0.5333333333333333,
           0.5470588235294118,
           0.5607843137254902,
           0.5745098039215686,
           0.588235294117647,
           0.6019607843137255,
           0.615686274509804,
           0.6294117647058823,
           0.6431372549019607,
           0.6568627450980392,
           0.6705882352941177,
           0.6843137254901961,
           0.6980392156862745,
           0.7117647058823529,
           0.7254901960784313,
           0.7392156862745098,
           0.7529411764705882,
           0.7666666666666666,
           0.7803921568627451,
           0.7941176470588236,
           0.807843137254902,
           0.8215686274509804,
           0.8352941176470587,
           0.8490196078431373,
           0.8627450980392157,
           0.8764705882352941,
           0.8901960784313725,
           0.9039215686274509,
           0.9176470588235295,
           0.9313725490196079,
           0.9450980392156862,
           0.9588235294117646,
           0.972549019607843,
           0.9862745098039216,
           1
          ],
          "colorscale": [
           [
            0,
            "rgb(247,251,255)"
           ],
           [
            0.125,
            "rgb(222,235,247)"
           ],
           [
            0.25,
            "rgb(198,219,239)"
           ],
           [
            0.375,
            "rgb(158,202,225)"
           ],
           [
            0.5,
            "rgb(107,174,214)"
           ],
           [
            0.625,
            "rgb(66,146,198)"
           ],
           [
            0.75,
            "rgb(33,113,181)"
           ],
           [
            0.875,
            "rgb(8,81,156)"
           ],
           [
            1,
            "rgb(8,48,107)"
           ]
          ],
          "showscale": false,
          "size": 8
         },
         "mode": "markers+lines",
         "name": "Novice",
         "type": "scatter",
         "x": [
          -0.11966069787740707,
          -0.43729230761528015,
          -0.5995911955833435,
          -0.06680278480052948,
          0.08259502798318863,
          -0.4525410830974579,
          -0.029948467388749123,
          -0.1290462762117386,
          -0.06113796308636665,
          -0.04685913398861885,
          -0.6137385964393616,
          -0.3476828932762146,
          -0.4742122292518616,
          -0.32155388593673706,
          -0.3059528172016144,
          -0.22925329208374023,
          -0.2320617139339447,
          -0.271377831697464,
          -0.186443030834198,
          -0.007095338311046362,
          -0.1891765147447586,
          -0.1241542249917984,
          -0.29349634051322937,
          -0.329890638589859,
          -0.25084811449050903,
          -0.30379602313041687,
          -0.39637506008148193,
          -0.5186294913291931,
          -0.32557839155197144,
          -0.4516856074333191,
          -0.3635662794113159,
          -0.10857963562011719,
          -0.339282751083374,
          0.020466826856136322,
          -0.47227346897125244,
          -0.5031024813652039,
          -0.22659915685653687,
          -0.04383442550897598,
          -0.22454328835010529,
          -0.19500692188739777,
          -0.1227998211979866,
          -0.4950883090496063,
          -0.5556662082672119,
          -0.12078484892845154,
          -0.42743539810180664,
          -0.29236236214637756,
          -0.13569165766239166,
          -0.3134366273880005,
          -0.42844289541244507,
          -0.2163892686367035,
          -0.13113649189472198,
          0.11588598787784576
         ],
         "y": [
          0.10429861396551132,
          -0.04245757684111595,
          0.06072927266359329,
          -0.19741955399513245,
          0.3592774569988251,
          -0.015994926914572716,
          -0.3279053270816803,
          -0.014129363000392914,
          0.17651177942752838,
          0.22921214997768402,
          -0.12820619344711304,
          -0.0602508969604969,
          -0.17060866951942444,
          -0.268124520778656,
          0.27160710096359253,
          0.19462420046329498,
          0.07923735678195953,
          -0.16883789002895355,
          -0.19691380858421326,
          0.06007598340511322,
          0.3239973485469818,
          0.44290322065353394,
          0.11074890196323395,
          0.1036829799413681,
          0.2103777825832367,
          0.09949098527431488,
          0.04292834922671318,
          0.049247633665800095,
          -0.19255074858665466,
          -0.028245214372873306,
          0.08802301436662674,
          0.22047622501850128,
          0.20997506380081177,
          -0.1508660912513733,
          -0.11556438356637955,
          -0.31670859456062317,
          -0.23942574858665466,
          0.0810190811753273,
          -0.00238979235291481,
          -0.16651181876659393,
          -0.012117596343159676,
          -0.08537767082452774,
          -0.2585262060165405,
          -0.012266499921679497,
          -0.34320783615112305,
          -0.13994812965393066,
          0.043831486254930496,
          -0.02502494864165783,
          -0.29535189270973206,
          -0.10602401942014694,
          0.056634750217199326,
          0.2649516761302948
         ]
        },
        {
         "hoverinfo": "text",
         "hovertext": [
          "Expert - Step 0",
          "Expert - Step 1",
          "Expert - Step 2",
          "Expert - Step 3",
          "Expert - Step 4",
          "Expert - Step 5",
          "Expert - Step 6",
          "Expert - Step 7",
          "Expert - Step 8",
          "Expert - Step 9",
          "Expert - Step 10",
          "Expert - Step 11",
          "Expert - Step 12",
          "Expert - Step 13",
          "Expert - Step 14",
          "Expert - Step 15",
          "Expert - Step 16",
          "Expert - Step 17",
          "Expert - Step 18",
          "Expert - Step 19",
          "Expert - Step 20",
          "Expert - Step 21",
          "Expert - Step 22",
          "Expert - Step 23",
          "Expert - Step 24",
          "Expert - Step 25",
          "Expert - Step 26",
          "Expert - Step 27",
          "Expert - Step 28",
          "Expert - Step 29",
          "Expert - Step 30",
          "Expert - Step 31",
          "Expert - Step 32",
          "Expert - Step 33",
          "Expert - Step 34",
          "Expert - Step 35",
          "Expert - Step 36",
          "Expert - Step 37",
          "Expert - Step 38",
          "Expert - Step 39",
          "Expert - Step 40",
          "Expert - Step 41",
          "Expert - Step 42",
          "Expert - Step 43",
          "Expert - Step 44",
          "Expert - Step 45",
          "Expert - Step 46",
          "Expert - Step 47",
          "Expert - Step 48",
          "Expert - Step 49",
          "Expert - Step 50",
          "Expert - Step 51",
          "Expert - Step 52",
          "Expert - Step 53",
          "Expert - Step 54",
          "Expert - Step 55",
          "Expert - Step 56",
          "Expert - Step 57",
          "Expert - Step 58",
          "Expert - Step 59",
          "Expert - Step 60",
          "Expert - Step 61",
          "Expert - Step 62",
          "Expert - Step 63",
          "Expert - Step 64",
          "Expert - Step 65",
          "Expert - Step 66",
          "Expert - Step 67",
          "Expert - Step 68",
          "Expert - Step 69",
          "Expert - Step 70",
          "Expert - Step 71",
          "Expert - Step 72",
          "Expert - Step 73",
          "Expert - Step 74",
          "Expert - Step 75",
          "Expert - Step 76",
          "Expert - Step 77",
          "Expert - Step 78",
          "Expert - Step 79",
          "Expert - Step 80",
          "Expert - Step 81",
          "Expert - Step 82",
          "Expert - Step 83",
          "Expert - Step 84",
          "Expert - Step 85",
          "Expert - Step 86",
          "Expert - Step 87",
          "Expert - Step 88",
          "Expert - Step 89",
          "Expert - Step 90",
          "Expert - Step 91",
          "Expert - Step 92",
          "Expert - Step 93",
          "Expert - Step 94",
          "Expert - Step 95",
          "Expert - Step 96",
          "Expert - Step 97",
          "Expert - Step 98",
          "Expert - Step 99",
          "Expert - Step 100",
          "Expert - Step 101",
          "Expert - Step 102",
          "Expert - Step 103",
          "Expert - Step 104",
          "Expert - Step 105"
         ],
         "line": {
          "color": "lightgrey",
          "width": 1
         },
         "marker": {
          "color": [
           0.3,
           0.30666666666666664,
           0.3133333333333333,
           0.32,
           0.32666666666666666,
           0.3333333333333333,
           0.33999999999999997,
           0.3466666666666667,
           0.35333333333333333,
           0.36,
           0.36666666666666664,
           0.3733333333333333,
           0.38,
           0.38666666666666666,
           0.3933333333333333,
           0.39999999999999997,
           0.4066666666666666,
           0.41333333333333333,
           0.42,
           0.42666666666666664,
           0.43333333333333335,
           0.43999999999999995,
           0.44666666666666666,
           0.4533333333333333,
           0.45999999999999996,
           0.4666666666666667,
           0.4733333333333333,
           0.48,
           0.48666666666666664,
           0.4933333333333333,
           0.5,
           0.5066666666666666,
           0.5133333333333333,
           0.52,
           0.5266666666666666,
           0.5333333333333333,
           0.54,
           0.5466666666666666,
           0.5533333333333332,
           0.56,
           0.5666666666666667,
           0.5733333333333333,
           0.58,
           0.5866666666666667,
           0.5933333333333333,
           0.6,
           0.6066666666666667,
           0.6133333333333333,
           0.6199999999999999,
           0.6266666666666667,
           0.6333333333333333,
           0.6399999999999999,
           0.6466666666666666,
           0.6533333333333333,
           0.6599999999999999,
           0.6666666666666666,
           0.6733333333333333,
           0.6799999999999999,
           0.6866666666666666,
           0.6933333333333334,
           0.7,
           0.7066666666666666,
           0.7133333333333334,
           0.72,
           0.7266666666666666,
           0.7333333333333333,
           0.74,
           0.7466666666666666,
           0.7533333333333333,
           0.76,
           0.7666666666666666,
           0.7733333333333333,
           0.78,
           0.7866666666666666,
           0.7933333333333332,
           0.7999999999999999,
           0.8066666666666666,
           0.8133333333333332,
           0.8200000000000001,
           0.8266666666666667,
           0.8333333333333333,
           0.8399999999999999,
           0.8466666666666667,
           0.8533333333333333,
           0.8599999999999999,
           0.8666666666666667,
           0.8733333333333333,
           0.8799999999999999,
           0.8866666666666667,
           0.8933333333333333,
           0.8999999999999999,
           0.9066666666666665,
           0.9133333333333333,
           0.9199999999999999,
           0.9266666666666665,
           0.9333333333333333,
           0.94,
           0.9466666666666665,
           0.9533333333333334,
           0.96,
           0.9666666666666666,
           0.9733333333333334,
           0.98,
           0.9866666666666666,
           0.9933333333333332,
           1
          ],
          "colorscale": [
           [
            0,
            "rgb(255,245,240)"
           ],
           [
            0.125,
            "rgb(254,224,210)"
           ],
           [
            0.25,
            "rgb(252,187,161)"
           ],
           [
            0.375,
            "rgb(252,146,114)"
           ],
           [
            0.5,
            "rgb(251,106,74)"
           ],
           [
            0.625,
            "rgb(239,59,44)"
           ],
           [
            0.75,
            "rgb(203,24,29)"
           ],
           [
            0.875,
            "rgb(165,15,21)"
           ],
           [
            1,
            "rgb(103,0,13)"
           ]
          ],
          "showscale": false,
          "size": 8
         },
         "mode": "markers+lines",
         "name": "Expert",
         "type": "scatter",
         "x": [
          -0.03455328941345215,
          -0.017303165048360825,
          0.11557548493146896,
          0.16630476713180542,
          0.14434804022312164,
          -0.18741948902606964,
          -0.39748892188072205,
          -0.300489604473114,
          0.18534347414970398,
          0.21342918276786804,
          0.1493896096944809,
          0.3407946527004242,
          0.2601879835128784,
          0.27312466502189636,
          0.23136462271213531,
          0.1640741229057312,
          -0.2505528926849365,
          -0.300489604473114,
          0.16038958728313446,
          0.18988190591335297,
          0.2512025833129883,
          0.21822035312652588,
          0.3427962064743042,
          -0.2715965509414673,
          0.20168708264827728,
          0.2770032584667206,
          0.3211509585380554,
          -0.10815567523241043,
          0.25901076197624207,
          0.38521361351013184,
          0.41218993067741394,
          0.10355931520462036,
          0.18883226811885834,
          0.3149927854537964,
          0.30840766429901123,
          0.290187805891037,
          0.15700554847717285,
          0.21446257829666138,
          0.3421059846878052,
          -0.1637572944164276,
          -0.08976482599973679,
          0.20131821930408478,
          0.2566237151622772,
          -0.29973089694976807,
          0.19178013503551483,
          0.18879403173923492,
          0.08416835218667984,
          0.03718845918774605,
          -0.05453959107398987,
          0.2082529217004776,
          0.2082529067993164,
          0.34464991092681885,
          0.31538525223731995,
          0.09483128786087036,
          -0.3746127486228943,
          0.18174146115779877,
          0.3124496042728424,
          -0.41959911584854126,
          -0.041182395070791245,
          -0.4676677882671356,
          0.1686960905790329,
          -0.25481075048446655,
          0.3627113997936249,
          0.23012125492095947,
          0.22237926721572876,
          0.09083588421344757,
          -0.16092726588249207,
          0.23002679646015167,
          0.24051344394683838,
          0.11160694807767868,
          0.32175514101982117,
          0.025309044867753983,
          -0.22126510739326477,
          0.3659282624721527,
          -0.29480141401290894,
          -0.0901469886302948,
          0.2689742147922516,
          0.40760937333106995,
          0.1557755321264267,
          0.2202526479959488,
          0.1975090205669403,
          0.36841580271720886,
          0.19441820681095123,
          0.2061890959739685,
          0.1550077199935913,
          -0.09380482882261276,
          0.31498339772224426,
          0.15228137373924255,
          -0.02354542352259159,
          0.3452449142932892,
          0.37183281779289246,
          0.2638924717903137,
          -0.23946063220500946,
          0.09432461857795715,
          0.3720115125179291,
          0.15699775516986847,
          0.24701251089572906,
          0.28218135237693787,
          0.2943398356437683,
          0.4166536331176758,
          -0.3231676518917084,
          0.16040129959583282,
          0.292373389005661,
          0.3628486692905426,
          0.14383858442306519,
          0.4708654582500458
         ],
         "y": [
          0.354976624250412,
          0.2681962251663208,
          -0.0809343159198761,
          0.02826741710305214,
          0.04212234169244766,
          -0.2536371946334839,
          0.004252440761774778,
          -0.2521652579307556,
          0.0455956794321537,
          0.34815484285354614,
          0.44442614912986755,
          0.002182550961151719,
          0.235420361161232,
          -0.029540080577135086,
          0.2836741507053375,
          0.34274500608444214,
          -0.046236202120780945,
          -0.2521652579307556,
          -0.16384297609329224,
          -0.19327664375305176,
          -0.3471370041370392,
          -0.35004881024360657,
          -0.1613701432943344,
          0.07395891100168228,
          0.20787151157855988,
          -0.20387320220470428,
          0.15995103120803833,
          0.16980227828025818,
          -0.24381478130817413,
          -0.2613039016723633,
          -0.2888745963573456,
          0.07760028541088104,
          -0.1546451449394226,
          -0.15296578407287598,
          -0.1713695228099823,
          0.13299529254436493,
          0.25537142157554626,
          0.19194063544273376,
          -0.20035098493099213,
          0.2907826900482178,
          0.17320017516613007,
          0.059418462216854095,
          -0.15546473860740662,
          -0.015813712030649185,
          0.25573334097862244,
          0.3297240138053894,
          0.03422006964683533,
          0.45006322860717773,
          0.33669519424438477,
          0.2272191196680069,
          0.2272191047668457,
          -0.056862615048885345,
          0.047595828771591187,
          0.054729726165533066,
          -0.15036210417747498,
          -0.23750129342079163,
          0.07218815386295319,
          -0.02439924329519272,
          0.1833438128232956,
          -0.1944955289363861,
          -0.3434928059577942,
          -0.2757953107357025,
          -0.24692057073116302,
          -0.13518178462982178,
          -0.18888624012470245,
          -0.2112284153699875,
          -0.003495145356282592,
          0.0032156207598745823,
          -0.24454303085803986,
          -0.2474963515996933,
          -0.1632741242647171,
          -0.12204796075820923,
          0.3198096454143524,
          -0.19385547935962677,
          0.03850506618618965,
          0.2468864619731903,
          0.2121468335390091,
          0.01992715522646904,
          0.1265287548303604,
          -0.03059401735663414,
          0.35419103503227234,
          -0.20126749575138092,
          0.3519676923751831,
          -0.31612277030944824,
          -0.022910606116056442,
          0.056831929832696915,
          -0.30137160420417786,
          -0.06737759709358215,
          0.16146695613861084,
          -0.24834953248500824,
          -0.026277896016836166,
          0.20925594866275787,
          0.3948192000389099,
          0.00707992073148489,
          -0.050369877368211746,
          -0.32824453711509705,
          -0.2723352611064911,
          0.07294163852930069,
          -0.03206581994891167,
          -0.14609387516975403,
          -0.0925835520029068,
          0.11673209071159363,
          0.19770120084285736,
          -0.1465543657541275,
          0.39196717739105225,
          -0.19533094763755798
         ]
        }
       ],
       "layout": {
        "height": 700,
        "template": {
         "data": {
          "bar": [
           {
            "error_x": {
             "color": "#2a3f5f"
            },
            "error_y": {
             "color": "#2a3f5f"
            },
            "marker": {
             "line": {
              "color": "#E5ECF6",
              "width": 0.5
             },
             "pattern": {
              "fillmode": "overlay",
              "size": 10,
              "solidity": 0.2
             }
            },
            "type": "bar"
           }
          ],
          "barpolar": [
           {
            "marker": {
             "line": {
              "color": "#E5ECF6",
              "width": 0.5
             },
             "pattern": {
              "fillmode": "overlay",
              "size": 10,
              "solidity": 0.2
             }
            },
            "type": "barpolar"
           }
          ],
          "carpet": [
           {
            "aaxis": {
             "endlinecolor": "#2a3f5f",
             "gridcolor": "white",
             "linecolor": "white",
             "minorgridcolor": "white",
             "startlinecolor": "#2a3f5f"
            },
            "baxis": {
             "endlinecolor": "#2a3f5f",
             "gridcolor": "white",
             "linecolor": "white",
             "minorgridcolor": "white",
             "startlinecolor": "#2a3f5f"
            },
            "type": "carpet"
           }
          ],
          "choropleth": [
           {
            "colorbar": {
             "outlinewidth": 0,
             "ticks": ""
            },
            "type": "choropleth"
           }
          ],
          "contour": [
           {
            "colorbar": {
             "outlinewidth": 0,
             "ticks": ""
            },
            "colorscale": [
             [
              0,
              "#0d0887"
             ],
             [
              0.1111111111111111,
              "#46039f"
             ],
             [
              0.2222222222222222,
              "#7201a8"
             ],
             [
              0.3333333333333333,
              "#9c179e"
             ],
             [
              0.4444444444444444,
              "#bd3786"
             ],
             [
              0.5555555555555556,
              "#d8576b"
             ],
             [
              0.6666666666666666,
              "#ed7953"
             ],
             [
              0.7777777777777778,
              "#fb9f3a"
             ],
             [
              0.8888888888888888,
              "#fdca26"
             ],
             [
              1,
              "#f0f921"
             ]
            ],
            "type": "contour"
           }
          ],
          "contourcarpet": [
           {
            "colorbar": {
             "outlinewidth": 0,
             "ticks": ""
            },
            "type": "contourcarpet"
           }
          ],
          "heatmap": [
           {
            "colorbar": {
             "outlinewidth": 0,
             "ticks": ""
            },
            "colorscale": [
             [
              0,
              "#0d0887"
             ],
             [
              0.1111111111111111,
              "#46039f"
             ],
             [
              0.2222222222222222,
              "#7201a8"
             ],
             [
              0.3333333333333333,
              "#9c179e"
             ],
             [
              0.4444444444444444,
              "#bd3786"
             ],
             [
              0.5555555555555556,
              "#d8576b"
             ],
             [
              0.6666666666666666,
              "#ed7953"
             ],
             [
              0.7777777777777778,
              "#fb9f3a"
             ],
             [
              0.8888888888888888,
              "#fdca26"
             ],
             [
              1,
              "#f0f921"
             ]
            ],
            "type": "heatmap"
           }
          ],
          "heatmapgl": [
           {
            "colorbar": {
             "outlinewidth": 0,
             "ticks": ""
            },
            "colorscale": [
             [
              0,
              "#0d0887"
             ],
             [
              0.1111111111111111,
              "#46039f"
             ],
             [
              0.2222222222222222,
              "#7201a8"
             ],
             [
              0.3333333333333333,
              "#9c179e"
             ],
             [
              0.4444444444444444,
              "#bd3786"
             ],
             [
              0.5555555555555556,
              "#d8576b"
             ],
             [
              0.6666666666666666,
              "#ed7953"
             ],
             [
              0.7777777777777778,
              "#fb9f3a"
             ],
             [
              0.8888888888888888,
              "#fdca26"
             ],
             [
              1,
              "#f0f921"
             ]
            ],
            "type": "heatmapgl"
           }
          ],
          "histogram": [
           {
            "marker": {
             "pattern": {
              "fillmode": "overlay",
              "size": 10,
              "solidity": 0.2
             }
            },
            "type": "histogram"
           }
          ],
          "histogram2d": [
           {
            "colorbar": {
             "outlinewidth": 0,
             "ticks": ""
            },
            "colorscale": [
             [
              0,
              "#0d0887"
             ],
             [
              0.1111111111111111,
              "#46039f"
             ],
             [
              0.2222222222222222,
              "#7201a8"
             ],
             [
              0.3333333333333333,
              "#9c179e"
             ],
             [
              0.4444444444444444,
              "#bd3786"
             ],
             [
              0.5555555555555556,
              "#d8576b"
             ],
             [
              0.6666666666666666,
              "#ed7953"
             ],
             [
              0.7777777777777778,
              "#fb9f3a"
             ],
             [
              0.8888888888888888,
              "#fdca26"
             ],
             [
              1,
              "#f0f921"
             ]
            ],
            "type": "histogram2d"
           }
          ],
          "histogram2dcontour": [
           {
            "colorbar": {
             "outlinewidth": 0,
             "ticks": ""
            },
            "colorscale": [
             [
              0,
              "#0d0887"
             ],
             [
              0.1111111111111111,
              "#46039f"
             ],
             [
              0.2222222222222222,
              "#7201a8"
             ],
             [
              0.3333333333333333,
              "#9c179e"
             ],
             [
              0.4444444444444444,
              "#bd3786"
             ],
             [
              0.5555555555555556,
              "#d8576b"
             ],
             [
              0.6666666666666666,
              "#ed7953"
             ],
             [
              0.7777777777777778,
              "#fb9f3a"
             ],
             [
              0.8888888888888888,
              "#fdca26"
             ],
             [
              1,
              "#f0f921"
             ]
            ],
            "type": "histogram2dcontour"
           }
          ],
          "mesh3d": [
           {
            "colorbar": {
             "outlinewidth": 0,
             "ticks": ""
            },
            "type": "mesh3d"
           }
          ],
          "parcoords": [
           {
            "line": {
             "colorbar": {
              "outlinewidth": 0,
              "ticks": ""
             }
            },
            "type": "parcoords"
           }
          ],
          "pie": [
           {
            "automargin": true,
            "type": "pie"
           }
          ],
          "scatter": [
           {
            "fillpattern": {
             "fillmode": "overlay",
             "size": 10,
             "solidity": 0.2
            },
            "type": "scatter"
           }
          ],
          "scatter3d": [
           {
            "line": {
             "colorbar": {
              "outlinewidth": 0,
              "ticks": ""
             }
            },
            "marker": {
             "colorbar": {
              "outlinewidth": 0,
              "ticks": ""
             }
            },
            "type": "scatter3d"
           }
          ],
          "scattercarpet": [
           {
            "marker": {
             "colorbar": {
              "outlinewidth": 0,
              "ticks": ""
             }
            },
            "type": "scattercarpet"
           }
          ],
          "scattergeo": [
           {
            "marker": {
             "colorbar": {
              "outlinewidth": 0,
              "ticks": ""
             }
            },
            "type": "scattergeo"
           }
          ],
          "scattergl": [
           {
            "marker": {
             "colorbar": {
              "outlinewidth": 0,
              "ticks": ""
             }
            },
            "type": "scattergl"
           }
          ],
          "scattermapbox": [
           {
            "marker": {
             "colorbar": {
              "outlinewidth": 0,
              "ticks": ""
             }
            },
            "type": "scattermapbox"
           }
          ],
          "scatterpolar": [
           {
            "marker": {
             "colorbar": {
              "outlinewidth": 0,
              "ticks": ""
             }
            },
            "type": "scatterpolar"
           }
          ],
          "scatterpolargl": [
           {
            "marker": {
             "colorbar": {
              "outlinewidth": 0,
              "ticks": ""
             }
            },
            "type": "scatterpolargl"
           }
          ],
          "scatterternary": [
           {
            "marker": {
             "colorbar": {
              "outlinewidth": 0,
              "ticks": ""
             }
            },
            "type": "scatterternary"
           }
          ],
          "surface": [
           {
            "colorbar": {
             "outlinewidth": 0,
             "ticks": ""
            },
            "colorscale": [
             [
              0,
              "#0d0887"
             ],
             [
              0.1111111111111111,
              "#46039f"
             ],
             [
              0.2222222222222222,
              "#7201a8"
             ],
             [
              0.3333333333333333,
              "#9c179e"
             ],
             [
              0.4444444444444444,
              "#bd3786"
             ],
             [
              0.5555555555555556,
              "#d8576b"
             ],
             [
              0.6666666666666666,
              "#ed7953"
             ],
             [
              0.7777777777777778,
              "#fb9f3a"
             ],
             [
              0.8888888888888888,
              "#fdca26"
             ],
             [
              1,
              "#f0f921"
             ]
            ],
            "type": "surface"
           }
          ],
          "table": [
           {
            "cells": {
             "fill": {
              "color": "#EBF0F8"
             },
             "line": {
              "color": "white"
             }
            },
            "header": {
             "fill": {
              "color": "#C8D4E3"
             },
             "line": {
              "color": "white"
             }
            },
            "type": "table"
           }
          ]
         },
         "layout": {
          "annotationdefaults": {
           "arrowcolor": "#2a3f5f",
           "arrowhead": 0,
           "arrowwidth": 1
          },
          "autotypenumbers": "strict",
          "coloraxis": {
           "colorbar": {
            "outlinewidth": 0,
            "ticks": ""
           }
          },
          "colorscale": {
           "diverging": [
            [
             0,
             "#8e0152"
            ],
            [
             0.1,
             "#c51b7d"
            ],
            [
             0.2,
             "#de77ae"
            ],
            [
             0.3,
             "#f1b6da"
            ],
            [
             0.4,
             "#fde0ef"
            ],
            [
             0.5,
             "#f7f7f7"
            ],
            [
             0.6,
             "#e6f5d0"
            ],
            [
             0.7,
             "#b8e186"
            ],
            [
             0.8,
             "#7fbc41"
            ],
            [
             0.9,
             "#4d9221"
            ],
            [
             1,
             "#276419"
            ]
           ],
           "sequential": [
            [
             0,
             "#0d0887"
            ],
            [
             0.1111111111111111,
             "#46039f"
            ],
            [
             0.2222222222222222,
             "#7201a8"
            ],
            [
             0.3333333333333333,
             "#9c179e"
            ],
            [
             0.4444444444444444,
             "#bd3786"
            ],
            [
             0.5555555555555556,
             "#d8576b"
            ],
            [
             0.6666666666666666,
             "#ed7953"
            ],
            [
             0.7777777777777778,
             "#fb9f3a"
            ],
            [
             0.8888888888888888,
             "#fdca26"
            ],
            [
             1,
             "#f0f921"
            ]
           ],
           "sequentialminus": [
            [
             0,
             "#0d0887"
            ],
            [
             0.1111111111111111,
             "#46039f"
            ],
            [
             0.2222222222222222,
             "#7201a8"
            ],
            [
             0.3333333333333333,
             "#9c179e"
            ],
            [
             0.4444444444444444,
             "#bd3786"
            ],
            [
             0.5555555555555556,
             "#d8576b"
            ],
            [
             0.6666666666666666,
             "#ed7953"
            ],
            [
             0.7777777777777778,
             "#fb9f3a"
            ],
            [
             0.8888888888888888,
             "#fdca26"
            ],
            [
             1,
             "#f0f921"
            ]
           ]
          },
          "colorway": [
           "#636efa",
           "#EF553B",
           "#00cc96",
           "#ab63fa",
           "#FFA15A",
           "#19d3f3",
           "#FF6692",
           "#B6E880",
           "#FF97FF",
           "#FECB52"
          ],
          "font": {
           "color": "#2a3f5f"
          },
          "geo": {
           "bgcolor": "white",
           "lakecolor": "white",
           "landcolor": "#E5ECF6",
           "showlakes": true,
           "showland": true,
           "subunitcolor": "white"
          },
          "hoverlabel": {
           "align": "left"
          },
          "hovermode": "closest",
          "mapbox": {
           "style": "light"
          },
          "paper_bgcolor": "white",
          "plot_bgcolor": "#E5ECF6",
          "polar": {
           "angularaxis": {
            "gridcolor": "white",
            "linecolor": "white",
            "ticks": ""
           },
           "bgcolor": "#E5ECF6",
           "radialaxis": {
            "gridcolor": "white",
            "linecolor": "white",
            "ticks": ""
           }
          },
          "scene": {
           "xaxis": {
            "backgroundcolor": "#E5ECF6",
            "gridcolor": "white",
            "gridwidth": 2,
            "linecolor": "white",
            "showbackground": true,
            "ticks": "",
            "zerolinecolor": "white"
           },
           "yaxis": {
            "backgroundcolor": "#E5ECF6",
            "gridcolor": "white",
            "gridwidth": 2,
            "linecolor": "white",
            "showbackground": true,
            "ticks": "",
            "zerolinecolor": "white"
           },
           "zaxis": {
            "backgroundcolor": "#E5ECF6",
            "gridcolor": "white",
            "gridwidth": 2,
            "linecolor": "white",
            "showbackground": true,
            "ticks": "",
            "zerolinecolor": "white"
           }
          },
          "shapedefaults": {
           "line": {
            "color": "#2a3f5f"
           }
          },
          "ternary": {
           "aaxis": {
            "gridcolor": "white",
            "linecolor": "white",
            "ticks": ""
           },
           "baxis": {
            "gridcolor": "white",
            "linecolor": "white",
            "ticks": ""
           },
           "bgcolor": "#E5ECF6",
           "caxis": {
            "gridcolor": "white",
            "linecolor": "white",
            "ticks": ""
           }
          },
          "title": {
           "x": 0.05
          },
          "xaxis": {
           "automargin": true,
           "gridcolor": "white",
           "linecolor": "white",
           "ticks": "",
           "title": {
            "standoff": 15
           },
           "zerolinecolor": "white",
           "zerolinewidth": 2
          },
          "yaxis": {
           "automargin": true,
           "gridcolor": "white",
           "linecolor": "white",
           "ticks": "",
           "title": {
            "standoff": 15
           },
           "zerolinecolor": "white",
           "zerolinewidth": 2
          }
         }
        },
        "title": {
         "text": "PCA: Expert vs Novice - car"
        },
        "width": 1000,
        "xaxis": {
         "autorange": true,
         "range": [
          -0.682406464483707,
          0.5395333262943912
         ],
         "title": {
          "text": "PCA Dimension 1"
         },
         "type": "linear"
        },
        "yaxis": {
         "autorange": true,
         "range": [
          -0.40420486527499155,
          0.5042192836385627
         ],
         "title": {
          "text": "PCA Dimension 2"
         },
         "type": "linear"
        }
       }
      },
      "image/png": "[encoded data removed]",
      "text/html": [
       "<div>                            <div id=\"c141e999-6a42-44bb-8bb8-a5479a11dffa\" class=\"plotly-graph-div\" style=\"height:700px; width:1000px;\"></div>            <script type=\"text/javascript\">                require([\"plotly\"], function(Plotly) {                    window.PLOTLYENV=window.PLOTLYENV || {};                                    if (document.getElementById(\"c141e999-6a42-44bb-8bb8-a5479a11dffa\")) {                    Plotly.newPlot(                        \"c141e999-6a42-44bb-8bb8-a5479a11dffa\",                        [{\"hoverinfo\":\"text\",\"hovertext\":[\"Novice - Step 0\",\"Novice - Step 1\",\"Novice - Step 2\",\"Novice - Step 3\",\"Novice - Step 4\",\"Novice - Step 5\",\"Novice - Step 6\",\"Novice - Step 7\",\"Novice - Step 8\",\"Novice - Step 9\",\"Novice - Step 10\",\"Novice - Step 11\",\"Novice - Step 12\",\"Novice - Step 13\",\"Novice - Step 14\",\"Novice - Step 15\",\"Novice - Step 16\",\"Novice - Step 17\",\"Novice - Step 18\",\"Novice - Step 19\",\"Novice - Step 20\",\"Novice - Step 21\",\"Novice - Step 22\",\"Novice - Step 23\",\"Novice - Step 24\",\"Novice - Step 25\",\"Novice - Step 26\",\"Novice - Step 27\",\"Novice - Step 28\",\"Novice - Step 29\",\"Novice - Step 30\",\"Novice - Step 31\",\"Novice - Step 32\",\"Novice - Step 33\",\"Novice - Step 34\",\"Novice - Step 35\",\"Novice - Step 36\",\"Novice - Step 37\",\"Novice - Step 38\",\"Novice - Step 39\",\"Novice - Step 40\",\"Novice - Step 41\",\"Novice - Step 42\",\"Novice - Step 43\",\"Novice - Step 44\",\"Novice - Step 45\",\"Novice - Step 46\",\"Novice - Step 47\",\"Novice - Step 48\",\"Novice - Step 49\",\"Novice - Step 50\",\"Novice - Step 51\"],\"line\":{\"color\":\"lightgrey\",\"width\":1},\"marker\":{\"color\":[0.3,0.3137254901960784,0.32745098039215687,0.3411764705882353,0.3549019607843137,0.3686274509803922,0.38235294117647056,0.396078431372549,0.40980392156862744,0.4235294117647059,0.4372549019607843,0.4509803921568627,0.4647058823529412,0.4784313725490196,0.492156862745098,0.5058823529411764,0.5196078431372548,0.5333333333333333,0.5470588235294118,0.5607843137254902,0.5745098039215686,0.588235294117647,0.6019607843137255,0.615686274509804,0.6294117647058823,0.6431372549019607,0.6568627450980392,0.6705882352941177,0.6843137254901961,0.6980392156862745,0.7117647058823529,0.7254901960784313,0.7392156862745098,0.7529411764705882,0.7666666666666666,0.7803921568627451,0.7941176470588236,0.807843137254902,0.8215686274509804,0.8352941176470587,0.8490196078431373,0.8627450980392157,0.8764705882352941,0.8901960784313725,0.9039215686274509,0.9176470588235295,0.9313725490196079,0.9450980392156862,0.9588235294117646,0.972549019607843,0.9862745098039216,1.0],\"colorscale\":[[0.0,\"rgb(247,251,255)\"],[0.125,\"rgb(222,235,247)\"],[0.25,\"rgb(198,219,239)\"],[0.375,\"rgb(158,202,225)\"],[0.5,\"rgb(107,174,214)\"],[0.625,\"rgb(66,146,198)\"],[0.75,\"rgb(33,113,181)\"],[0.875,\"rgb(8,81,156)\"],[1.0,\"rgb(8,48,107)\"]],\"showscale\":false,\"size\":8},\"mode\":\"markers+lines\",\"name\":\"Novice\",\"x\":[-0.11966069787740707,-0.43729230761528015,-0.5995911955833435,-0.06680278480052948,0.08259502798318863,-0.4525410830974579,-0.029948467388749123,-0.1290462762117386,-0.06113796308636665,-0.04685913398861885,-0.6137385964393616,-0.3476828932762146,-0.4742122292518616,-0.32155388593673706,-0.3059528172016144,-0.22925329208374023,-0.2320617139339447,-0.271377831697464,-0.186443030834198,-0.007095338311046362,-0.1891765147447586,-0.1241542249917984,-0.29349634051322937,-0.329890638589859,-0.25084811449050903,-0.30379602313041687,-0.39637506008148193,-0.5186294913291931,-0.32557839155197144,-0.4516856074333191,-0.3635662794113159,-0.10857963562011719,-0.339282751083374,0.020466826856136322,-0.47227346897125244,-0.5031024813652039,-0.22659915685653687,-0.04383442550897598,-0.22454328835010529,-0.19500692188739777,-0.1227998211979866,-0.4950883090496063,-0.5556662082672119,-0.12078484892845154,-0.42743539810180664,-0.29236236214637756,-0.13569165766239166,-0.3134366273880005,-0.42844289541244507,-0.2163892686367035,-0.13113649189472198,0.11588598787784576],\"y\":[0.10429861396551132,-0.04245757684111595,0.06072927266359329,-0.19741955399513245,0.3592774569988251,-0.015994926914572716,-0.3279053270816803,-0.014129363000392914,0.17651177942752838,0.22921214997768402,-0.12820619344711304,-0.0602508969604969,-0.17060866951942444,-0.268124520778656,0.27160710096359253,0.19462420046329498,0.07923735678195953,-0.16883789002895355,-0.19691380858421326,0.06007598340511322,0.3239973485469818,0.44290322065353394,0.11074890196323395,0.1036829799413681,0.2103777825832367,0.09949098527431488,0.04292834922671318,0.049247633665800095,-0.19255074858665466,-0.028245214372873306,0.08802301436662674,0.22047622501850128,0.20997506380081177,-0.1508660912513733,-0.11556438356637955,-0.31670859456062317,-0.23942574858665466,0.0810190811753273,-0.00238979235291481,-0.16651181876659393,-0.012117596343159676,-0.08537767082452774,-0.2585262060165405,-0.012266499921679497,-0.34320783615112305,-0.13994812965393066,0.043831486254930496,-0.02502494864165783,-0.29535189270973206,-0.10602401942014694,0.056634750217199326,0.2649516761302948],\"type\":\"scatter\"},{\"hoverinfo\":\"text\",\"hovertext\":[\"Expert - Step 0\",\"Expert - Step 1\",\"Expert - Step 2\",\"Expert - Step 3\",\"Expert - Step 4\",\"Expert - Step 5\",\"Expert - Step 6\",\"Expert - Step 7\",\"Expert - Step 8\",\"Expert - Step 9\",\"Expert - Step 10\",\"Expert - Step 11\",\"Expert - Step 12\",\"Expert - Step 13\",\"Expert - Step 14\",\"Expert - Step 15\",\"Expert - Step 16\",\"Expert - Step 17\",\"Expert - Step 18\",\"Expert - Step 19\",\"Expert - Step 20\",\"Expert - Step 21\",\"Expert - Step 22\",\"Expert - Step 23\",\"Expert - Step 24\",\"Expert - Step 25\",\"Expert - Step 26\",\"Expert - Step 27\",\"Expert - Step 28\",\"Expert - Step 29\",\"Expert - Step 30\",\"Expert - Step 31\",\"Expert - Step 32\",\"Expert - Step 33\",\"Expert - Step 34\",\"Expert - Step 35\",\"Expert - Step 36\",\"Expert - Step 37\",\"Expert - Step 38\",\"Expert - Step 39\",\"Expert - Step 40\",\"Expert - Step 41\",\"Expert - Step 42\",\"Expert - Step 43\",\"Expert - Step 44\",\"Expert - Step 45\",\"Expert - Step 46\",\"Expert - Step 47\",\"Expert - Step 48\",\"Expert - Step 49\",\"Expert - Step 50\",\"Expert - Step 51\",\"Expert - Step 52\",\"Expert - Step 53\",\"Expert - Step 54\",\"Expert - Step 55\",\"Expert - Step 56\",\"Expert - Step 57\",\"Expert - Step 58\",\"Expert - Step 59\",\"Expert - Step 60\",\"Expert - Step 61\",\"Expert - Step 62\",\"Expert - Step 63\",\"Expert - Step 64\",\"Expert - Step 65\",\"Expert - Step 66\",\"Expert - Step 67\",\"Expert - Step 68\",\"Expert - Step 69\",\"Expert - Step 70\",\"Expert - Step 71\",\"Expert - Step 72\",\"Expert - Step 73\",\"Expert - Step 74\",\"Expert - Step 75\",\"Expert - Step 76\",\"Expert - Step 77\",\"Expert - Step 78\",\"Expert - Step 79\",\"Expert - Step 80\",\"Expert - Step 81\",\"Expert - Step 82\",\"Expert - Step 83\",\"Expert - Step 84\",\"Expert - Step 85\",\"Expert - Step 86\",\"Expert - Step 87\",\"Expert - Step 88\",\"Expert - Step 89\",\"Expert - Step 90\",\"Expert - Step 91\",\"Expert - Step 92\",\"Expert - Step 93\",\"Expert - Step 94\",\"Expert - Step 95\",\"Expert - Step 96\",\"Expert - Step 97\",\"Expert - Step 98\",\"Expert - Step 99\",\"Expert - Step 100\",\"Expert - Step 101\",\"Expert - Step 102\",\"Expert - Step 103\",\"Expert - Step 104\",\"Expert - Step 105\"],\"line\":{\"color\":\"lightgrey\",\"width\":1},\"marker\":{\"color\":[0.3,0.30666666666666664,0.3133333333333333,0.32,0.32666666666666666,0.3333333333333333,0.33999999999999997,0.3466666666666667,0.35333333333333333,0.36,0.36666666666666664,0.3733333333333333,0.38,0.38666666666666666,0.3933333333333333,0.39999999999999997,0.4066666666666666,0.41333333333333333,0.42,0.42666666666666664,0.43333333333333335,0.43999999999999995,0.44666666666666666,0.4533333333333333,0.45999999999999996,0.4666666666666667,0.4733333333333333,0.48,0.48666666666666664,0.4933333333333333,0.5,0.5066666666666666,0.5133333333333333,0.52,0.5266666666666666,0.5333333333333333,0.54,0.5466666666666666,0.5533333333333332,0.56,0.5666666666666667,0.5733333333333333,0.58,0.5866666666666667,0.5933333333333333,0.6,0.6066666666666667,0.6133333333333333,0.6199999999999999,0.6266666666666667,0.6333333333333333,0.6399999999999999,0.6466666666666666,0.6533333333333333,0.6599999999999999,0.6666666666666666,0.6733333333333333,0.6799999999999999,0.6866666666666666,0.6933333333333334,0.7,0.7066666666666666,0.7133333333333334,0.72,0.7266666666666666,0.7333333333333333,0.74,0.7466666666666666,0.7533333333333333,0.76,0.7666666666666666,0.7733333333333333,0.78,0.7866666666666666,0.7933333333333332,0.7999999999999999,0.8066666666666666,0.8133333333333332,0.8200000000000001,0.8266666666666667,0.8333333333333333,0.8399999999999999,0.8466666666666667,0.8533333333333333,0.8599999999999999,0.8666666666666667,0.8733333333333333,0.8799999999999999,0.8866666666666667,0.8933333333333333,0.8999999999999999,0.9066666666666665,0.9133333333333333,0.9199999999999999,0.9266666666666665,0.9333333333333333,0.94,0.9466666666666665,0.9533333333333334,0.96,0.9666666666666666,0.9733333333333334,0.98,0.9866666666666666,0.9933333333333332,1.0],\"colorscale\":[[0.0,\"rgb(255,245,240)\"],[0.125,\"rgb(254,224,210)\"],[0.25,\"rgb(252,187,161)\"],[0.375,\"rgb(252,146,114)\"],[0.5,\"rgb(251,106,74)\"],[0.625,\"rgb(239,59,44)\"],[0.75,\"rgb(203,24,29)\"],[0.875,\"rgb(165,15,21)\"],[1.0,\"rgb(103,0,13)\"]],\"showscale\":false,\"size\":8},\"mode\":\"markers+lines\",\"name\":\"Expert\",\"x\":[-0.03455328941345215,-0.017303165048360825,0.11557548493146896,0.16630476713180542,0.14434804022312164,-0.18741948902606964,-0.39748892188072205,-0.300489604473114,0.18534347414970398,0.21342918276786804,0.1493896096944809,0.3407946527004242,0.2601879835128784,0.27312466502189636,0.23136462271213531,0.1640741229057312,-0.2505528926849365,-0.300489604473114,0.16038958728313446,0.18988190591335297,0.2512025833129883,0.21822035312652588,0.3427962064743042,-0.2715965509414673,0.20168708264827728,0.2770032584667206,0.3211509585380554,-0.10815567523241043,0.25901076197624207,0.38521361351013184,0.41218993067741394,0.10355931520462036,0.18883226811885834,0.3149927854537964,0.30840766429901123,0.290187805891037,0.15700554847717285,0.21446257829666138,0.3421059846878052,-0.1637572944164276,-0.08976482599973679,0.20131821930408478,0.2566237151622772,-0.29973089694976807,0.19178013503551483,0.18879403173923492,0.08416835218667984,0.03718845918774605,-0.05453959107398987,0.2082529217004776,0.2082529067993164,0.34464991092681885,0.31538525223731995,0.09483128786087036,-0.3746127486228943,0.18174146115779877,0.3124496042728424,-0.41959911584854126,-0.041182395070791245,-0.4676677882671356,0.1686960905790329,-0.25481075048446655,0.3627113997936249,0.23012125492095947,0.22237926721572876,0.09083588421344757,-0.16092726588249207,0.23002679646015167,0.24051344394683838,0.11160694807767868,0.32175514101982117,0.025309044867753983,-0.22126510739326477,0.3659282624721527,-0.29480141401290894,-0.0901469886302948,0.2689742147922516,0.40760937333106995,0.1557755321264267,0.2202526479959488,0.1975090205669403,0.36841580271720886,0.19441820681095123,0.2061890959739685,0.1550077199935913,-0.09380482882261276,0.31498339772224426,0.15228137373924255,-0.02354542352259159,0.3452449142932892,0.37183281779289246,0.2638924717903137,-0.23946063220500946,0.09432461857795715,0.3720115125179291,0.15699775516986847,0.24701251089572906,0.28218135237693787,0.2943398356437683,0.4166536331176758,-0.3231676518917084,0.16040129959583282,0.292373389005661,0.3628486692905426,0.14383858442306519,0.4708654582500458],\"y\":[0.354976624250412,0.2681962251663208,-0.0809343159198761,0.02826741710305214,0.04212234169244766,-0.2536371946334839,0.004252440761774778,-0.2521652579307556,0.0455956794321537,0.34815484285354614,0.44442614912986755,0.002182550961151719,0.235420361161232,-0.029540080577135086,0.2836741507053375,0.34274500608444214,-0.046236202120780945,-0.2521652579307556,-0.16384297609329224,-0.19327664375305176,-0.3471370041370392,-0.35004881024360657,-0.1613701432943344,0.07395891100168228,0.20787151157855988,-0.20387320220470428,0.15995103120803833,0.16980227828025818,-0.24381478130817413,-0.2613039016723633,-0.2888745963573456,0.07760028541088104,-0.1546451449394226,-0.15296578407287598,-0.1713695228099823,0.13299529254436493,0.25537142157554626,0.19194063544273376,-0.20035098493099213,0.2907826900482178,0.17320017516613007,0.059418462216854095,-0.15546473860740662,-0.015813712030649185,0.25573334097862244,0.3297240138053894,0.03422006964683533,0.45006322860717773,0.33669519424438477,0.2272191196680069,0.2272191047668457,-0.056862615048885345,0.047595828771591187,0.054729726165533066,-0.15036210417747498,-0.23750129342079163,0.07218815386295319,-0.02439924329519272,0.1833438128232956,-0.1944955289363861,-0.3434928059577942,-0.2757953107357025,-0.24692057073116302,-0.13518178462982178,-0.18888624012470245,-0.2112284153699875,-0.003495145356282592,0.0032156207598745823,-0.24454303085803986,-0.2474963515996933,-0.1632741242647171,-0.12204796075820923,0.3198096454143524,-0.19385547935962677,0.03850506618618965,0.2468864619731903,0.2121468335390091,0.01992715522646904,0.1265287548303604,-0.03059401735663414,0.35419103503227234,-0.20126749575138092,0.3519676923751831,-0.31612277030944824,-0.022910606116056442,0.056831929832696915,-0.30137160420417786,-0.06737759709358215,0.16146695613861084,-0.24834953248500824,-0.026277896016836166,0.20925594866275787,0.3948192000389099,0.00707992073148489,-0.050369877368211746,-0.32824453711509705,-0.2723352611064911,0.07294163852930069,-0.03206581994891167,-0.14609387516975403,-0.0925835520029068,0.11673209071159363,0.19770120084285736,-0.1465543657541275,0.39196717739105225,-0.19533094763755798],\"type\":\"scatter\"}],                        {\"template\":{\"data\":{\"histogram2dcontour\":[{\"type\":\"histogram2dcontour\",\"colorbar\":{\"outlinewidth\":0,\"ticks\":\"\"},\"colorscale\":[[0.0,\"#0d0887\"],[0.1111111111111111,\"#46039f\"],[0.2222222222222222,\"#7201a8\"],[0.3333333333333333,\"#9c179e\"],[0.4444444444444444,\"#bd3786\"],[0.5555555555555556,\"#d8576b\"],[0.6666666666666666,\"#ed7953\"],[0.7777777777777778,\"#fb9f3a\"],[0.8888888888888888,\"#fdca26\"],[1.0,\"#f0f921\"]]}],\"choropleth\":[{\"type\":\"choropleth\",\"colorbar\":{\"outlinewidth\":0,\"ticks\":\"\"}}],\"histogram2d\":[{\"type\":\"histogram2d\",\"colorbar\":{\"outlinewidth\":0,\"ticks\":\"\"},\"colorscale\":[[0.0,\"#0d0887\"],[0.1111111111111111,\"#46039f\"],[0.2222222222222222,\"#7201a8\"],[0.3333333333333333,\"#9c179e\"],[0.4444444444444444,\"#bd3786\"],[0.5555555555555556,\"#d8576b\"],[0.6666666666666666,\"#ed7953\"],[0.7777777777777778,\"#fb9f3a\"],[0.8888888888888888,\"#fdca26\"],[1.0,\"#f0f921\"]]}],\"heatmap\":[{\"type\":\"heatmap\",\"colorbar\":{\"outlinewidth\":0,\"ticks\":\"\"},\"colorscale\":[[0.0,\"#0d0887\"],[0.1111111111111111,\"#46039f\"],[0.2222222222222222,\"#7201a8\"],[0.3333333333333333,\"#9c179e\"],[0.4444444444444444,\"#bd3786\"],[0.5555555555555556,\"#d8576b\"],[0.6666666666666666,\"#ed7953\"],[0.7777777777777778,\"#fb9f3a\"],[0.8888888888888888,\"#fdca26\"],[1.0,\"#f0f921\"]]}],\"heatmapgl\":[{\"type\":\"heatmapgl\",\"colorbar\":{\"outlinewidth\":0,\"ticks\":\"\"},\"colorscale\":[[0.0,\"#0d0887\"],[0.1111111111111111,\"#46039f\"],[0.2222222222222222,\"#7201a8\"],[0.3333333333333333,\"#9c179e\"],[0.4444444444444444,\"#bd3786\"],[0.5555555555555556,\"#d8576b\"],[0.6666666666666666,\"#ed7953\"],[0.7777777777777778,\"#fb9f3a\"],[0.8888888888888888,\"#fdca26\"],[1.0,\"#f0f921\"]]}],\"contourcarpet\":[{\"type\":\"contourcarpet\",\"colorbar\":{\"outlinewidth\":0,\"ticks\":\"\"}}],\"contour\":[{\"type\":\"contour\",\"colorbar\":{\"outlinewidth\":0,\"ticks\":\"\"},\"colorscale\":[[0.0,\"#0d0887\"],[0.1111111111111111,\"#46039f\"],[0.2222222222222222,\"#7201a8\"],[0.3333333333333333,\"#9c179e\"],[0.4444444444444444,\"#bd3786\"],[0.5555555555555556,\"#d8576b\"],[0.6666666666666666,\"#ed7953\"],[0.7777777777777778,\"#fb9f3a\"],[0.8888888888888888,\"#fdca26\"],[1.0,\"#f0f921\"]]}],\"surface\":[{\"type\":\"surface\",\"colorbar\":{\"outlinewidth\":0,\"ticks\":\"\"},\"colorscale\":[[0.0,\"#0d0887\"],[0.1111111111111111,\"#46039f\"],[0.2222222222222222,\"#7201a8\"],[0.3333333333333333,\"#9c179e\"],[0.4444444444444444,\"#bd3786\"],[0.5555555555555556,\"#d8576b\"],[0.6666666666666666,\"#ed7953\"],[0.7777777777777778,\"#fb9f3a\"],[0.8888888888888888,\"#fdca26\"],[1.0,\"#f0f921\"]]}],\"mesh3d\":[{\"type\":\"mesh3d\",\"colorbar\":{\"outlinewidth\":0,\"ticks\":\"\"}}],\"scatter\":[{\"fillpattern\":{\"fillmode\":\"overlay\",\"size\":10,\"solidity\":0.2},\"type\":\"scatter\"}],\"parcoords\":[{\"type\":\"parcoords\",\"line\":{\"colorbar\":{\"outlinewidth\":0,\"ticks\":\"\"}}}],\"scatterpolargl\":[{\"type\":\"scatterpolargl\",\"marker\":{\"colorbar\":{\"outlinewidth\":0,\"ticks\":\"\"}}}],\"bar\":[{\"error_x\":{\"color\":\"#2a3f5f\"},\"error_y\":{\"color\":\"#2a3f5f\"},\"marker\":{\"line\":{\"color\":\"#E5ECF6\",\"width\":0.5},\"pattern\":{\"fillmode\":\"overlay\",\"size\":10,\"solidity\":0.2}},\"type\":\"bar\"}],\"scattergeo\":[{\"type\":\"scattergeo\",\"marker\":{\"colorbar\":{\"outlinewidth\":0,\"ticks\":\"\"}}}],\"scatterpolar\":[{\"type\":\"scatterpolar\",\"marker\":{\"colorbar\":{\"outlinewidth\":0,\"ticks\":\"\"}}}],\"histogram\":[{\"marker\":{\"pattern\":{\"fillmode\":\"overlay\",\"size\":10,\"solidity\":0.2}},\"type\":\"histogram\"}],\"scattergl\":[{\"type\":\"scattergl\",\"marker\":{\"colorbar\":{\"outlinewidth\":0,\"ticks\":\"\"}}}],\"scatter3d\":[{\"type\":\"scatter3d\",\"line\":{\"colorbar\":{\"outlinewidth\":0,\"ticks\":\"\"}},\"marker\":{\"colorbar\":{\"outlinewidth\":0,\"ticks\":\"\"}}}],\"scattermapbox\":[{\"type\":\"scattermapbox\",\"marker\":{\"colorbar\":{\"outlinewidth\":0,\"ticks\":\"\"}}}],\"scatterternary\":[{\"type\":\"scatterternary\",\"marker\":{\"colorbar\":{\"outlinewidth\":0,\"ticks\":\"\"}}}],\"scattercarpet\":[{\"type\":\"scattercarpet\",\"marker\":{\"colorbar\":{\"outlinewidth\":0,\"ticks\":\"\"}}}],\"carpet\":[{\"aaxis\":{\"endlinecolor\":\"#2a3f5f\",\"gridcolor\":\"white\",\"linecolor\":\"white\",\"minorgridcolor\":\"white\",\"startlinecolor\":\"#2a3f5f\"},\"baxis\":{\"endlinecolor\":\"#2a3f5f\",\"gridcolor\":\"white\",\"linecolor\":\"white\",\"minorgridcolor\":\"white\",\"startlinecolor\":\"#2a3f5f\"},\"type\":\"carpet\"}],\"table\":[{\"cells\":{\"fill\":{\"color\":\"#EBF0F8\"},\"line\":{\"color\":\"white\"}},\"header\":{\"fill\":{\"color\":\"#C8D4E3\"},\"line\":{\"color\":\"white\"}},\"type\":\"table\"}],\"barpolar\":[{\"marker\":{\"line\":{\"color\":\"#E5ECF6\",\"width\":0.5},\"pattern\":{\"fillmode\":\"overlay\",\"size\":10,\"solidity\":0.2}},\"type\":\"barpolar\"}],\"pie\":[{\"automargin\":true,\"type\":\"pie\"}]},\"layout\":{\"autotypenumbers\":\"strict\",\"colorway\":[\"#636efa\",\"#EF553B\",\"#00cc96\",\"#ab63fa\",\"#FFA15A\",\"#19d3f3\",\"#FF6692\",\"#B6E880\",\"#FF97FF\",\"#FECB52\"],\"font\":{\"color\":\"#2a3f5f\"},\"hovermode\":\"closest\",\"hoverlabel\":{\"align\":\"left\"},\"paper_bgcolor\":\"white\",\"plot_bgcolor\":\"#E5ECF6\",\"polar\":{\"bgcolor\":\"#E5ECF6\",\"angularaxis\":{\"gridcolor\":\"white\",\"linecolor\":\"white\",\"ticks\":\"\"},\"radialaxis\":{\"gridcolor\":\"white\",\"linecolor\":\"white\",\"ticks\":\"\"}},\"ternary\":{\"bgcolor\":\"#E5ECF6\",\"aaxis\":{\"gridcolor\":\"white\",\"linecolor\":\"white\",\"ticks\":\"\"},\"baxis\":{\"gridcolor\":\"white\",\"linecolor\":\"white\",\"ticks\":\"\"},\"caxis\":{\"gridcolor\":\"white\",\"linecolor\":\"white\",\"ticks\":\"\"}},\"coloraxis\":{\"colorbar\":{\"outlinewidth\":0,\"ticks\":\"\"}},\"colorscale\":{\"sequential\":[[0.0,\"#0d0887\"],[0.1111111111111111,\"#46039f\"],[0.2222222222222222,\"#7201a8\"],[0.3333333333333333,\"#9c179e\"],[0.4444444444444444,\"#bd3786\"],[0.5555555555555556,\"#d8576b\"],[0.6666666666666666,\"#ed7953\"],[0.7777777777777778,\"#fb9f3a\"],[0.8888888888888888,\"#fdca26\"],[1.0,\"#f0f921\"]],\"sequentialminus\":[[0.0,\"#0d0887\"],[0.1111111111111111,\"#46039f\"],[0.2222222222222222,\"#7201a8\"],[0.3333333333333333,\"#9c179e\"],[0.4444444444444444,\"#bd3786\"],[0.5555555555555556,\"#d8576b\"],[0.6666666666666666,\"#ed7953\"],[0.7777777777777778,\"#fb9f3a\"],[0.8888888888888888,\"#fdca26\"],[1.0,\"#f0f921\"]],\"diverging\":[[0,\"#8e0152\"],[0.1,\"#c51b7d\"],[0.2,\"#de77ae\"],[0.3,\"#f1b6da\"],[0.4,\"#fde0ef\"],[0.5,\"#f7f7f7\"],[0.6,\"#e6f5d0\"],[0.7,\"#b8e186\"],[0.8,\"#7fbc41\"],[0.9,\"#4d9221\"],[1,\"#276419\"]]},\"xaxis\":{\"gridcolor\":\"white\",\"linecolor\":\"white\",\"ticks\":\"\",\"title\":{\"standoff\":15},\"zerolinecolor\":\"white\",\"automargin\":true,\"zerolinewidth\":2},\"yaxis\":{\"gridcolor\":\"white\",\"linecolor\":\"white\",\"ticks\":\"\",\"title\":{\"standoff\":15},\"zerolinecolor\":\"white\",\"automargin\":true,\"zerolinewidth\":2},\"scene\":{\"xaxis\":{\"backgroundcolor\":\"#E5ECF6\",\"gridcolor\":\"white\",\"linecolor\":\"white\",\"showbackground\":true,\"ticks\":\"\",\"zerolinecolor\":\"white\",\"gridwidth\":2},\"yaxis\":{\"backgroundcolor\":\"#E5ECF6\",\"gridcolor\":\"white\",\"linecolor\":\"white\",\"showbackground\":true,\"ticks\":\"\",\"zerolinecolor\":\"white\",\"gridwidth\":2},\"zaxis\":{\"backgroundcolor\":\"#E5ECF6\",\"gridcolor\":\"white\",\"linecolor\":\"white\",\"showbackground\":true,\"ticks\":\"\",\"zerolinecolor\":\"white\",\"gridwidth\":2}},\"shapedefaults\":{\"line\":{\"color\":\"#2a3f5f\"}},\"annotationdefaults\":{\"arrowcolor\":\"#2a3f5f\",\"arrowhead\":0,\"arrowwidth\":1},\"geo\":{\"bgcolor\":\"white\",\"landcolor\":\"#E5ECF6\",\"subunitcolor\":\"white\",\"showland\":true,\"showlakes\":true,\"lakecolor\":\"white\"},\"title\":{\"x\":0.05},\"mapbox\":{\"style\":\"light\"}}},\"title\":{\"text\":\"PCA: Expert vs Novice - car\"},\"xaxis\":{\"title\":{\"text\":\"PCA Dimension 1\"}},\"yaxis\":{\"title\":{\"text\":\"PCA Dimension 2\"}},\"width\":1000,\"height\":700},                        {\"responsive\": true}                    ).then(function(){\n",
       "                            \n",
       "var gd = document.getElementById('c141e999-6a42-44bb-8bb8-a5479a11dffa');\n",
       "var x = new MutationObserver(function (mutations, observer) {{\n",
       "        var display = window.getComputedStyle(gd).display;\n",
       "        if (!display || display === 'none') {{\n",
       "            console.log([gd, 'removed!']);\n",
       "            Plotly.purge(gd);\n",
       "            observer.disconnect();\n",
       "        }}\n",
       "}});\n",
       "\n",
       "// Listen for the removal of the full notebook cells\n",
       "var notebookContainer = gd.closest('#notebook-container');\n",
       "if (notebookContainer) {{\n",
       "    x.observe(notebookContainer, {childList: true});\n",
       "}}\n",
       "\n",
       "// Listen for the clearing of the current output cell\n",
       "var outputEl = gd.closest('.output');\n",
       "if (outputEl) {{\n",
       "    x.observe(outputEl, {childList: true});\n",
       "}}\n",
       "\n",
       "                        })                };                });            </script>        </div>"
      ]
     },
     "metadata": {},
     "output_type": "display_data"
    },
    {
     "data": {
      "application/vnd.plotly.v1+json": {
       "config": {
        "plotlyServerURL": "https://plot.ly"
       },
       "data": [
        {
         "hoverinfo": "text",
         "hovertext": [
          "Novice - Step 0",
          "Novice - Step 1",
          "Novice - Step 2",
          "Novice - Step 3",
          "Novice - Step 4",
          "Novice - Step 5",
          "Novice - Step 6",
          "Novice - Step 7",
          "Novice - Step 8",
          "Novice - Step 9",
          "Novice - Step 10",
          "Novice - Step 11",
          "Novice - Step 12",
          "Novice - Step 13",
          "Novice - Step 14",
          "Novice - Step 15",
          "Novice - Step 16",
          "Novice - Step 17",
          "Novice - Step 18",
          "Novice - Step 19",
          "Novice - Step 20",
          "Novice - Step 21",
          "Novice - Step 22",
          "Novice - Step 23",
          "Novice - Step 24",
          "Novice - Step 25",
          "Novice - Step 26",
          "Novice - Step 27",
          "Novice - Step 28",
          "Novice - Step 29",
          "Novice - Step 30",
          "Novice - Step 31",
          "Novice - Step 32",
          "Novice - Step 33",
          "Novice - Step 34",
          "Novice - Step 35",
          "Novice - Step 36",
          "Novice - Step 37",
          "Novice - Step 38",
          "Novice - Step 39",
          "Novice - Step 40",
          "Novice - Step 41",
          "Novice - Step 42",
          "Novice - Step 43",
          "Novice - Step 44",
          "Novice - Step 45",
          "Novice - Step 46",
          "Novice - Step 47",
          "Novice - Step 48",
          "Novice - Step 49",
          "Novice - Step 50",
          "Novice - Step 51"
         ],
         "line": {
          "color": "lightgrey",
          "width": 1
         },
         "marker": {
          "color": [
           0.3,
           0.3137254901960784,
           0.32745098039215687,
           0.3411764705882353,
           0.3549019607843137,
           0.3686274509803922,
           0.38235294117647056,
           0.396078431372549,
           0.40980392156862744,
           0.4235294117647059,
           0.4372549019607843,
           0.4509803921568627,
           0.4647058823529412,
           0.4784313725490196,
           0.492156862745098,
           0.5058823529411764,
           0.5196078431372548,
           0.5333333333333333,
           0.5470588235294118,
           0.5607843137254902,
           0.5745098039215686,
           0.588235294117647,
           0.6019607843137255,
           0.615686274509804,
           0.6294117647058823,
           0.6431372549019607,
           0.6568627450980392,
           0.6705882352941177,
           0.6843137254901961,
           0.6980392156862745,
           0.7117647058823529,
           0.7254901960784313,
           0.7392156862745098,
           0.7529411764705882,
           0.7666666666666666,
           0.7803921568627451,
           0.7941176470588236,
           0.807843137254902,
           0.8215686274509804,
           0.8352941176470587,
           0.8490196078431373,
           0.8627450980392157,
           0.8764705882352941,
           0.8901960784313725,
           0.9039215686274509,
           0.9176470588235295,
           0.9313725490196079,
           0.9450980392156862,
           0.9588235294117646,
           0.972549019607843,
           0.9862745098039216,
           1
          ],
          "colorscale": [
           [
            0,
            "rgb(247,251,255)"
           ],
           [
            0.125,
            "rgb(222,235,247)"
           ],
           [
            0.25,
            "rgb(198,219,239)"
           ],
           [
            0.375,
            "rgb(158,202,225)"
           ],
           [
            0.5,
            "rgb(107,174,214)"
           ],
           [
            0.625,
            "rgb(66,146,198)"
           ],
           [
            0.75,
            "rgb(33,113,181)"
           ],
           [
            0.875,
            "rgb(8,81,156)"
           ],
           [
            1,
            "rgb(8,48,107)"
           ]
          ],
          "showscale": false,
          "size": 8
         },
         "mode": "markers+lines",
         "name": "Novice",
         "type": "scatter",
         "x": [
          -1.834922432899475,
          -6.1107401847839355,
          -16.475406646728516,
          0.23963768780231476,
          34.48875427246094,
          -14.754414558410645,
          10.627426147460938,
          16.4106502532959,
          17.24959945678711,
          20.13704490661621,
          -17.935466766357422,
          -24.48622703552246,
          -20.552602767944336,
          -26.301206588745117,
          -12.71395206451416,
          28.94040298461914,
          20.890466690063477,
          21.106182098388672,
          20.987232208251953,
          21.496856689453125,
          -11.807951927185059,
          -0.8471564054489136,
          -15.264841079711914,
          -6.045236587524414,
          -3.6348023414611816,
          -5.3748931884765625,
          -14.266639709472656,
          -22.146230697631836,
          -25.932945251464844,
          -22.377220153808594,
          -12.60678768157959,
          -9.98776626586914,
          -15.171074867248535,
          -11.657176971435547,
          -18.880327224731445,
          -19.436237335205078,
          -19.29368782043457,
          9.728927612304688,
          8.647125244140625,
          -8.32427978515625,
          -7.059167385101318,
          -11.514228820800781,
          -20.530179977416992,
          13.486096382141113,
          -19.993228912353516,
          -18.423063278198242,
          -13.250186920166016,
          -16.057540893554688,
          -13.29711627960205,
          -19.715681076049805,
          12.184531211853027,
          1.4063576459884644
         ],
         "y": [
          -6.2395758628845215,
          -22.389745712280273,
          -20.659564971923828,
          -30.335018157958984,
          9.659635543823242,
          -19.279720306396484,
          -2.828064441680908,
          -18.38279151916504,
          -17.560300827026367,
          -13.906436920166016,
          -20.592090606689453,
          -18.92531967163086,
          -23.406848907470703,
          -19.987560272216797,
          1.6719022989273071,
          -2.624575138092041,
          -3.3551578521728516,
          -0.25500455498695374,
          0.9410607814788818,
          3.0226340293884277,
          2.9915716648101807,
          -1.4894728660583496,
          -8.161039352416992,
          -20.52033805847168,
          -13.947717666625977,
          -19.14654541015625,
          -11.683313369750977,
          -18.525224685668945,
          -23.804668426513672,
          -24.46034049987793,
          -12.104904174804688,
          -11.615723609924316,
          -23.0932559967041,
          -31.730937957763672,
          -25.170696258544922,
          -27.234800338745117,
          -30.08400535583496,
          -29.0427188873291,
          -29.435768127441406,
          -30.952129364013672,
          -30.274967193603516,
          -21.566640853881836,
          -16.81166648864746,
          -5.141366958618164,
          -15.129470825195312,
          -12.08222770690918,
          -1.6199798583984375,
          -11.220342636108398,
          -30.25436782836914,
          -9.487947463989258,
          3.6247732639312744,
          -2.837523937225342
         ]
        },
        {
         "hoverinfo": "text",
         "hovertext": [
          "Expert - Step 0",
          "Expert - Step 1",
          "Expert - Step 2",
          "Expert - Step 3",
          "Expert - Step 4",
          "Expert - Step 5",
          "Expert - Step 6",
          "Expert - Step 7",
          "Expert - Step 8",
          "Expert - Step 9",
          "Expert - Step 10",
          "Expert - Step 11",
          "Expert - Step 12",
          "Expert - Step 13",
          "Expert - Step 14",
          "Expert - Step 15",
          "Expert - Step 16",
          "Expert - Step 17",
          "Expert - Step 18",
          "Expert - Step 19",
          "Expert - Step 20",
          "Expert - Step 21",
          "Expert - Step 22",
          "Expert - Step 23",
          "Expert - Step 24",
          "Expert - Step 25",
          "Expert - Step 26",
          "Expert - Step 27",
          "Expert - Step 28",
          "Expert - Step 29",
          "Expert - Step 30",
          "Expert - Step 31",
          "Expert - Step 32",
          "Expert - Step 33",
          "Expert - Step 34",
          "Expert - Step 35",
          "Expert - Step 36",
          "Expert - Step 37",
          "Expert - Step 38",
          "Expert - Step 39",
          "Expert - Step 40",
          "Expert - Step 41",
          "Expert - Step 42",
          "Expert - Step 43",
          "Expert - Step 44",
          "Expert - Step 45",
          "Expert - Step 46",
          "Expert - Step 47",
          "Expert - Step 48",
          "Expert - Step 49",
          "Expert - Step 50",
          "Expert - Step 51",
          "Expert - Step 52",
          "Expert - Step 53",
          "Expert - Step 54",
          "Expert - Step 55",
          "Expert - Step 56",
          "Expert - Step 57",
          "Expert - Step 58",
          "Expert - Step 59",
          "Expert - Step 60",
          "Expert - Step 61",
          "Expert - Step 62",
          "Expert - Step 63",
          "Expert - Step 64",
          "Expert - Step 65",
          "Expert - Step 66",
          "Expert - Step 67",
          "Expert - Step 68",
          "Expert - Step 69",
          "Expert - Step 70",
          "Expert - Step 71",
          "Expert - Step 72",
          "Expert - Step 73",
          "Expert - Step 74",
          "Expert - Step 75",
          "Expert - Step 76",
          "Expert - Step 77",
          "Expert - Step 78",
          "Expert - Step 79",
          "Expert - Step 80",
          "Expert - Step 81",
          "Expert - Step 82",
          "Expert - Step 83",
          "Expert - Step 84",
          "Expert - Step 85",
          "Expert - Step 86",
          "Expert - Step 87",
          "Expert - Step 88",
          "Expert - Step 89",
          "Expert - Step 90",
          "Expert - Step 91",
          "Expert - Step 92",
          "Expert - Step 93",
          "Expert - Step 94",
          "Expert - Step 95",
          "Expert - Step 96",
          "Expert - Step 97",
          "Expert - Step 98",
          "Expert - Step 99",
          "Expert - Step 100",
          "Expert - Step 101",
          "Expert - Step 102",
          "Expert - Step 103",
          "Expert - Step 104",
          "Expert - Step 105"
         ],
         "line": {
          "color": "lightgrey",
          "width": 1
         },
         "marker": {
          "color": [
           0.3,
           0.30666666666666664,
           0.3133333333333333,
           0.32,
           0.32666666666666666,
           0.3333333333333333,
           0.33999999999999997,
           0.3466666666666667,
           0.35333333333333333,
           0.36,
           0.36666666666666664,
           0.3733333333333333,
           0.38,
           0.38666666666666666,
           0.3933333333333333,
           0.39999999999999997,
           0.4066666666666666,
           0.41333333333333333,
           0.42,
           0.42666666666666664,
           0.43333333333333335,
           0.43999999999999995,
           0.44666666666666666,
           0.4533333333333333,
           0.45999999999999996,
           0.4666666666666667,
           0.4733333333333333,
           0.48,
           0.48666666666666664,
           0.4933333333333333,
           0.5,
           0.5066666666666666,
           0.5133333333333333,
           0.52,
           0.5266666666666666,
           0.5333333333333333,
           0.54,
           0.5466666666666666,
           0.5533333333333332,
           0.56,
           0.5666666666666667,
           0.5733333333333333,
           0.58,
           0.5866666666666667,
           0.5933333333333333,
           0.6,
           0.6066666666666667,
           0.6133333333333333,
           0.6199999999999999,
           0.6266666666666667,
           0.6333333333333333,
           0.6399999999999999,
           0.6466666666666666,
           0.6533333333333333,
           0.6599999999999999,
           0.6666666666666666,
           0.6733333333333333,
           0.6799999999999999,
           0.6866666666666666,
           0.6933333333333334,
           0.7,
           0.7066666666666666,
           0.7133333333333334,
           0.72,
           0.7266666666666666,
           0.7333333333333333,
           0.74,
           0.7466666666666666,
           0.7533333333333333,
           0.76,
           0.7666666666666666,
           0.7733333333333333,
           0.78,
           0.7866666666666666,
           0.7933333333333332,
           0.7999999999999999,
           0.8066666666666666,
           0.8133333333333332,
           0.8200000000000001,
           0.8266666666666667,
           0.8333333333333333,
           0.8399999999999999,
           0.8466666666666667,
           0.8533333333333333,
           0.8599999999999999,
           0.8666666666666667,
           0.8733333333333333,
           0.8799999999999999,
           0.8866666666666667,
           0.8933333333333333,
           0.8999999999999999,
           0.9066666666666665,
           0.9133333333333333,
           0.9199999999999999,
           0.9266666666666665,
           0.9333333333333333,
           0.94,
           0.9466666666666665,
           0.9533333333333334,
           0.96,
           0.9666666666666666,
           0.9733333333333334,
           0.98,
           0.9866666666666666,
           0.9933333333333332,
           1
          ],
          "colorscale": [
           [
            0,
            "rgb(255,245,240)"
           ],
           [
            0.125,
            "rgb(254,224,210)"
           ],
           [
            0.25,
            "rgb(252,187,161)"
           ],
           [
            0.375,
            "rgb(252,146,114)"
           ],
           [
            0.5,
            "rgb(251,106,74)"
           ],
           [
            0.625,
            "rgb(239,59,44)"
           ],
           [
            0.75,
            "rgb(203,24,29)"
           ],
           [
            0.875,
            "rgb(165,15,21)"
           ],
           [
            1,
            "rgb(103,0,13)"
           ]
          ],
          "showscale": false,
          "size": 8
         },
         "mode": "markers+lines",
         "name": "Expert",
         "type": "scatter",
         "x": [
          -2.7531306743621826,
          -2.528120994567871,
          -2.581949472427368,
          3.6689701080322266,
          2.7055022716522217,
          -26.977149963378906,
          -7.7894086837768555,
          -25.452980041503906,
          17.35633659362793,
          16.019451141357422,
          29.286516189575195,
          34.413116455078125,
          33.801822662353516,
          11.898900032043457,
          30.675090789794922,
          31.793479919433594,
          -21.534881591796875,
          -24.880617141723633,
          24.44188117980957,
          25.38561248779297,
          -10.4337158203125,
          -11.956205368041992,
          8.757231712341309,
          -20.002090454101562,
          -15.043132781982422,
          6.099376678466797,
          0.2629508972167969,
          28.218769073486328,
          -12.270127296447754,
          -8.516530990600586,
          14.472795486450195,
          21.87249183654785,
          23.549156188964844,
          -0.9036357402801514,
          -1.7737336158752441,
          -2.155344009399414,
          -3.6618716716766357,
          19.16316032409668,
          15.355649948120117,
          25.593852996826172,
          26.47719955444336,
          -7.165401935577393,
          -5.630549430847168,
          -13.806905746459961,
          24.53591537475586,
          -1.890186071395874,
          -5.885767459869385,
          -1.6051729917526245,
          -1.4274537563323975,
          9.278021812438965,
          9.278021812438965,
          17.9266300201416,
          17.859575271606445,
          5.358057022094727,
          -14.115224838256836,
          11.46481704711914,
          7.78848934173584,
          -10.847570419311523,
          10.346222877502441,
          -18.99315643310547,
          1.440082311630249,
          -27.65167808532715,
          -2.3430371284484863,
          24.355152130126953,
          25.081262588500977,
          10.263456344604492,
          17.892751693725586,
          0.0722915530204773,
          7.2372026443481445,
          9.69642448425293,
          7.368518829345703,
          17.659034729003906,
          -25.422447204589844,
          7.557647705078125,
          -26.25484275817871,
          -18.07019805908203,
          0.8951238989830017,
          18.60830307006836,
          6.474546909332275,
          6.394632816314697,
          15.275775909423828,
          1.6416271924972534,
          -17.289188385009766,
          5.514367580413818,
          -10.9088716506958,
          -11.571375846862793,
          2.1262266635894775,
          5.744935989379883,
          10.73556900024414,
          4.02482795715332,
          10.635076522827148,
          16.90973472595215,
          -5.4863715171813965,
          7.2494282722473145,
          5.474306583404541,
          -13.587327003479004,
          -9.647656440734863,
          22.127559661865234,
          -4.248684406280518,
          2.903217315673828,
          -15.407750129699707,
          6.803492546081543,
          7.031225204467773,
          15.971322059631348,
          17.131744384765625,
          15.075113296508789
         ],
         "y": [
          -1.706097960472107,
          -11.79870319366455,
          -8.811663627624512,
          -19.779600143432617,
          -19.231555938720703,
          -3.567694664001465,
          -21.008508682250977,
          -5.336722373962402,
          18.385549545288086,
          14.241731643676758,
          8.268022537231445,
          12.819594383239746,
          11.568130493164062,
          21.5688533782959,
          8.048933982849121,
          10.321468353271484,
          -3.6557815074920654,
          -4.370317459106445,
          -6.5245490074157715,
          -8.254631042480469,
          21.109905242919922,
          18.69643783569336,
          37.01355743408203,
          -2.635580539703369,
          -0.2424222230911255,
          33.72414016723633,
          8.408267974853516,
          -3.7617077827453613,
          21.570199966430664,
          18.536670684814453,
          36.838226318359375,
          -7.763632297515869,
          -9.699787139892578,
          19.79611587524414,
          18.65932846069336,
          6.113073825836182,
          3.5755183696746826,
          11.417372703552246,
          32.835205078125,
          3.3041698932647705,
          2.608105182647705,
          14.83447551727295,
          15.828405380249023,
          -25.814653396606445,
          5.943435192108154,
          4.491065502166748,
          2.263432025909424,
          0.2073473483324051,
          -12.617851257324219,
          -18.255651473999023,
          -18.255651473999023,
          28.9287166595459,
          20.491622924804688,
          -11.006089210510254,
          -27.42222785949707,
          32.541412353515625,
          19.594980239868164,
          -22.73419189453125,
          7.333588600158691,
          -18.797975540161133,
          -29.463041305541992,
          -14.760169982910156,
          29.54567527770996,
          34.1019287109375,
          34.94303894042969,
          31.71468162536621,
          -10.585582733154297,
          13.829717636108398,
          0.6608820557594299,
          -1.9875692129135132,
          31.222076416015625,
          -9.360061645507812,
          -11.677327156066895,
          36.87548065185547,
          -13.125866889953613,
          -0.42506685853004456,
          3.7858707904815674,
          27.675289154052734,
          -12.478408813476562,
          9.917101860046387,
          13.255446434020996,
          28.83125877380371,
          1.374108910560608,
          29.242830276489258,
          -2.5352396965026855,
          -9.739764213562012,
          25.480783462524414,
          -9.04327392578125,
          5.98695707321167,
          25.03386878967285,
          21.652006149291992,
          11.661458969116211,
          -3.4510560035705566,
          -13.85899543762207,
          24.77644920349121,
          20.86737823486328,
          17.423934936523438,
          -13.515920639038086,
          15.91932201385498,
          29.096895217895508,
          -14.510514259338379,
          8.841947555541992,
          17.36832618713379,
          31.614776611328125,
          16.19997787475586,
          37.82432556152344
         ]
        }
       ],
       "layout": {
        "height": 700,
        "template": {
         "data": {
          "bar": [
           {
            "error_x": {
             "color": "#2a3f5f"
            },
            "error_y": {
             "color": "#2a3f5f"
            },
            "marker": {
             "line": {
              "color": "#E5ECF6",
              "width": 0.5
             },
             "pattern": {
              "fillmode": "overlay",
              "size": 10,
              "solidity": 0.2
             }
            },
            "type": "bar"
           }
          ],
          "barpolar": [
           {
            "marker": {
             "line": {
              "color": "#E5ECF6",
              "width": 0.5
             },
             "pattern": {
              "fillmode": "overlay",
              "size": 10,
              "solidity": 0.2
             }
            },
            "type": "barpolar"
           }
          ],
          "carpet": [
           {
            "aaxis": {
             "endlinecolor": "#2a3f5f",
             "gridcolor": "white",
             "linecolor": "white",
             "minorgridcolor": "white",
             "startlinecolor": "#2a3f5f"
            },
            "baxis": {
             "endlinecolor": "#2a3f5f",
             "gridcolor": "white",
             "linecolor": "white",
             "minorgridcolor": "white",
             "startlinecolor": "#2a3f5f"
            },
            "type": "carpet"
           }
          ],
          "choropleth": [
           {
            "colorbar": {
             "outlinewidth": 0,
             "ticks": ""
            },
            "type": "choropleth"
           }
          ],
          "contour": [
           {
            "colorbar": {
             "outlinewidth": 0,
             "ticks": ""
            },
            "colorscale": [
             [
              0,
              "#0d0887"
             ],
             [
              0.1111111111111111,
              "#46039f"
             ],
             [
              0.2222222222222222,
              "#7201a8"
             ],
             [
              0.3333333333333333,
              "#9c179e"
             ],
             [
              0.4444444444444444,
              "#bd3786"
             ],
             [
              0.5555555555555556,
              "#d8576b"
             ],
             [
              0.6666666666666666,
              "#ed7953"
             ],
             [
              0.7777777777777778,
              "#fb9f3a"
             ],
             [
              0.8888888888888888,
              "#fdca26"
             ],
             [
              1,
              "#f0f921"
             ]
            ],
            "type": "contour"
           }
          ],
          "contourcarpet": [
           {
            "colorbar": {
             "outlinewidth": 0,
             "ticks": ""
            },
            "type": "contourcarpet"
           }
          ],
          "heatmap": [
           {
            "colorbar": {
             "outlinewidth": 0,
             "ticks": ""
            },
            "colorscale": [
             [
              0,
              "#0d0887"
             ],
             [
              0.1111111111111111,
              "#46039f"
             ],
             [
              0.2222222222222222,
              "#7201a8"
             ],
             [
              0.3333333333333333,
              "#9c179e"
             ],
             [
              0.4444444444444444,
              "#bd3786"
             ],
             [
              0.5555555555555556,
              "#d8576b"
             ],
             [
              0.6666666666666666,
              "#ed7953"
             ],
             [
              0.7777777777777778,
              "#fb9f3a"
             ],
             [
              0.8888888888888888,
              "#fdca26"
             ],
             [
              1,
              "#f0f921"
             ]
            ],
            "type": "heatmap"
           }
          ],
          "heatmapgl": [
           {
            "colorbar": {
             "outlinewidth": 0,
             "ticks": ""
            },
            "colorscale": [
             [
              0,
              "#0d0887"
             ],
             [
              0.1111111111111111,
              "#46039f"
             ],
             [
              0.2222222222222222,
              "#7201a8"
             ],
             [
              0.3333333333333333,
              "#9c179e"
             ],
             [
              0.4444444444444444,
              "#bd3786"
             ],
             [
              0.5555555555555556,
              "#d8576b"
             ],
             [
              0.6666666666666666,
              "#ed7953"
             ],
             [
              0.7777777777777778,
              "#fb9f3a"
             ],
             [
              0.8888888888888888,
              "#fdca26"
             ],
             [
              1,
              "#f0f921"
             ]
            ],
            "type": "heatmapgl"
           }
          ],
          "histogram": [
           {
            "marker": {
             "pattern": {
              "fillmode": "overlay",
              "size": 10,
              "solidity": 0.2
             }
            },
            "type": "histogram"
           }
          ],
          "histogram2d": [
           {
            "colorbar": {
             "outlinewidth": 0,
             "ticks": ""
            },
            "colorscale": [
             [
              0,
              "#0d0887"
             ],
             [
              0.1111111111111111,
              "#46039f"
             ],
             [
              0.2222222222222222,
              "#7201a8"
             ],
             [
              0.3333333333333333,
              "#9c179e"
             ],
             [
              0.4444444444444444,
              "#bd3786"
             ],
             [
              0.5555555555555556,
              "#d8576b"
             ],
             [
              0.6666666666666666,
              "#ed7953"
             ],
             [
              0.7777777777777778,
              "#fb9f3a"
             ],
             [
              0.8888888888888888,
              "#fdca26"
             ],
             [
              1,
              "#f0f921"
             ]
            ],
            "type": "histogram2d"
           }
          ],
          "histogram2dcontour": [
           {
            "colorbar": {
             "outlinewidth": 0,
             "ticks": ""
            },
            "colorscale": [
             [
              0,
              "#0d0887"
             ],
             [
              0.1111111111111111,
              "#46039f"
             ],
             [
              0.2222222222222222,
              "#7201a8"
             ],
             [
              0.3333333333333333,
              "#9c179e"
             ],
             [
              0.4444444444444444,
              "#bd3786"
             ],
             [
              0.5555555555555556,
              "#d8576b"
             ],
             [
              0.6666666666666666,
              "#ed7953"
             ],
             [
              0.7777777777777778,
              "#fb9f3a"
             ],
             [
              0.8888888888888888,
              "#fdca26"
             ],
             [
              1,
              "#f0f921"
             ]
            ],
            "type": "histogram2dcontour"
           }
          ],
          "mesh3d": [
           {
            "colorbar": {
             "outlinewidth": 0,
             "ticks": ""
            },
            "type": "mesh3d"
           }
          ],
          "parcoords": [
           {
            "line": {
             "colorbar": {
              "outlinewidth": 0,
              "ticks": ""
             }
            },
            "type": "parcoords"
           }
          ],
          "pie": [
           {
            "automargin": true,
            "type": "pie"
           }
          ],
          "scatter": [
           {
            "fillpattern": {
             "fillmode": "overlay",
             "size": 10,
             "solidity": 0.2
            },
            "type": "scatter"
           }
          ],
          "scatter3d": [
           {
            "line": {
             "colorbar": {
              "outlinewidth": 0,
              "ticks": ""
             }
            },
            "marker": {
             "colorbar": {
              "outlinewidth": 0,
              "ticks": ""
             }
            },
            "type": "scatter3d"
           }
          ],
          "scattercarpet": [
           {
            "marker": {
             "colorbar": {
              "outlinewidth": 0,
              "ticks": ""
             }
            },
            "type": "scattercarpet"
           }
          ],
          "scattergeo": [
           {
            "marker": {
             "colorbar": {
              "outlinewidth": 0,
              "ticks": ""
             }
            },
            "type": "scattergeo"
           }
          ],
          "scattergl": [
           {
            "marker": {
             "colorbar": {
              "outlinewidth": 0,
              "ticks": ""
             }
            },
            "type": "scattergl"
           }
          ],
          "scattermapbox": [
           {
            "marker": {
             "colorbar": {
              "outlinewidth": 0,
              "ticks": ""
             }
            },
            "type": "scattermapbox"
           }
          ],
          "scatterpolar": [
           {
            "marker": {
             "colorbar": {
              "outlinewidth": 0,
              "ticks": ""
             }
            },
            "type": "scatterpolar"
           }
          ],
          "scatterpolargl": [
           {
            "marker": {
             "colorbar": {
              "outlinewidth": 0,
              "ticks": ""
             }
            },
            "type": "scatterpolargl"
           }
          ],
          "scatterternary": [
           {
            "marker": {
             "colorbar": {
              "outlinewidth": 0,
              "ticks": ""
             }
            },
            "type": "scatterternary"
           }
          ],
          "surface": [
           {
            "colorbar": {
             "outlinewidth": 0,
             "ticks": ""
            },
            "colorscale": [
             [
              0,
              "#0d0887"
             ],
             [
              0.1111111111111111,
              "#46039f"
             ],
             [
              0.2222222222222222,
              "#7201a8"
             ],
             [
              0.3333333333333333,
              "#9c179e"
             ],
             [
              0.4444444444444444,
              "#bd3786"
             ],
             [
              0.5555555555555556,
              "#d8576b"
             ],
             [
              0.6666666666666666,
              "#ed7953"
             ],
             [
              0.7777777777777778,
              "#fb9f3a"
             ],
             [
              0.8888888888888888,
              "#fdca26"
             ],
             [
              1,
              "#f0f921"
             ]
            ],
            "type": "surface"
           }
          ],
          "table": [
           {
            "cells": {
             "fill": {
              "color": "#EBF0F8"
             },
             "line": {
              "color": "white"
             }
            },
            "header": {
             "fill": {
              "color": "#C8D4E3"
             },
             "line": {
              "color": "white"
             }
            },
            "type": "table"
           }
          ]
         },
         "layout": {
          "annotationdefaults": {
           "arrowcolor": "#2a3f5f",
           "arrowhead": 0,
           "arrowwidth": 1
          },
          "autotypenumbers": "strict",
          "coloraxis": {
           "colorbar": {
            "outlinewidth": 0,
            "ticks": ""
           }
          },
          "colorscale": {
           "diverging": [
            [
             0,
             "#8e0152"
            ],
            [
             0.1,
             "#c51b7d"
            ],
            [
             0.2,
             "#de77ae"
            ],
            [
             0.3,
             "#f1b6da"
            ],
            [
             0.4,
             "#fde0ef"
            ],
            [
             0.5,
             "#f7f7f7"
            ],
            [
             0.6,
             "#e6f5d0"
            ],
            [
             0.7,
             "#b8e186"
            ],
            [
             0.8,
             "#7fbc41"
            ],
            [
             0.9,
             "#4d9221"
            ],
            [
             1,
             "#276419"
            ]
           ],
           "sequential": [
            [
             0,
             "#0d0887"
            ],
            [
             0.1111111111111111,
             "#46039f"
            ],
            [
             0.2222222222222222,
             "#7201a8"
            ],
            [
             0.3333333333333333,
             "#9c179e"
            ],
            [
             0.4444444444444444,
             "#bd3786"
            ],
            [
             0.5555555555555556,
             "#d8576b"
            ],
            [
             0.6666666666666666,
             "#ed7953"
            ],
            [
             0.7777777777777778,
             "#fb9f3a"
            ],
            [
             0.8888888888888888,
             "#fdca26"
            ],
            [
             1,
             "#f0f921"
            ]
           ],
           "sequentialminus": [
            [
             0,
             "#0d0887"
            ],
            [
             0.1111111111111111,
             "#46039f"
            ],
            [
             0.2222222222222222,
             "#7201a8"
            ],
            [
             0.3333333333333333,
             "#9c179e"
            ],
            [
             0.4444444444444444,
             "#bd3786"
            ],
            [
             0.5555555555555556,
             "#d8576b"
            ],
            [
             0.6666666666666666,
             "#ed7953"
            ],
            [
             0.7777777777777778,
             "#fb9f3a"
            ],
            [
             0.8888888888888888,
             "#fdca26"
            ],
            [
             1,
             "#f0f921"
            ]
           ]
          },
          "colorway": [
           "#636efa",
           "#EF553B",
           "#00cc96",
           "#ab63fa",
           "#FFA15A",
           "#19d3f3",
           "#FF6692",
           "#B6E880",
           "#FF97FF",
           "#FECB52"
          ],
          "font": {
           "color": "#2a3f5f"
          },
          "geo": {
           "bgcolor": "white",
           "lakecolor": "white",
           "landcolor": "#E5ECF6",
           "showlakes": true,
           "showland": true,
           "subunitcolor": "white"
          },
          "hoverlabel": {
           "align": "left"
          },
          "hovermode": "closest",
          "mapbox": {
           "style": "light"
          },
          "paper_bgcolor": "white",
          "plot_bgcolor": "#E5ECF6",
          "polar": {
           "angularaxis": {
            "gridcolor": "white",
            "linecolor": "white",
            "ticks": ""
           },
           "bgcolor": "#E5ECF6",
           "radialaxis": {
            "gridcolor": "white",
            "linecolor": "white",
            "ticks": ""
           }
          },
          "scene": {
           "xaxis": {
            "backgroundcolor": "#E5ECF6",
            "gridcolor": "white",
            "gridwidth": 2,
            "linecolor": "white",
            "showbackground": true,
            "ticks": "",
            "zerolinecolor": "white"
           },
           "yaxis": {
            "backgroundcolor": "#E5ECF6",
            "gridcolor": "white",
            "gridwidth": 2,
            "linecolor": "white",
            "showbackground": true,
            "ticks": "",
            "zerolinecolor": "white"
           },
           "zaxis": {
            "backgroundcolor": "#E5ECF6",
            "gridcolor": "white",
            "gridwidth": 2,
            "linecolor": "white",
            "showbackground": true,
            "ticks": "",
            "zerolinecolor": "white"
           }
          },
          "shapedefaults": {
           "line": {
            "color": "#2a3f5f"
           }
          },
          "ternary": {
           "aaxis": {
            "gridcolor": "white",
            "linecolor": "white",
            "ticks": ""
           },
           "baxis": {
            "gridcolor": "white",
            "linecolor": "white",
            "ticks": ""
           },
           "bgcolor": "#E5ECF6",
           "caxis": {
            "gridcolor": "white",
            "linecolor": "white",
            "ticks": ""
           }
          },
          "title": {
           "x": 0.05
          },
          "xaxis": {
           "automargin": true,
           "gridcolor": "white",
           "linecolor": "white",
           "ticks": "",
           "title": {
            "standoff": 15
           },
           "zerolinecolor": "white",
           "zerolinewidth": 2
          },
          "yaxis": {
           "automargin": true,
           "gridcolor": "white",
           "linecolor": "white",
           "ticks": "",
           "title": {
            "standoff": 15
           },
           "zerolinecolor": "white",
           "zerolinewidth": 2
          }
         }
        },
        "title": {
         "text": "t-SNE: Expert vs Novice - car"
        },
        "width": 1000,
        "xaxis": {
         "autorange": true,
         "range": [
          -31.585879687205818,
          38.42295587433961
         ],
         "title": {
          "text": "TSNE Dimension 1"
         },
         "type": "linear"
        },
        "yaxis": {
         "autorange": true,
         "range": [
          -36.43882697326127,
          42.53221457702104
         ],
         "title": {
          "text": "TSNE Dimension 2"
         },
         "type": "linear"
        }
       }
      },
      "image/png": "[encoded data removed]",
      "text/html": [
       "<div>                            <div id=\"233cb7c0-53c3-4394-acd1-3dc1f26ccd7f\" class=\"plotly-graph-div\" style=\"height:700px; width:1000px;\"></div>            <script type=\"text/javascript\">                require([\"plotly\"], function(Plotly) {                    window.PLOTLYENV=window.PLOTLYENV || {};                                    if (document.getElementById(\"233cb7c0-53c3-4394-acd1-3dc1f26ccd7f\")) {                    Plotly.newPlot(                        \"233cb7c0-53c3-4394-acd1-3dc1f26ccd7f\",                        [{\"hoverinfo\":\"text\",\"hovertext\":[\"Novice - Step 0\",\"Novice - Step 1\",\"Novice - Step 2\",\"Novice - Step 3\",\"Novice - Step 4\",\"Novice - Step 5\",\"Novice - Step 6\",\"Novice - Step 7\",\"Novice - Step 8\",\"Novice - Step 9\",\"Novice - Step 10\",\"Novice - Step 11\",\"Novice - Step 12\",\"Novice - Step 13\",\"Novice - Step 14\",\"Novice - Step 15\",\"Novice - Step 16\",\"Novice - Step 17\",\"Novice - Step 18\",\"Novice - Step 19\",\"Novice - Step 20\",\"Novice - Step 21\",\"Novice - Step 22\",\"Novice - Step 23\",\"Novice - Step 24\",\"Novice - Step 25\",\"Novice - Step 26\",\"Novice - Step 27\",\"Novice - Step 28\",\"Novice - Step 29\",\"Novice - Step 30\",\"Novice - Step 31\",\"Novice - Step 32\",\"Novice - Step 33\",\"Novice - Step 34\",\"Novice - Step 35\",\"Novice - Step 36\",\"Novice - Step 37\",\"Novice - Step 38\",\"Novice - Step 39\",\"Novice - Step 40\",\"Novice - Step 41\",\"Novice - Step 42\",\"Novice - Step 43\",\"Novice - Step 44\",\"Novice - Step 45\",\"Novice - Step 46\",\"Novice - Step 47\",\"Novice - Step 48\",\"Novice - Step 49\",\"Novice - Step 50\",\"Novice - Step 51\"],\"line\":{\"color\":\"lightgrey\",\"width\":1},\"marker\":{\"color\":[0.3,0.3137254901960784,0.32745098039215687,0.3411764705882353,0.3549019607843137,0.3686274509803922,0.38235294117647056,0.396078431372549,0.40980392156862744,0.4235294117647059,0.4372549019607843,0.4509803921568627,0.4647058823529412,0.4784313725490196,0.492156862745098,0.5058823529411764,0.5196078431372548,0.5333333333333333,0.5470588235294118,0.5607843137254902,0.5745098039215686,0.588235294117647,0.6019607843137255,0.615686274509804,0.6294117647058823,0.6431372549019607,0.6568627450980392,0.6705882352941177,0.6843137254901961,0.6980392156862745,0.7117647058823529,0.7254901960784313,0.7392156862745098,0.7529411764705882,0.7666666666666666,0.7803921568627451,0.7941176470588236,0.807843137254902,0.8215686274509804,0.8352941176470587,0.8490196078431373,0.8627450980392157,0.8764705882352941,0.8901960784313725,0.9039215686274509,0.9176470588235295,0.9313725490196079,0.9450980392156862,0.9588235294117646,0.972549019607843,0.9862745098039216,1.0],\"colorscale\":[[0.0,\"rgb(247,251,255)\"],[0.125,\"rgb(222,235,247)\"],[0.25,\"rgb(198,219,239)\"],[0.375,\"rgb(158,202,225)\"],[0.5,\"rgb(107,174,214)\"],[0.625,\"rgb(66,146,198)\"],[0.75,\"rgb(33,113,181)\"],[0.875,\"rgb(8,81,156)\"],[1.0,\"rgb(8,48,107)\"]],\"showscale\":false,\"size\":8},\"mode\":\"markers+lines\",\"name\":\"Novice\",\"x\":[-1.834922432899475,-6.1107401847839355,-16.475406646728516,0.23963768780231476,34.48875427246094,-14.754414558410645,10.627426147460938,16.4106502532959,17.24959945678711,20.13704490661621,-17.935466766357422,-24.48622703552246,-20.552602767944336,-26.301206588745117,-12.71395206451416,28.94040298461914,20.890466690063477,21.106182098388672,20.987232208251953,21.496856689453125,-11.807951927185059,-0.8471564054489136,-15.264841079711914,-6.045236587524414,-3.6348023414611816,-5.3748931884765625,-14.266639709472656,-22.146230697631836,-25.932945251464844,-22.377220153808594,-12.60678768157959,-9.98776626586914,-15.171074867248535,-11.657176971435547,-18.880327224731445,-19.436237335205078,-19.29368782043457,9.728927612304688,8.647125244140625,-8.32427978515625,-7.059167385101318,-11.514228820800781,-20.530179977416992,13.486096382141113,-19.993228912353516,-18.423063278198242,-13.250186920166016,-16.057540893554688,-13.29711627960205,-19.715681076049805,12.184531211853027,1.4063576459884644],\"y\":[-6.2395758628845215,-22.389745712280273,-20.659564971923828,-30.335018157958984,9.659635543823242,-19.279720306396484,-2.828064441680908,-18.38279151916504,-17.560300827026367,-13.906436920166016,-20.592090606689453,-18.92531967163086,-23.406848907470703,-19.987560272216797,1.6719022989273071,-2.624575138092041,-3.3551578521728516,-0.25500455498695374,0.9410607814788818,3.0226340293884277,2.9915716648101807,-1.4894728660583496,-8.161039352416992,-20.52033805847168,-13.947717666625977,-19.14654541015625,-11.683313369750977,-18.525224685668945,-23.804668426513672,-24.46034049987793,-12.104904174804688,-11.615723609924316,-23.0932559967041,-31.730937957763672,-25.170696258544922,-27.234800338745117,-30.08400535583496,-29.0427188873291,-29.435768127441406,-30.952129364013672,-30.274967193603516,-21.566640853881836,-16.81166648864746,-5.141366958618164,-15.129470825195312,-12.08222770690918,-1.6199798583984375,-11.220342636108398,-30.25436782836914,-9.487947463989258,3.6247732639312744,-2.837523937225342],\"type\":\"scatter\"},{\"hoverinfo\":\"text\",\"hovertext\":[\"Expert - Step 0\",\"Expert - Step 1\",\"Expert - Step 2\",\"Expert - Step 3\",\"Expert - Step 4\",\"Expert - Step 5\",\"Expert - Step 6\",\"Expert - Step 7\",\"Expert - Step 8\",\"Expert - Step 9\",\"Expert - Step 10\",\"Expert - Step 11\",\"Expert - Step 12\",\"Expert - Step 13\",\"Expert - Step 14\",\"Expert - Step 15\",\"Expert - Step 16\",\"Expert - Step 17\",\"Expert - Step 18\",\"Expert - Step 19\",\"Expert - Step 20\",\"Expert - Step 21\",\"Expert - Step 22\",\"Expert - Step 23\",\"Expert - Step 24\",\"Expert - Step 25\",\"Expert - Step 26\",\"Expert - Step 27\",\"Expert - Step 28\",\"Expert - Step 29\",\"Expert - Step 30\",\"Expert - Step 31\",\"Expert - Step 32\",\"Expert - Step 33\",\"Expert - Step 34\",\"Expert - Step 35\",\"Expert - Step 36\",\"Expert - Step 37\",\"Expert - Step 38\",\"Expert - Step 39\",\"Expert - Step 40\",\"Expert - Step 41\",\"Expert - Step 42\",\"Expert - Step 43\",\"Expert - Step 44\",\"Expert - Step 45\",\"Expert - Step 46\",\"Expert - Step 47\",\"Expert - Step 48\",\"Expert - Step 49\",\"Expert - Step 50\",\"Expert - Step 51\",\"Expert - Step 52\",\"Expert - Step 53\",\"Expert - Step 54\",\"Expert - Step 55\",\"Expert - Step 56\",\"Expert - Step 57\",\"Expert - Step 58\",\"Expert - Step 59\",\"Expert - Step 60\",\"Expert - Step 61\",\"Expert - Step 62\",\"Expert - Step 63\",\"Expert - Step 64\",\"Expert - Step 65\",\"Expert - Step 66\",\"Expert - Step 67\",\"Expert - Step 68\",\"Expert - Step 69\",\"Expert - Step 70\",\"Expert - Step 71\",\"Expert - Step 72\",\"Expert - Step 73\",\"Expert - Step 74\",\"Expert - Step 75\",\"Expert - Step 76\",\"Expert - Step 77\",\"Expert - Step 78\",\"Expert - Step 79\",\"Expert - Step 80\",\"Expert - Step 81\",\"Expert - Step 82\",\"Expert - Step 83\",\"Expert - Step 84\",\"Expert - Step 85\",\"Expert - Step 86\",\"Expert - Step 87\",\"Expert - Step 88\",\"Expert - Step 89\",\"Expert - Step 90\",\"Expert - Step 91\",\"Expert - Step 92\",\"Expert - Step 93\",\"Expert - Step 94\",\"Expert - Step 95\",\"Expert - Step 96\",\"Expert - Step 97\",\"Expert - Step 98\",\"Expert - Step 99\",\"Expert - Step 100\",\"Expert - Step 101\",\"Expert - Step 102\",\"Expert - Step 103\",\"Expert - Step 104\",\"Expert - Step 105\"],\"line\":{\"color\":\"lightgrey\",\"width\":1},\"marker\":{\"color\":[0.3,0.30666666666666664,0.3133333333333333,0.32,0.32666666666666666,0.3333333333333333,0.33999999999999997,0.3466666666666667,0.35333333333333333,0.36,0.36666666666666664,0.3733333333333333,0.38,0.38666666666666666,0.3933333333333333,0.39999999999999997,0.4066666666666666,0.41333333333333333,0.42,0.42666666666666664,0.43333333333333335,0.43999999999999995,0.44666666666666666,0.4533333333333333,0.45999999999999996,0.4666666666666667,0.4733333333333333,0.48,0.48666666666666664,0.4933333333333333,0.5,0.5066666666666666,0.5133333333333333,0.52,0.5266666666666666,0.5333333333333333,0.54,0.5466666666666666,0.5533333333333332,0.56,0.5666666666666667,0.5733333333333333,0.58,0.5866666666666667,0.5933333333333333,0.6,0.6066666666666667,0.6133333333333333,0.6199999999999999,0.6266666666666667,0.6333333333333333,0.6399999999999999,0.6466666666666666,0.6533333333333333,0.6599999999999999,0.6666666666666666,0.6733333333333333,0.6799999999999999,0.6866666666666666,0.6933333333333334,0.7,0.7066666666666666,0.7133333333333334,0.72,0.7266666666666666,0.7333333333333333,0.74,0.7466666666666666,0.7533333333333333,0.76,0.7666666666666666,0.7733333333333333,0.78,0.7866666666666666,0.7933333333333332,0.7999999999999999,0.8066666666666666,0.8133333333333332,0.8200000000000001,0.8266666666666667,0.8333333333333333,0.8399999999999999,0.8466666666666667,0.8533333333333333,0.8599999999999999,0.8666666666666667,0.8733333333333333,0.8799999999999999,0.8866666666666667,0.8933333333333333,0.8999999999999999,0.9066666666666665,0.9133333333333333,0.9199999999999999,0.9266666666666665,0.9333333333333333,0.94,0.9466666666666665,0.9533333333333334,0.96,0.9666666666666666,0.9733333333333334,0.98,0.9866666666666666,0.9933333333333332,1.0],\"colorscale\":[[0.0,\"rgb(255,245,240)\"],[0.125,\"rgb(254,224,210)\"],[0.25,\"rgb(252,187,161)\"],[0.375,\"rgb(252,146,114)\"],[0.5,\"rgb(251,106,74)\"],[0.625,\"rgb(239,59,44)\"],[0.75,\"rgb(203,24,29)\"],[0.875,\"rgb(165,15,21)\"],[1.0,\"rgb(103,0,13)\"]],\"showscale\":false,\"size\":8},\"mode\":\"markers+lines\",\"name\":\"Expert\",\"x\":[-2.7531306743621826,-2.528120994567871,-2.581949472427368,3.6689701080322266,2.7055022716522217,-26.977149963378906,-7.7894086837768555,-25.452980041503906,17.35633659362793,16.019451141357422,29.286516189575195,34.413116455078125,33.801822662353516,11.898900032043457,30.675090789794922,31.793479919433594,-21.534881591796875,-24.880617141723633,24.44188117980957,25.38561248779297,-10.4337158203125,-11.956205368041992,8.757231712341309,-20.002090454101562,-15.043132781982422,6.099376678466797,0.2629508972167969,28.218769073486328,-12.270127296447754,-8.516530990600586,14.472795486450195,21.87249183654785,23.549156188964844,-0.9036357402801514,-1.7737336158752441,-2.155344009399414,-3.6618716716766357,19.16316032409668,15.355649948120117,25.593852996826172,26.47719955444336,-7.165401935577393,-5.630549430847168,-13.806905746459961,24.53591537475586,-1.890186071395874,-5.885767459869385,-1.6051729917526245,-1.4274537563323975,9.278021812438965,9.278021812438965,17.9266300201416,17.859575271606445,5.358057022094727,-14.115224838256836,11.46481704711914,7.78848934173584,-10.847570419311523,10.346222877502441,-18.99315643310547,1.440082311630249,-27.65167808532715,-2.3430371284484863,24.355152130126953,25.081262588500977,10.263456344604492,17.892751693725586,0.0722915530204773,7.2372026443481445,9.69642448425293,7.368518829345703,17.659034729003906,-25.422447204589844,7.557647705078125,-26.25484275817871,-18.07019805908203,0.8951238989830017,18.60830307006836,6.474546909332275,6.394632816314697,15.275775909423828,1.6416271924972534,-17.289188385009766,5.514367580413818,-10.9088716506958,-11.571375846862793,2.1262266635894775,5.744935989379883,10.73556900024414,4.02482795715332,10.635076522827148,16.90973472595215,-5.4863715171813965,7.2494282722473145,5.474306583404541,-13.587327003479004,-9.647656440734863,22.127559661865234,-4.248684406280518,2.903217315673828,-15.407750129699707,6.803492546081543,7.031225204467773,15.971322059631348,17.131744384765625,15.075113296508789],\"y\":[-1.706097960472107,-11.79870319366455,-8.811663627624512,-19.779600143432617,-19.231555938720703,-3.567694664001465,-21.008508682250977,-5.336722373962402,18.385549545288086,14.241731643676758,8.268022537231445,12.819594383239746,11.568130493164062,21.5688533782959,8.048933982849121,10.321468353271484,-3.6557815074920654,-4.370317459106445,-6.5245490074157715,-8.254631042480469,21.109905242919922,18.69643783569336,37.01355743408203,-2.635580539703369,-0.2424222230911255,33.72414016723633,8.408267974853516,-3.7617077827453613,21.570199966430664,18.536670684814453,36.838226318359375,-7.763632297515869,-9.699787139892578,19.79611587524414,18.65932846069336,6.113073825836182,3.5755183696746826,11.417372703552246,32.835205078125,3.3041698932647705,2.608105182647705,14.83447551727295,15.828405380249023,-25.814653396606445,5.943435192108154,4.491065502166748,2.263432025909424,0.2073473483324051,-12.617851257324219,-18.255651473999023,-18.255651473999023,28.9287166595459,20.491622924804688,-11.006089210510254,-27.42222785949707,32.541412353515625,19.594980239868164,-22.73419189453125,7.333588600158691,-18.797975540161133,-29.463041305541992,-14.760169982910156,29.54567527770996,34.1019287109375,34.94303894042969,31.71468162536621,-10.585582733154297,13.829717636108398,0.6608820557594299,-1.9875692129135132,31.222076416015625,-9.360061645507812,-11.677327156066895,36.87548065185547,-13.125866889953613,-0.42506685853004456,3.7858707904815674,27.675289154052734,-12.478408813476562,9.917101860046387,13.255446434020996,28.83125877380371,1.374108910560608,29.242830276489258,-2.5352396965026855,-9.739764213562012,25.480783462524414,-9.04327392578125,5.98695707321167,25.03386878967285,21.652006149291992,11.661458969116211,-3.4510560035705566,-13.85899543762207,24.77644920349121,20.86737823486328,17.423934936523438,-13.515920639038086,15.91932201385498,29.096895217895508,-14.510514259338379,8.841947555541992,17.36832618713379,31.614776611328125,16.19997787475586,37.82432556152344],\"type\":\"scatter\"}],                        {\"template\":{\"data\":{\"histogram2dcontour\":[{\"type\":\"histogram2dcontour\",\"colorbar\":{\"outlinewidth\":0,\"ticks\":\"\"},\"colorscale\":[[0.0,\"#0d0887\"],[0.1111111111111111,\"#46039f\"],[0.2222222222222222,\"#7201a8\"],[0.3333333333333333,\"#9c179e\"],[0.4444444444444444,\"#bd3786\"],[0.5555555555555556,\"#d8576b\"],[0.6666666666666666,\"#ed7953\"],[0.7777777777777778,\"#fb9f3a\"],[0.8888888888888888,\"#fdca26\"],[1.0,\"#f0f921\"]]}],\"choropleth\":[{\"type\":\"choropleth\",\"colorbar\":{\"outlinewidth\":0,\"ticks\":\"\"}}],\"histogram2d\":[{\"type\":\"histogram2d\",\"colorbar\":{\"outlinewidth\":0,\"ticks\":\"\"},\"colorscale\":[[0.0,\"#0d0887\"],[0.1111111111111111,\"#46039f\"],[0.2222222222222222,\"#7201a8\"],[0.3333333333333333,\"#9c179e\"],[0.4444444444444444,\"#bd3786\"],[0.5555555555555556,\"#d8576b\"],[0.6666666666666666,\"#ed7953\"],[0.7777777777777778,\"#fb9f3a\"],[0.8888888888888888,\"#fdca26\"],[1.0,\"#f0f921\"]]}],\"heatmap\":[{\"type\":\"heatmap\",\"colorbar\":{\"outlinewidth\":0,\"ticks\":\"\"},\"colorscale\":[[0.0,\"#0d0887\"],[0.1111111111111111,\"#46039f\"],[0.2222222222222222,\"#7201a8\"],[0.3333333333333333,\"#9c179e\"],[0.4444444444444444,\"#bd3786\"],[0.5555555555555556,\"#d8576b\"],[0.6666666666666666,\"#ed7953\"],[0.7777777777777778,\"#fb9f3a\"],[0.8888888888888888,\"#fdca26\"],[1.0,\"#f0f921\"]]}],\"heatmapgl\":[{\"type\":\"heatmapgl\",\"colorbar\":{\"outlinewidth\":0,\"ticks\":\"\"},\"colorscale\":[[0.0,\"#0d0887\"],[0.1111111111111111,\"#46039f\"],[0.2222222222222222,\"#7201a8\"],[0.3333333333333333,\"#9c179e\"],[0.4444444444444444,\"#bd3786\"],[0.5555555555555556,\"#d8576b\"],[0.6666666666666666,\"#ed7953\"],[0.7777777777777778,\"#fb9f3a\"],[0.8888888888888888,\"#fdca26\"],[1.0,\"#f0f921\"]]}],\"contourcarpet\":[{\"type\":\"contourcarpet\",\"colorbar\":{\"outlinewidth\":0,\"ticks\":\"\"}}],\"contour\":[{\"type\":\"contour\",\"colorbar\":{\"outlinewidth\":0,\"ticks\":\"\"},\"colorscale\":[[0.0,\"#0d0887\"],[0.1111111111111111,\"#46039f\"],[0.2222222222222222,\"#7201a8\"],[0.3333333333333333,\"#9c179e\"],[0.4444444444444444,\"#bd3786\"],[0.5555555555555556,\"#d8576b\"],[0.6666666666666666,\"#ed7953\"],[0.7777777777777778,\"#fb9f3a\"],[0.8888888888888888,\"#fdca26\"],[1.0,\"#f0f921\"]]}],\"surface\":[{\"type\":\"surface\",\"colorbar\":{\"outlinewidth\":0,\"ticks\":\"\"},\"colorscale\":[[0.0,\"#0d0887\"],[0.1111111111111111,\"#46039f\"],[0.2222222222222222,\"#7201a8\"],[0.3333333333333333,\"#9c179e\"],[0.4444444444444444,\"#bd3786\"],[0.5555555555555556,\"#d8576b\"],[0.6666666666666666,\"#ed7953\"],[0.7777777777777778,\"#fb9f3a\"],[0.8888888888888888,\"#fdca26\"],[1.0,\"#f0f921\"]]}],\"mesh3d\":[{\"type\":\"mesh3d\",\"colorbar\":{\"outlinewidth\":0,\"ticks\":\"\"}}],\"scatter\":[{\"fillpattern\":{\"fillmode\":\"overlay\",\"size\":10,\"solidity\":0.2},\"type\":\"scatter\"}],\"parcoords\":[{\"type\":\"parcoords\",\"line\":{\"colorbar\":{\"outlinewidth\":0,\"ticks\":\"\"}}}],\"scatterpolargl\":[{\"type\":\"scatterpolargl\",\"marker\":{\"colorbar\":{\"outlinewidth\":0,\"ticks\":\"\"}}}],\"bar\":[{\"error_x\":{\"color\":\"#2a3f5f\"},\"error_y\":{\"color\":\"#2a3f5f\"},\"marker\":{\"line\":{\"color\":\"#E5ECF6\",\"width\":0.5},\"pattern\":{\"fillmode\":\"overlay\",\"size\":10,\"solidity\":0.2}},\"type\":\"bar\"}],\"scattergeo\":[{\"type\":\"scattergeo\",\"marker\":{\"colorbar\":{\"outlinewidth\":0,\"ticks\":\"\"}}}],\"scatterpolar\":[{\"type\":\"scatterpolar\",\"marker\":{\"colorbar\":{\"outlinewidth\":0,\"ticks\":\"\"}}}],\"histogram\":[{\"marker\":{\"pattern\":{\"fillmode\":\"overlay\",\"size\":10,\"solidity\":0.2}},\"type\":\"histogram\"}],\"scattergl\":[{\"type\":\"scattergl\",\"marker\":{\"colorbar\":{\"outlinewidth\":0,\"ticks\":\"\"}}}],\"scatter3d\":[{\"type\":\"scatter3d\",\"line\":{\"colorbar\":{\"outlinewidth\":0,\"ticks\":\"\"}},\"marker\":{\"colorbar\":{\"outlinewidth\":0,\"ticks\":\"\"}}}],\"scattermapbox\":[{\"type\":\"scattermapbox\",\"marker\":{\"colorbar\":{\"outlinewidth\":0,\"ticks\":\"\"}}}],\"scatterternary\":[{\"type\":\"scatterternary\",\"marker\":{\"colorbar\":{\"outlinewidth\":0,\"ticks\":\"\"}}}],\"scattercarpet\":[{\"type\":\"scattercarpet\",\"marker\":{\"colorbar\":{\"outlinewidth\":0,\"ticks\":\"\"}}}],\"carpet\":[{\"aaxis\":{\"endlinecolor\":\"#2a3f5f\",\"gridcolor\":\"white\",\"linecolor\":\"white\",\"minorgridcolor\":\"white\",\"startlinecolor\":\"#2a3f5f\"},\"baxis\":{\"endlinecolor\":\"#2a3f5f\",\"gridcolor\":\"white\",\"linecolor\":\"white\",\"minorgridcolor\":\"white\",\"startlinecolor\":\"#2a3f5f\"},\"type\":\"carpet\"}],\"table\":[{\"cells\":{\"fill\":{\"color\":\"#EBF0F8\"},\"line\":{\"color\":\"white\"}},\"header\":{\"fill\":{\"color\":\"#C8D4E3\"},\"line\":{\"color\":\"white\"}},\"type\":\"table\"}],\"barpolar\":[{\"marker\":{\"line\":{\"color\":\"#E5ECF6\",\"width\":0.5},\"pattern\":{\"fillmode\":\"overlay\",\"size\":10,\"solidity\":0.2}},\"type\":\"barpolar\"}],\"pie\":[{\"automargin\":true,\"type\":\"pie\"}]},\"layout\":{\"autotypenumbers\":\"strict\",\"colorway\":[\"#636efa\",\"#EF553B\",\"#00cc96\",\"#ab63fa\",\"#FFA15A\",\"#19d3f3\",\"#FF6692\",\"#B6E880\",\"#FF97FF\",\"#FECB52\"],\"font\":{\"color\":\"#2a3f5f\"},\"hovermode\":\"closest\",\"hoverlabel\":{\"align\":\"left\"},\"paper_bgcolor\":\"white\",\"plot_bgcolor\":\"#E5ECF6\",\"polar\":{\"bgcolor\":\"#E5ECF6\",\"angularaxis\":{\"gridcolor\":\"white\",\"linecolor\":\"white\",\"ticks\":\"\"},\"radialaxis\":{\"gridcolor\":\"white\",\"linecolor\":\"white\",\"ticks\":\"\"}},\"ternary\":{\"bgcolor\":\"#E5ECF6\",\"aaxis\":{\"gridcolor\":\"white\",\"linecolor\":\"white\",\"ticks\":\"\"},\"baxis\":{\"gridcolor\":\"white\",\"linecolor\":\"white\",\"ticks\":\"\"},\"caxis\":{\"gridcolor\":\"white\",\"linecolor\":\"white\",\"ticks\":\"\"}},\"coloraxis\":{\"colorbar\":{\"outlinewidth\":0,\"ticks\":\"\"}},\"colorscale\":{\"sequential\":[[0.0,\"#0d0887\"],[0.1111111111111111,\"#46039f\"],[0.2222222222222222,\"#7201a8\"],[0.3333333333333333,\"#9c179e\"],[0.4444444444444444,\"#bd3786\"],[0.5555555555555556,\"#d8576b\"],[0.6666666666666666,\"#ed7953\"],[0.7777777777777778,\"#fb9f3a\"],[0.8888888888888888,\"#fdca26\"],[1.0,\"#f0f921\"]],\"sequentialminus\":[[0.0,\"#0d0887\"],[0.1111111111111111,\"#46039f\"],[0.2222222222222222,\"#7201a8\"],[0.3333333333333333,\"#9c179e\"],[0.4444444444444444,\"#bd3786\"],[0.5555555555555556,\"#d8576b\"],[0.6666666666666666,\"#ed7953\"],[0.7777777777777778,\"#fb9f3a\"],[0.8888888888888888,\"#fdca26\"],[1.0,\"#f0f921\"]],\"diverging\":[[0,\"#8e0152\"],[0.1,\"#c51b7d\"],[0.2,\"#de77ae\"],[0.3,\"#f1b6da\"],[0.4,\"#fde0ef\"],[0.5,\"#f7f7f7\"],[0.6,\"#e6f5d0\"],[0.7,\"#b8e186\"],[0.8,\"#7fbc41\"],[0.9,\"#4d9221\"],[1,\"#276419\"]]},\"xaxis\":{\"gridcolor\":\"white\",\"linecolor\":\"white\",\"ticks\":\"\",\"title\":{\"standoff\":15},\"zerolinecolor\":\"white\",\"automargin\":true,\"zerolinewidth\":2},\"yaxis\":{\"gridcolor\":\"white\",\"linecolor\":\"white\",\"ticks\":\"\",\"title\":{\"standoff\":15},\"zerolinecolor\":\"white\",\"automargin\":true,\"zerolinewidth\":2},\"scene\":{\"xaxis\":{\"backgroundcolor\":\"#E5ECF6\",\"gridcolor\":\"white\",\"linecolor\":\"white\",\"showbackground\":true,\"ticks\":\"\",\"zerolinecolor\":\"white\",\"gridwidth\":2},\"yaxis\":{\"backgroundcolor\":\"#E5ECF6\",\"gridcolor\":\"white\",\"linecolor\":\"white\",\"showbackground\":true,\"ticks\":\"\",\"zerolinecolor\":\"white\",\"gridwidth\":2},\"zaxis\":{\"backgroundcolor\":\"#E5ECF6\",\"gridcolor\":\"white\",\"linecolor\":\"white\",\"showbackground\":true,\"ticks\":\"\",\"zerolinecolor\":\"white\",\"gridwidth\":2}},\"shapedefaults\":{\"line\":{\"color\":\"#2a3f5f\"}},\"annotationdefaults\":{\"arrowcolor\":\"#2a3f5f\",\"arrowhead\":0,\"arrowwidth\":1},\"geo\":{\"bgcolor\":\"white\",\"landcolor\":\"#E5ECF6\",\"subunitcolor\":\"white\",\"showland\":true,\"showlakes\":true,\"lakecolor\":\"white\"},\"title\":{\"x\":0.05},\"mapbox\":{\"style\":\"light\"}}},\"title\":{\"text\":\"t-SNE: Expert vs Novice - car\"},\"xaxis\":{\"title\":{\"text\":\"TSNE Dimension 1\"}},\"yaxis\":{\"title\":{\"text\":\"TSNE Dimension 2\"}},\"width\":1000,\"height\":700},                        {\"responsive\": true}                    ).then(function(){\n",
       "                            \n",
       "var gd = document.getElementById('233cb7c0-53c3-4394-acd1-3dc1f26ccd7f');\n",
       "var x = new MutationObserver(function (mutations, observer) {{\n",
       "        var display = window.getComputedStyle(gd).display;\n",
       "        if (!display || display === 'none') {{\n",
       "            console.log([gd, 'removed!']);\n",
       "            Plotly.purge(gd);\n",
       "            observer.disconnect();\n",
       "        }}\n",
       "}});\n",
       "\n",
       "// Listen for the removal of the full notebook cells\n",
       "var notebookContainer = gd.closest('#notebook-container');\n",
       "if (notebookContainer) {{\n",
       "    x.observe(notebookContainer, {childList: true});\n",
       "}}\n",
       "\n",
       "// Listen for the clearing of the current output cell\n",
       "var outputEl = gd.closest('.output');\n",
       "if (outputEl) {{\n",
       "    x.observe(outputEl, {childList: true});\n",
       "}}\n",
       "\n",
       "                        })                };                });            </script>        </div>"
      ]
     },
     "metadata": {},
     "output_type": "display_data"
    },
    {
     "data": {
      "image/png": "[encoded data removed]",
      "text/plain": [
       "<Figure size 1000x800 with 2 Axes>"
      ]
     },
     "metadata": {},
     "output_type": "display_data"
    },
    {
     "name": "stdout",
     "output_type": "stream",
     "text": [
      "\n",
      "--- Statistical Summary ---\n",
      "Centroid Distance (Euclidean): 0.4363434612751007\n",
      "Centroid Distance (Cosine): 0.38333189487457275\n",
      "Avg Cosine Similarity (Novice): 0.2826659679412842\n",
      "Avg Cosine Similarity (Expert): 0.16640205681324005\n",
      "Avg Dist to Centroid (Novice): 0.8358288407325745\n",
      "Avg Dist to Centroid (Expert): 0.907751739025116\n",
      "PCA Explained Variance Ratio (1st): 0.09216080605983734\n",
      "PCA Components > 95% Variance: 90\n",
      "Convex Hull Area (Novice): 0.6500982202839412\n",
      "Convex Hull Area (Expert): 0.6116650598469873\n",
      "Intra-cluster Distance Mean (Novice): 1.191421471739255\n",
      "Intra-cluster Distance Std (Novice): 0.12321911097170007\n",
      "Intra-cluster Distance Mean (Expert): 1.287174385155558\n",
      "Intra-cluster Distance Std (Expert): 0.10187246224410575\n",
      "Inter-cluster Distance Mean: 1.3070787502818895\n",
      "KL Divergence (Novice || Expert): 0.0\n",
      "Spectral Entropy: 3.0790930702319557\n",
      "KDE Mean Log Density (Novice): -353.5617409921554\n",
      "KDE Mean Log Density (Expert): -353.6869971404726\n"
     ]
    }
   ],
   "source": [
    "analyze_text_embedding(\"expert_generated.txt\",\n",
    "                       \"novice_generated.txt\", \"car\")\n"
   ]
  },
  {
   "cell_type": "code",
   "execution_count": null,
   "id": "83841a2e-1cfe-411f-a375-bdebbc201c1d",
   "metadata": {},
   "outputs": [],
   "source": [
    "# Global dataframe to collect all stats\n",
    "stats_df = pd.DataFrame()\n",
    "\n",
    "def collect_and_append_stats(expert_path, novice_path, topic):\n",
    "    global stats_df\n",
    "\n",
    "    # Embed and compute stats\n",
    "    sentences_nov, emb_nov = embed_sentences_from_txt(novice_path)\n",
    "    sentences_exp, emb_exp = embed_sentences_from_txt(expert_path)\n",
    "    stats = compute_extended_stats(emb_nov, emb_exp)\n",
    "\n",
    "    # Add topic and append to global dataframe\n",
    "    stats[\"Topic\"] = topic\n",
    "    stats_df = pd.concat([stats_df, pd.DataFrame([stats])], ignore_index=True)\n"
   ]
  },
  {
   "cell_type": "code",
   "execution_count": null,
   "id": "38a0cdaf-1544-4bc6-aa15-926b62e610a4",
   "metadata": {},
   "outputs": [],
   "source": [
    "collect_and_append_stats(\"great_decision_expert_full.txt\",\n",
    "                       \"great_decision_novice_full.txt\", \"decision making\")\n",
    "\n",
    "collect_and_append_stats(\"good_creativity_expert_expanded.txt\",\n",
    "                       \"good_creativity_novice_expanded.txt\", \"creativity\")\n",
    "\n",
    "collect_and_append_stats(\"good_nutrition_expert_expanded.txt\",\n",
    "                       \"good_nutrition_novice_expanded.txt\", \"nutrition\")\n",
    "\n",
    "collect_and_append_stats(\"good_language_acquisition_novice_freespeech.txt\",\n",
    "                       \"good_language_acquisition_expert_freespeech.txt\", \"language acquisition\")\n",
    "\n",
    "collect_and_append_stats(\"climate_expert_full.txt\",\n",
    "                       \"climate_novice_full.txt\", \"climate\")\n",
    "\n",
    "collect_and_append_stats(\"vision_expert_full.txt\",\n",
    "                       \"vision_novice_full.txt\", \"vision\")"
   ]
  },
  {
   "cell_type": "code",
   "execution_count": null,
   "id": "08138d88-b0be-4ac7-ac1a-ec4b2607d2fb",
   "metadata": {},
   "outputs": [],
   "source": [
    "stats_df"
   ]
  },
  {
   "cell_type": "code",
   "execution_count": 13,
   "id": "874169e7-0567-4804-9b89-c0cc6145bfac",
   "metadata": {},
   "outputs": [],
   "source": [
    "collect_and_append_stats(\"ai_expert_refined.txt\",\n",
    "                       \"ai_novice_refined.txt\", \"AI\")\n",
    "\n",
    "collect_and_append_stats(\"memory_expert.txt\",\n",
    "                       \"memory_novice.txt\", \"memory\")\n",
    "\n",
    "collect_and_append_stats(\"time_expert.txt\",\n",
    "                       \"time_novice.txt\", \"time\")\n",
    "\n"
   ]
  },
  {
   "cell_type": "code",
   "execution_count": 14,
   "id": "4322b862-3154-4213-8724-b54b99a77d59",
   "metadata": {},
   "outputs": [
    {
     "data": {
      "text/html": [
       "<div>\n",
       "<style scoped>\n",
       "    .dataframe tbody tr th:only-of-type {\n",
       "        vertical-align: middle;\n",
       "    }\n",
       "\n",
       "    .dataframe tbody tr th {\n",
       "        vertical-align: top;\n",
       "    }\n",
       "\n",
       "    .dataframe thead th {\n",
       "        text-align: right;\n",
       "    }\n",
       "</style>\n",
       "<table border=\"1\" class=\"dataframe\">\n",
       "  <thead>\n",
       "    <tr style=\"text-align: right;\">\n",
       "      <th></th>\n",
       "      <th>Centroid Distance (Euclidean)</th>\n",
       "      <th>Centroid Distance (Cosine)</th>\n",
       "      <th>Avg Cosine Similarity (Novice)</th>\n",
       "      <th>Avg Cosine Similarity (Expert)</th>\n",
       "      <th>Avg Dist to Centroid (Novice)</th>\n",
       "      <th>Avg Dist to Centroid (Expert)</th>\n",
       "      <th>PCA Explained Variance Ratio (1st)</th>\n",
       "      <th>PCA Components &gt; 95% Variance</th>\n",
       "      <th>Convex Hull Area (Novice)</th>\n",
       "      <th>Convex Hull Area (Expert)</th>\n",
       "      <th>Intra-cluster Distance Mean (Novice)</th>\n",
       "      <th>Intra-cluster Distance Std (Novice)</th>\n",
       "      <th>Intra-cluster Distance Mean (Expert)</th>\n",
       "      <th>Intra-cluster Distance Std (Expert)</th>\n",
       "      <th>Inter-cluster Distance Mean</th>\n",
       "      <th>KL Divergence (Novice || Expert)</th>\n",
       "      <th>Spectral Entropy</th>\n",
       "      <th>KDE Mean Log Density (Novice)</th>\n",
       "      <th>KDE Mean Log Density (Expert)</th>\n",
       "      <th>Topic</th>\n",
       "    </tr>\n",
       "  </thead>\n",
       "  <tbody>\n",
       "    <tr>\n",
       "      <th>0</th>\n",
       "      <td>0.368802</td>\n",
       "      <td>0.241387</td>\n",
       "      <td>0.243386</td>\n",
       "      <td>0.263722</td>\n",
       "      <td>0.848866</td>\n",
       "      <td>0.839989</td>\n",
       "      <td>0.082863</td>\n",
       "      <td>42</td>\n",
       "      <td>0.633201</td>\n",
       "      <td>0.705120</td>\n",
       "      <td>1.223695</td>\n",
       "      <td>0.125696</td>\n",
       "      <td>1.209877</td>\n",
       "      <td>0.093565</td>\n",
       "      <td>1.250215</td>\n",
       "      <td>0.0</td>\n",
       "      <td>2.632256</td>\n",
       "      <td>-353.580624</td>\n",
       "      <td>-353.564525</td>\n",
       "      <td>decision making</td>\n",
       "    </tr>\n",
       "    <tr>\n",
       "      <th>1</th>\n",
       "      <td>0.404230</td>\n",
       "      <td>0.195069</td>\n",
       "      <td>0.411724</td>\n",
       "      <td>0.350017</td>\n",
       "      <td>0.737093</td>\n",
       "      <td>0.779598</td>\n",
       "      <td>0.119892</td>\n",
       "      <td>30</td>\n",
       "      <td>0.748832</td>\n",
       "      <td>0.548852</td>\n",
       "      <td>1.074280</td>\n",
       "      <td>0.149911</td>\n",
       "      <td>1.132718</td>\n",
       "      <td>0.130062</td>\n",
       "      <td>1.147310</td>\n",
       "      <td>0.0</td>\n",
       "      <td>2.437672</td>\n",
       "      <td>-353.409199</td>\n",
       "      <td>-353.468351</td>\n",
       "      <td>creativity</td>\n",
       "    </tr>\n",
       "    <tr>\n",
       "      <th>2</th>\n",
       "      <td>0.386157</td>\n",
       "      <td>0.234890</td>\n",
       "      <td>0.273316</td>\n",
       "      <td>0.302696</td>\n",
       "      <td>0.829539</td>\n",
       "      <td>0.813893</td>\n",
       "      <td>0.102860</td>\n",
       "      <td>39</td>\n",
       "      <td>0.694310</td>\n",
       "      <td>0.732719</td>\n",
       "      <td>1.199135</td>\n",
       "      <td>0.124271</td>\n",
       "      <td>1.173829</td>\n",
       "      <td>0.129354</td>\n",
       "      <td>1.225425</td>\n",
       "      <td>0.0</td>\n",
       "      <td>2.586037</td>\n",
       "      <td>-353.548516</td>\n",
       "      <td>-353.523945</td>\n",
       "      <td>nutrition</td>\n",
       "    </tr>\n",
       "    <tr>\n",
       "      <th>3</th>\n",
       "      <td>0.307311</td>\n",
       "      <td>0.179483</td>\n",
       "      <td>0.230105</td>\n",
       "      <td>0.226523</td>\n",
       "      <td>0.855964</td>\n",
       "      <td>0.853122</td>\n",
       "      <td>0.112125</td>\n",
       "      <td>37</td>\n",
       "      <td>0.545050</td>\n",
       "      <td>0.695231</td>\n",
       "      <td>1.235238</td>\n",
       "      <td>0.118222</td>\n",
       "      <td>1.237180</td>\n",
       "      <td>0.127824</td>\n",
       "      <td>1.246767</td>\n",
       "      <td>0.0</td>\n",
       "      <td>2.542845</td>\n",
       "      <td>-353.590129</td>\n",
       "      <td>-353.581175</td>\n",
       "      <td>language acquisition</td>\n",
       "    </tr>\n",
       "    <tr>\n",
       "      <th>4</th>\n",
       "      <td>0.319625</td>\n",
       "      <td>0.200590</td>\n",
       "      <td>0.187319</td>\n",
       "      <td>0.245271</td>\n",
       "      <td>0.879869</td>\n",
       "      <td>0.849694</td>\n",
       "      <td>0.102581</td>\n",
       "      <td>39</td>\n",
       "      <td>0.671113</td>\n",
       "      <td>0.683092</td>\n",
       "      <td>1.270484</td>\n",
       "      <td>0.105978</td>\n",
       "      <td>1.224510</td>\n",
       "      <td>0.100164</td>\n",
       "      <td>1.262741</td>\n",
       "      <td>0.0</td>\n",
       "      <td>2.574360</td>\n",
       "      <td>-353.625278</td>\n",
       "      <td>-353.577265</td>\n",
       "      <td>climate</td>\n",
       "    </tr>\n",
       "    <tr>\n",
       "      <th>5</th>\n",
       "      <td>0.330725</td>\n",
       "      <td>0.151666</td>\n",
       "      <td>0.341814</td>\n",
       "      <td>0.312726</td>\n",
       "      <td>0.787152</td>\n",
       "      <td>0.804015</td>\n",
       "      <td>0.086392</td>\n",
       "      <td>34</td>\n",
       "      <td>0.655250</td>\n",
       "      <td>0.692103</td>\n",
       "      <td>1.141048</td>\n",
       "      <td>0.119924</td>\n",
       "      <td>1.166842</td>\n",
       "      <td>0.114136</td>\n",
       "      <td>1.173768</td>\n",
       "      <td>0.0</td>\n",
       "      <td>2.511376</td>\n",
       "      <td>-353.483522</td>\n",
       "      <td>-353.505740</td>\n",
       "      <td>vision</td>\n",
       "    </tr>\n",
       "    <tr>\n",
       "      <th>6</th>\n",
       "      <td>0.424083</td>\n",
       "      <td>0.277903</td>\n",
       "      <td>0.237824</td>\n",
       "      <td>0.291824</td>\n",
       "      <td>0.830828</td>\n",
       "      <td>0.809939</td>\n",
       "      <td>0.128472</td>\n",
       "      <td>22</td>\n",
       "      <td>0.672676</td>\n",
       "      <td>0.532731</td>\n",
       "      <td>1.226880</td>\n",
       "      <td>0.138266</td>\n",
       "      <td>1.187519</td>\n",
       "      <td>0.078435</td>\n",
       "      <td>1.234728</td>\n",
       "      <td>0.0</td>\n",
       "      <td>2.274094</td>\n",
       "      <td>-353.534936</td>\n",
       "      <td>-353.506282</td>\n",
       "      <td>AI</td>\n",
       "    </tr>\n",
       "    <tr>\n",
       "      <th>7</th>\n",
       "      <td>0.334863</td>\n",
       "      <td>0.125817</td>\n",
       "      <td>0.332250</td>\n",
       "      <td>0.439671</td>\n",
       "      <td>0.780157</td>\n",
       "      <td>0.721012</td>\n",
       "      <td>0.121534</td>\n",
       "      <td>25</td>\n",
       "      <td>0.723378</td>\n",
       "      <td>0.607493</td>\n",
       "      <td>1.146479</td>\n",
       "      <td>0.145214</td>\n",
       "      <td>1.052610</td>\n",
       "      <td>0.112566</td>\n",
       "      <td>1.113112</td>\n",
       "      <td>0.0</td>\n",
       "      <td>2.338488</td>\n",
       "      <td>-353.466206</td>\n",
       "      <td>-353.382072</td>\n",
       "      <td>memory</td>\n",
       "    </tr>\n",
       "    <tr>\n",
       "      <th>8</th>\n",
       "      <td>0.310355</td>\n",
       "      <td>0.103599</td>\n",
       "      <td>0.401556</td>\n",
       "      <td>0.443887</td>\n",
       "      <td>0.739124</td>\n",
       "      <td>0.710946</td>\n",
       "      <td>0.114561</td>\n",
       "      <td>24</td>\n",
       "      <td>0.722871</td>\n",
       "      <td>0.481610</td>\n",
       "      <td>1.084411</td>\n",
       "      <td>0.144711</td>\n",
       "      <td>1.042940</td>\n",
       "      <td>0.156528</td>\n",
       "      <td>1.072134</td>\n",
       "      <td>0.0</td>\n",
       "      <td>2.328580</td>\n",
       "      <td>-353.410405</td>\n",
       "      <td>-353.372551</td>\n",
       "      <td>time</td>\n",
       "    </tr>\n",
       "  </tbody>\n",
       "</table>\n",
       "</div>"
      ],
      "text/plain": [
       "   Centroid Distance (Euclidean)  Centroid Distance (Cosine)  \\\n",
       "0                       0.368802                    0.241387   \n",
       "1                       0.404230                    0.195069   \n",
       "2                       0.386157                    0.234890   \n",
       "3                       0.307311                    0.179483   \n",
       "4                       0.319625                    0.200590   \n",
       "5                       0.330725                    0.151666   \n",
       "6                       0.424083                    0.277903   \n",
       "7                       0.334863                    0.125817   \n",
       "8                       0.310355                    0.103599   \n",
       "\n",
       "   Avg Cosine Similarity (Novice)  Avg Cosine Similarity (Expert)  \\\n",
       "0                        0.243386                        0.263722   \n",
       "1                        0.411724                        0.350017   \n",
       "2                        0.273316                        0.302696   \n",
       "3                        0.230105                        0.226523   \n",
       "4                        0.187319                        0.245271   \n",
       "5                        0.341814                        0.312726   \n",
       "6                        0.237824                        0.291824   \n",
       "7                        0.332250                        0.439671   \n",
       "8                        0.401556                        0.443887   \n",
       "\n",
       "   Avg Dist to Centroid (Novice)  Avg Dist to Centroid (Expert)  \\\n",
       "0                       0.848866                       0.839989   \n",
       "1                       0.737093                       0.779598   \n",
       "2                       0.829539                       0.813893   \n",
       "3                       0.855964                       0.853122   \n",
       "4                       0.879869                       0.849694   \n",
       "5                       0.787152                       0.804015   \n",
       "6                       0.830828                       0.809939   \n",
       "7                       0.780157                       0.721012   \n",
       "8                       0.739124                       0.710946   \n",
       "\n",
       "   PCA Explained Variance Ratio (1st)  PCA Components > 95% Variance  \\\n",
       "0                            0.082863                             42   \n",
       "1                            0.119892                             30   \n",
       "2                            0.102860                             39   \n",
       "3                            0.112125                             37   \n",
       "4                            0.102581                             39   \n",
       "5                            0.086392                             34   \n",
       "6                            0.128472                             22   \n",
       "7                            0.121534                             25   \n",
       "8                            0.114561                             24   \n",
       "\n",
       "   Convex Hull Area (Novice)  Convex Hull Area (Expert)  \\\n",
       "0                   0.633201                   0.705120   \n",
       "1                   0.748832                   0.548852   \n",
       "2                   0.694310                   0.732719   \n",
       "3                   0.545050                   0.695231   \n",
       "4                   0.671113                   0.683092   \n",
       "5                   0.655250                   0.692103   \n",
       "6                   0.672676                   0.532731   \n",
       "7                   0.723378                   0.607493   \n",
       "8                   0.722871                   0.481610   \n",
       "\n",
       "   Intra-cluster Distance Mean (Novice)  Intra-cluster Distance Std (Novice)  \\\n",
       "0                              1.223695                             0.125696   \n",
       "1                              1.074280                             0.149911   \n",
       "2                              1.199135                             0.124271   \n",
       "3                              1.235238                             0.118222   \n",
       "4                              1.270484                             0.105978   \n",
       "5                              1.141048                             0.119924   \n",
       "6                              1.226880                             0.138266   \n",
       "7                              1.146479                             0.145214   \n",
       "8                              1.084411                             0.144711   \n",
       "\n",
       "   Intra-cluster Distance Mean (Expert)  Intra-cluster Distance Std (Expert)  \\\n",
       "0                              1.209877                             0.093565   \n",
       "1                              1.132718                             0.130062   \n",
       "2                              1.173829                             0.129354   \n",
       "3                              1.237180                             0.127824   \n",
       "4                              1.224510                             0.100164   \n",
       "5                              1.166842                             0.114136   \n",
       "6                              1.187519                             0.078435   \n",
       "7                              1.052610                             0.112566   \n",
       "8                              1.042940                             0.156528   \n",
       "\n",
       "   Inter-cluster Distance Mean  KL Divergence (Novice || Expert)  \\\n",
       "0                     1.250215                               0.0   \n",
       "1                     1.147310                               0.0   \n",
       "2                     1.225425                               0.0   \n",
       "3                     1.246767                               0.0   \n",
       "4                     1.262741                               0.0   \n",
       "5                     1.173768                               0.0   \n",
       "6                     1.234728                               0.0   \n",
       "7                     1.113112                               0.0   \n",
       "8                     1.072134                               0.0   \n",
       "\n",
       "   Spectral Entropy  KDE Mean Log Density (Novice)  \\\n",
       "0          2.632256                    -353.580624   \n",
       "1          2.437672                    -353.409199   \n",
       "2          2.586037                    -353.548516   \n",
       "3          2.542845                    -353.590129   \n",
       "4          2.574360                    -353.625278   \n",
       "5          2.511376                    -353.483522   \n",
       "6          2.274094                    -353.534936   \n",
       "7          2.338488                    -353.466206   \n",
       "8          2.328580                    -353.410405   \n",
       "\n",
       "   KDE Mean Log Density (Expert)                 Topic  \n",
       "0                    -353.564525       decision making  \n",
       "1                    -353.468351            creativity  \n",
       "2                    -353.523945             nutrition  \n",
       "3                    -353.581175  language acquisition  \n",
       "4                    -353.577265               climate  \n",
       "5                    -353.505740                vision  \n",
       "6                    -353.506282                    AI  \n",
       "7                    -353.382072                memory  \n",
       "8                    -353.372551                  time  "
      ]
     },
     "execution_count": 14,
     "metadata": {},
     "output_type": "execute_result"
    }
   ],
   "source": [
    "stats_df"
   ]
  },
  {
   "cell_type": "code",
   "execution_count": 15,
   "id": "7cdeaf3f-3e76-47e7-9033-0647daf5ac9f",
   "metadata": {},
   "outputs": [],
   "source": [
    "collect_and_append_stats(\"robotics_expert.txt\",\n",
    "                       \"robotics_novice.txt\", \"robotics\")\n",
    "\n",
    "collect_and_append_stats(\"mental_expert.txt\",\n",
    "                       \"mental_novice.txt\", \"mental health\")\n",
    "\n",
    "collect_and_append_stats(\"mind_expert.txt\",\n",
    "                       \"mind_novice.txt\", \"mind\")\n",
    "\n",
    "collect_and_append_stats(\"moral_expert.txt\",\n",
    "                       \"moral_novice.txt\", \"morals\")\n",
    "\n",
    "collect_and_append_stats(\"language_expert.txt\",\n",
    "                       \"language_novice.txt\", \"language\")\n",
    "\n"
   ]
  },
  {
   "cell_type": "code",
   "execution_count": 16,
   "id": "bb6182e2-5cae-4462-ab03-6498b8562bb4",
   "metadata": {},
   "outputs": [
    {
     "data": {
      "text/html": [
       "<div>\n",
       "<style scoped>\n",
       "    .dataframe tbody tr th:only-of-type {\n",
       "        vertical-align: middle;\n",
       "    }\n",
       "\n",
       "    .dataframe tbody tr th {\n",
       "        vertical-align: top;\n",
       "    }\n",
       "\n",
       "    .dataframe thead th {\n",
       "        text-align: right;\n",
       "    }\n",
       "</style>\n",
       "<table border=\"1\" class=\"dataframe\">\n",
       "  <thead>\n",
       "    <tr style=\"text-align: right;\">\n",
       "      <th></th>\n",
       "      <th>Centroid Distance (Euclidean)</th>\n",
       "      <th>Centroid Distance (Cosine)</th>\n",
       "      <th>Avg Cosine Similarity (Novice)</th>\n",
       "      <th>Avg Cosine Similarity (Expert)</th>\n",
       "      <th>Avg Dist to Centroid (Novice)</th>\n",
       "      <th>Avg Dist to Centroid (Expert)</th>\n",
       "      <th>PCA Explained Variance Ratio (1st)</th>\n",
       "      <th>PCA Components &gt; 95% Variance</th>\n",
       "      <th>Convex Hull Area (Novice)</th>\n",
       "      <th>Convex Hull Area (Expert)</th>\n",
       "      <th>Intra-cluster Distance Mean (Novice)</th>\n",
       "      <th>Intra-cluster Distance Std (Novice)</th>\n",
       "      <th>Intra-cluster Distance Mean (Expert)</th>\n",
       "      <th>Intra-cluster Distance Std (Expert)</th>\n",
       "      <th>Inter-cluster Distance Mean</th>\n",
       "      <th>KL Divergence (Novice || Expert)</th>\n",
       "      <th>Spectral Entropy</th>\n",
       "      <th>KDE Mean Log Density (Novice)</th>\n",
       "      <th>KDE Mean Log Density (Expert)</th>\n",
       "      <th>Topic</th>\n",
       "    </tr>\n",
       "  </thead>\n",
       "  <tbody>\n",
       "    <tr>\n",
       "      <th>0</th>\n",
       "      <td>0.368802</td>\n",
       "      <td>0.241387</td>\n",
       "      <td>0.243386</td>\n",
       "      <td>0.263722</td>\n",
       "      <td>0.848866</td>\n",
       "      <td>0.839989</td>\n",
       "      <td>0.082863</td>\n",
       "      <td>42</td>\n",
       "      <td>0.633201</td>\n",
       "      <td>0.705120</td>\n",
       "      <td>1.223695</td>\n",
       "      <td>0.125696</td>\n",
       "      <td>1.209877</td>\n",
       "      <td>0.093565</td>\n",
       "      <td>1.250215</td>\n",
       "      <td>0.0</td>\n",
       "      <td>2.632256</td>\n",
       "      <td>-353.580624</td>\n",
       "      <td>-353.564525</td>\n",
       "      <td>decision making</td>\n",
       "    </tr>\n",
       "    <tr>\n",
       "      <th>1</th>\n",
       "      <td>0.404230</td>\n",
       "      <td>0.195069</td>\n",
       "      <td>0.411724</td>\n",
       "      <td>0.350017</td>\n",
       "      <td>0.737093</td>\n",
       "      <td>0.779598</td>\n",
       "      <td>0.119892</td>\n",
       "      <td>30</td>\n",
       "      <td>0.748832</td>\n",
       "      <td>0.548852</td>\n",
       "      <td>1.074280</td>\n",
       "      <td>0.149911</td>\n",
       "      <td>1.132718</td>\n",
       "      <td>0.130062</td>\n",
       "      <td>1.147310</td>\n",
       "      <td>0.0</td>\n",
       "      <td>2.437672</td>\n",
       "      <td>-353.409199</td>\n",
       "      <td>-353.468351</td>\n",
       "      <td>creativity</td>\n",
       "    </tr>\n",
       "    <tr>\n",
       "      <th>2</th>\n",
       "      <td>0.386157</td>\n",
       "      <td>0.234890</td>\n",
       "      <td>0.273316</td>\n",
       "      <td>0.302696</td>\n",
       "      <td>0.829539</td>\n",
       "      <td>0.813893</td>\n",
       "      <td>0.102860</td>\n",
       "      <td>39</td>\n",
       "      <td>0.694310</td>\n",
       "      <td>0.732719</td>\n",
       "      <td>1.199135</td>\n",
       "      <td>0.124271</td>\n",
       "      <td>1.173829</td>\n",
       "      <td>0.129354</td>\n",
       "      <td>1.225425</td>\n",
       "      <td>0.0</td>\n",
       "      <td>2.586037</td>\n",
       "      <td>-353.548516</td>\n",
       "      <td>-353.523945</td>\n",
       "      <td>nutrition</td>\n",
       "    </tr>\n",
       "    <tr>\n",
       "      <th>3</th>\n",
       "      <td>0.307311</td>\n",
       "      <td>0.179483</td>\n",
       "      <td>0.230105</td>\n",
       "      <td>0.226523</td>\n",
       "      <td>0.855964</td>\n",
       "      <td>0.853122</td>\n",
       "      <td>0.112125</td>\n",
       "      <td>37</td>\n",
       "      <td>0.545050</td>\n",
       "      <td>0.695231</td>\n",
       "      <td>1.235238</td>\n",
       "      <td>0.118222</td>\n",
       "      <td>1.237180</td>\n",
       "      <td>0.127824</td>\n",
       "      <td>1.246767</td>\n",
       "      <td>0.0</td>\n",
       "      <td>2.542845</td>\n",
       "      <td>-353.590129</td>\n",
       "      <td>-353.581175</td>\n",
       "      <td>language acquisition</td>\n",
       "    </tr>\n",
       "    <tr>\n",
       "      <th>4</th>\n",
       "      <td>0.319625</td>\n",
       "      <td>0.200590</td>\n",
       "      <td>0.187319</td>\n",
       "      <td>0.245271</td>\n",
       "      <td>0.879869</td>\n",
       "      <td>0.849694</td>\n",
       "      <td>0.102581</td>\n",
       "      <td>39</td>\n",
       "      <td>0.671113</td>\n",
       "      <td>0.683092</td>\n",
       "      <td>1.270484</td>\n",
       "      <td>0.105978</td>\n",
       "      <td>1.224510</td>\n",
       "      <td>0.100164</td>\n",
       "      <td>1.262741</td>\n",
       "      <td>0.0</td>\n",
       "      <td>2.574360</td>\n",
       "      <td>-353.625278</td>\n",
       "      <td>-353.577265</td>\n",
       "      <td>climate</td>\n",
       "    </tr>\n",
       "    <tr>\n",
       "      <th>5</th>\n",
       "      <td>0.330725</td>\n",
       "      <td>0.151666</td>\n",
       "      <td>0.341814</td>\n",
       "      <td>0.312726</td>\n",
       "      <td>0.787152</td>\n",
       "      <td>0.804015</td>\n",
       "      <td>0.086392</td>\n",
       "      <td>34</td>\n",
       "      <td>0.655250</td>\n",
       "      <td>0.692103</td>\n",
       "      <td>1.141048</td>\n",
       "      <td>0.119924</td>\n",
       "      <td>1.166842</td>\n",
       "      <td>0.114136</td>\n",
       "      <td>1.173768</td>\n",
       "      <td>0.0</td>\n",
       "      <td>2.511376</td>\n",
       "      <td>-353.483522</td>\n",
       "      <td>-353.505740</td>\n",
       "      <td>vision</td>\n",
       "    </tr>\n",
       "    <tr>\n",
       "      <th>6</th>\n",
       "      <td>0.424083</td>\n",
       "      <td>0.277903</td>\n",
       "      <td>0.237824</td>\n",
       "      <td>0.291824</td>\n",
       "      <td>0.830828</td>\n",
       "      <td>0.809939</td>\n",
       "      <td>0.128472</td>\n",
       "      <td>22</td>\n",
       "      <td>0.672676</td>\n",
       "      <td>0.532731</td>\n",
       "      <td>1.226880</td>\n",
       "      <td>0.138266</td>\n",
       "      <td>1.187519</td>\n",
       "      <td>0.078435</td>\n",
       "      <td>1.234728</td>\n",
       "      <td>0.0</td>\n",
       "      <td>2.274094</td>\n",
       "      <td>-353.534936</td>\n",
       "      <td>-353.506282</td>\n",
       "      <td>AI</td>\n",
       "    </tr>\n",
       "    <tr>\n",
       "      <th>7</th>\n",
       "      <td>0.334863</td>\n",
       "      <td>0.125817</td>\n",
       "      <td>0.332250</td>\n",
       "      <td>0.439671</td>\n",
       "      <td>0.780157</td>\n",
       "      <td>0.721012</td>\n",
       "      <td>0.121534</td>\n",
       "      <td>25</td>\n",
       "      <td>0.723378</td>\n",
       "      <td>0.607493</td>\n",
       "      <td>1.146479</td>\n",
       "      <td>0.145214</td>\n",
       "      <td>1.052610</td>\n",
       "      <td>0.112566</td>\n",
       "      <td>1.113112</td>\n",
       "      <td>0.0</td>\n",
       "      <td>2.338488</td>\n",
       "      <td>-353.466206</td>\n",
       "      <td>-353.382072</td>\n",
       "      <td>memory</td>\n",
       "    </tr>\n",
       "    <tr>\n",
       "      <th>8</th>\n",
       "      <td>0.310355</td>\n",
       "      <td>0.103599</td>\n",
       "      <td>0.401556</td>\n",
       "      <td>0.443887</td>\n",
       "      <td>0.739124</td>\n",
       "      <td>0.710946</td>\n",
       "      <td>0.114561</td>\n",
       "      <td>24</td>\n",
       "      <td>0.722871</td>\n",
       "      <td>0.481610</td>\n",
       "      <td>1.084411</td>\n",
       "      <td>0.144711</td>\n",
       "      <td>1.042940</td>\n",
       "      <td>0.156528</td>\n",
       "      <td>1.072134</td>\n",
       "      <td>0.0</td>\n",
       "      <td>2.328580</td>\n",
       "      <td>-353.410405</td>\n",
       "      <td>-353.372551</td>\n",
       "      <td>time</td>\n",
       "    </tr>\n",
       "    <tr>\n",
       "      <th>9</th>\n",
       "      <td>0.360291</td>\n",
       "      <td>0.178216</td>\n",
       "      <td>0.326822</td>\n",
       "      <td>0.298126</td>\n",
       "      <td>0.779444</td>\n",
       "      <td>0.807662</td>\n",
       "      <td>0.119069</td>\n",
       "      <td>24</td>\n",
       "      <td>0.599649</td>\n",
       "      <td>0.698778</td>\n",
       "      <td>1.152535</td>\n",
       "      <td>0.134235</td>\n",
       "      <td>1.178451</td>\n",
       "      <td>0.122472</td>\n",
       "      <td>1.179090</td>\n",
       "      <td>0.0</td>\n",
       "      <td>2.328838</td>\n",
       "      <td>-353.461794</td>\n",
       "      <td>-353.509646</td>\n",
       "      <td>robotics</td>\n",
       "    </tr>\n",
       "    <tr>\n",
       "      <th>10</th>\n",
       "      <td>0.398366</td>\n",
       "      <td>0.252999</td>\n",
       "      <td>0.249089</td>\n",
       "      <td>0.295267</td>\n",
       "      <td>0.838469</td>\n",
       "      <td>0.810498</td>\n",
       "      <td>0.111933</td>\n",
       "      <td>30</td>\n",
       "      <td>0.705815</td>\n",
       "      <td>0.729440</td>\n",
       "      <td>1.220064</td>\n",
       "      <td>0.115172</td>\n",
       "      <td>1.179991</td>\n",
       "      <td>0.130725</td>\n",
       "      <td>1.232928</td>\n",
       "      <td>0.0</td>\n",
       "      <td>2.448908</td>\n",
       "      <td>-353.556754</td>\n",
       "      <td>-353.517664</td>\n",
       "      <td>mental health</td>\n",
       "    </tr>\n",
       "    <tr>\n",
       "      <th>11</th>\n",
       "      <td>0.367689</td>\n",
       "      <td>0.167139</td>\n",
       "      <td>0.335786</td>\n",
       "      <td>0.366006</td>\n",
       "      <td>0.775251</td>\n",
       "      <td>0.759025</td>\n",
       "      <td>0.111964</td>\n",
       "      <td>21</td>\n",
       "      <td>0.580188</td>\n",
       "      <td>0.556933</td>\n",
       "      <td>1.143025</td>\n",
       "      <td>0.148061</td>\n",
       "      <td>1.121157</td>\n",
       "      <td>0.104856</td>\n",
       "      <td>1.145069</td>\n",
       "      <td>0.0</td>\n",
       "      <td>2.250539</td>\n",
       "      <td>-353.458296</td>\n",
       "      <td>-353.430694</td>\n",
       "      <td>mind</td>\n",
       "    </tr>\n",
       "    <tr>\n",
       "      <th>12</th>\n",
       "      <td>0.381066</td>\n",
       "      <td>0.186356</td>\n",
       "      <td>0.330709</td>\n",
       "      <td>0.359431</td>\n",
       "      <td>0.785811</td>\n",
       "      <td>0.766515</td>\n",
       "      <td>0.109008</td>\n",
       "      <td>25</td>\n",
       "      <td>0.651075</td>\n",
       "      <td>0.845708</td>\n",
       "      <td>1.152143</td>\n",
       "      <td>0.105593</td>\n",
       "      <td>1.122645</td>\n",
       "      <td>0.144243</td>\n",
       "      <td>1.162820</td>\n",
       "      <td>0.0</td>\n",
       "      <td>2.342363</td>\n",
       "      <td>-353.470900</td>\n",
       "      <td>-353.450644</td>\n",
       "      <td>morals</td>\n",
       "    </tr>\n",
       "    <tr>\n",
       "      <th>13</th>\n",
       "      <td>0.295381</td>\n",
       "      <td>0.118029</td>\n",
       "      <td>0.325280</td>\n",
       "      <td>0.344407</td>\n",
       "      <td>0.794222</td>\n",
       "      <td>0.786570</td>\n",
       "      <td>0.102238</td>\n",
       "      <td>31</td>\n",
       "      <td>0.712291</td>\n",
       "      <td>0.627326</td>\n",
       "      <td>1.155848</td>\n",
       "      <td>0.115991</td>\n",
       "      <td>1.139900</td>\n",
       "      <td>0.108687</td>\n",
       "      <td>1.155296</td>\n",
       "      <td>0.0</td>\n",
       "      <td>2.467047</td>\n",
       "      <td>-353.489021</td>\n",
       "      <td>-353.479621</td>\n",
       "      <td>language</td>\n",
       "    </tr>\n",
       "  </tbody>\n",
       "</table>\n",
       "</div>"
      ],
      "text/plain": [
       "    Centroid Distance (Euclidean)  Centroid Distance (Cosine)  \\\n",
       "0                        0.368802                    0.241387   \n",
       "1                        0.404230                    0.195069   \n",
       "2                        0.386157                    0.234890   \n",
       "3                        0.307311                    0.179483   \n",
       "4                        0.319625                    0.200590   \n",
       "5                        0.330725                    0.151666   \n",
       "6                        0.424083                    0.277903   \n",
       "7                        0.334863                    0.125817   \n",
       "8                        0.310355                    0.103599   \n",
       "9                        0.360291                    0.178216   \n",
       "10                       0.398366                    0.252999   \n",
       "11                       0.367689                    0.167139   \n",
       "12                       0.381066                    0.186356   \n",
       "13                       0.295381                    0.118029   \n",
       "\n",
       "    Avg Cosine Similarity (Novice)  Avg Cosine Similarity (Expert)  \\\n",
       "0                         0.243386                        0.263722   \n",
       "1                         0.411724                        0.350017   \n",
       "2                         0.273316                        0.302696   \n",
       "3                         0.230105                        0.226523   \n",
       "4                         0.187319                        0.245271   \n",
       "5                         0.341814                        0.312726   \n",
       "6                         0.237824                        0.291824   \n",
       "7                         0.332250                        0.439671   \n",
       "8                         0.401556                        0.443887   \n",
       "9                         0.326822                        0.298126   \n",
       "10                        0.249089                        0.295267   \n",
       "11                        0.335786                        0.366006   \n",
       "12                        0.330709                        0.359431   \n",
       "13                        0.325280                        0.344407   \n",
       "\n",
       "    Avg Dist to Centroid (Novice)  Avg Dist to Centroid (Expert)  \\\n",
       "0                        0.848866                       0.839989   \n",
       "1                        0.737093                       0.779598   \n",
       "2                        0.829539                       0.813893   \n",
       "3                        0.855964                       0.853122   \n",
       "4                        0.879869                       0.849694   \n",
       "5                        0.787152                       0.804015   \n",
       "6                        0.830828                       0.809939   \n",
       "7                        0.780157                       0.721012   \n",
       "8                        0.739124                       0.710946   \n",
       "9                        0.779444                       0.807662   \n",
       "10                       0.838469                       0.810498   \n",
       "11                       0.775251                       0.759025   \n",
       "12                       0.785811                       0.766515   \n",
       "13                       0.794222                       0.786570   \n",
       "\n",
       "    PCA Explained Variance Ratio (1st)  PCA Components > 95% Variance  \\\n",
       "0                             0.082863                             42   \n",
       "1                             0.119892                             30   \n",
       "2                             0.102860                             39   \n",
       "3                             0.112125                             37   \n",
       "4                             0.102581                             39   \n",
       "5                             0.086392                             34   \n",
       "6                             0.128472                             22   \n",
       "7                             0.121534                             25   \n",
       "8                             0.114561                             24   \n",
       "9                             0.119069                             24   \n",
       "10                            0.111933                             30   \n",
       "11                            0.111964                             21   \n",
       "12                            0.109008                             25   \n",
       "13                            0.102238                             31   \n",
       "\n",
       "    Convex Hull Area (Novice)  Convex Hull Area (Expert)  \\\n",
       "0                    0.633201                   0.705120   \n",
       "1                    0.748832                   0.548852   \n",
       "2                    0.694310                   0.732719   \n",
       "3                    0.545050                   0.695231   \n",
       "4                    0.671113                   0.683092   \n",
       "5                    0.655250                   0.692103   \n",
       "6                    0.672676                   0.532731   \n",
       "7                    0.723378                   0.607493   \n",
       "8                    0.722871                   0.481610   \n",
       "9                    0.599649                   0.698778   \n",
       "10                   0.705815                   0.729440   \n",
       "11                   0.580188                   0.556933   \n",
       "12                   0.651075                   0.845708   \n",
       "13                   0.712291                   0.627326   \n",
       "\n",
       "    Intra-cluster Distance Mean (Novice)  Intra-cluster Distance Std (Novice)  \\\n",
       "0                               1.223695                             0.125696   \n",
       "1                               1.074280                             0.149911   \n",
       "2                               1.199135                             0.124271   \n",
       "3                               1.235238                             0.118222   \n",
       "4                               1.270484                             0.105978   \n",
       "5                               1.141048                             0.119924   \n",
       "6                               1.226880                             0.138266   \n",
       "7                               1.146479                             0.145214   \n",
       "8                               1.084411                             0.144711   \n",
       "9                               1.152535                             0.134235   \n",
       "10                              1.220064                             0.115172   \n",
       "11                              1.143025                             0.148061   \n",
       "12                              1.152143                             0.105593   \n",
       "13                              1.155848                             0.115991   \n",
       "\n",
       "    Intra-cluster Distance Mean (Expert)  Intra-cluster Distance Std (Expert)  \\\n",
       "0                               1.209877                             0.093565   \n",
       "1                               1.132718                             0.130062   \n",
       "2                               1.173829                             0.129354   \n",
       "3                               1.237180                             0.127824   \n",
       "4                               1.224510                             0.100164   \n",
       "5                               1.166842                             0.114136   \n",
       "6                               1.187519                             0.078435   \n",
       "7                               1.052610                             0.112566   \n",
       "8                               1.042940                             0.156528   \n",
       "9                               1.178451                             0.122472   \n",
       "10                              1.179991                             0.130725   \n",
       "11                              1.121157                             0.104856   \n",
       "12                              1.122645                             0.144243   \n",
       "13                              1.139900                             0.108687   \n",
       "\n",
       "    Inter-cluster Distance Mean  KL Divergence (Novice || Expert)  \\\n",
       "0                      1.250215                               0.0   \n",
       "1                      1.147310                               0.0   \n",
       "2                      1.225425                               0.0   \n",
       "3                      1.246767                               0.0   \n",
       "4                      1.262741                               0.0   \n",
       "5                      1.173768                               0.0   \n",
       "6                      1.234728                               0.0   \n",
       "7                      1.113112                               0.0   \n",
       "8                      1.072134                               0.0   \n",
       "9                      1.179090                               0.0   \n",
       "10                     1.232928                               0.0   \n",
       "11                     1.145069                               0.0   \n",
       "12                     1.162820                               0.0   \n",
       "13                     1.155296                               0.0   \n",
       "\n",
       "    Spectral Entropy  KDE Mean Log Density (Novice)  \\\n",
       "0           2.632256                    -353.580624   \n",
       "1           2.437672                    -353.409199   \n",
       "2           2.586037                    -353.548516   \n",
       "3           2.542845                    -353.590129   \n",
       "4           2.574360                    -353.625278   \n",
       "5           2.511376                    -353.483522   \n",
       "6           2.274094                    -353.534936   \n",
       "7           2.338488                    -353.466206   \n",
       "8           2.328580                    -353.410405   \n",
       "9           2.328838                    -353.461794   \n",
       "10          2.448908                    -353.556754   \n",
       "11          2.250539                    -353.458296   \n",
       "12          2.342363                    -353.470900   \n",
       "13          2.467047                    -353.489021   \n",
       "\n",
       "    KDE Mean Log Density (Expert)                 Topic  \n",
       "0                     -353.564525       decision making  \n",
       "1                     -353.468351            creativity  \n",
       "2                     -353.523945             nutrition  \n",
       "3                     -353.581175  language acquisition  \n",
       "4                     -353.577265               climate  \n",
       "5                     -353.505740                vision  \n",
       "6                     -353.506282                    AI  \n",
       "7                     -353.382072                memory  \n",
       "8                     -353.372551                  time  \n",
       "9                     -353.509646              robotics  \n",
       "10                    -353.517664         mental health  \n",
       "11                    -353.430694                  mind  \n",
       "12                    -353.450644                morals  \n",
       "13                    -353.479621              language  "
      ]
     },
     "execution_count": 16,
     "metadata": {},
     "output_type": "execute_result"
    }
   ],
   "source": [
    "stats_df"
   ]
  },
  {
   "cell_type": "code",
   "execution_count": null,
   "id": "4288fc30-f0db-4548-9681-88feadde1743",
   "metadata": {},
   "outputs": [],
   "source": []
  }
 ],
 "metadata": {
  "kernelspec": {
   "display_name": "Python 3 (ipykernel)",
   "language": "python",
   "name": "python3"
  },
  "language_info": {
   "codemirror_mode": {
    "name": "ipython",
    "version": 3
   },
   "file_extension": ".py",
   "mimetype": "text/x-python",
   "name": "python",
   "nbconvert_exporter": "python",
   "pygments_lexer": "ipython3",
   "version": "3.11.8"
  }
 },
 "nbformat": 4,
 "nbformat_minor": 5
}
